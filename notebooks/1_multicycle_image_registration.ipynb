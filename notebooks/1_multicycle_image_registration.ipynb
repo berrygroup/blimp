{
 "cells": [
  {
   "attachments": {},
   "cell_type": "markdown",
   "metadata": {},
   "source": [
    "# Multi-cycle image registration\n",
    "\n",
    "It is often advantageous to acquire data in multiple cycles, in which different objects are stained in different imaging cycles. A key step in preprocessing these kinds of data is image registration. This is implemented in ``blimp`` using functions in ``blimp.preprocessing.registration``. This notebook demonstrates the use of these functions for correcting image data."
   ]
  },
  {
   "attachments": {},
   "cell_type": "markdown",
   "metadata": {},
   "source": [
    "Note: You must run ``notebooks/0_setup.ipynb`` first to specify the configuration and download the test data."
   ]
  },
  {
   "cell_type": "code",
   "execution_count": 1,
   "metadata": {},
   "outputs": [
    {
     "name": "stderr",
     "output_type": "stream",
     "text": [
      "24-Jan-23 21:50:18 - bfio.backends - WARNING  - Java backend is not available. This could be due to a missing dependency (jpype).\n",
      "IProgress not found. Please update jupyter and ipywidgets. See https://ipywidgets.readthedocs.io/en/stable/user_install.html\n"
     ]
    },
    {
     "name": "stdout",
     "output_type": "stream",
     "text": [
      "Reading config from /Users/scottberry/source/blimp/notebooks/blimp.ini\n",
      "unpacked_dir = /Users/scottberry/source/blimp/notebooks/_data/raw\n",
      "archive_path = /Users/scottberry/source/blimp/notebooks/_data/archive/_data.zip\n",
      "Reading config from blimp.ini\n",
      "BLIMPConfig (fname: blimp.ini)\n",
      "EXPERIMENT_DIR: /Users/scottberry/source/blimp/notebooks/_experiments\n",
      "BASE_DATA_DIR: /Users/scottberry/source/blimp/notebooks/_data/raw\n",
      "data_config/exampledata: /Users/scottberry/source/blimp/notebooks/ExampleData_constants.py\n",
      "\n"
     ]
    }
   ],
   "source": [
    "import napari\n",
    "\n",
    "from IPython.display import display\n",
    "import numpy as np\n",
    "import matplotlib.pyplot as plt\n",
    "import logging\n",
    "import skimage\n",
    "\n",
    "from blimp.data import load_example_data\n",
    "from blimp.log import configure_logging\n",
    "from blimp.constants import blimp_config\n",
    "from blimp.preprocessing.registration import (\n",
    "    calculate_shifts,\n",
    "    apply_shifts,\n",
    "    register_2D,\n",
    "    transform_2D,\n",
    "    TransformationParameters\n",
    ")\n",
    "from aicsimageio import AICSImage\n",
    "from pathlib import Path\n",
    "\n",
    "configure_logging(verbosity=2)\n",
    "# ensure that example data is downloaded\n",
    "load_example_data()\n",
    "# read correct blimp_config -- created with 0_setup.ipynb\n",
    "blimp_config.config_fname = \"blimp.ini\"\n",
    "print(blimp_config)\n"
   ]
  },
  {
   "attachments": {},
   "cell_type": "markdown",
   "metadata": {},
   "source": [
    "Load some images from the examples directory using the ``aicsimageio`` package"
   ]
  },
  {
   "cell_type": "code",
   "execution_count": 2,
   "metadata": {},
   "outputs": [
    {
     "name": "stderr",
     "output_type": "stream",
     "text": [
      "The default XML parser will be changing from 'xmlschema' to 'lxml' in version 0.4.0.  To silence this warning, please provide the `parser` argument, specifying either 'lxml' (to opt into the new behavior), or'xmlschema' (to retain the old behavior).\n"
     ]
    }
   ],
   "source": [
    "cyc01 = AICSImage(Path(blimp_config.BASE_DATA_DIR) / '_data' / 'operetta_cls_multiplex' / 'cycle_01' / 'r05c03f15-fk1fl1-mip.ome.tiff')\n",
    "cyc02 = AICSImage(Path(blimp_config.BASE_DATA_DIR) / '_data' / 'operetta_cls_multiplex' / 'cycle_02' / 'r05c03f15-fk1fl1-mip.ome.tiff')"
   ]
  },
  {
   "cell_type": "code",
   "execution_count": 3,
   "metadata": {},
   "outputs": [
    {
     "data": {
      "text/plain": [
       "<AICSImage [Reader: OmeTiffReader, Image-is-in-Memory: False]>"
      ]
     },
     "execution_count": 3,
     "metadata": {},
     "output_type": "execute_result"
    }
   ],
   "source": [
    "cyc01"
   ]
  },
  {
   "cell_type": "code",
   "execution_count": 4,
   "metadata": {},
   "outputs": [
    {
     "name": "stdout",
     "output_type": "stream",
     "text": [
      "['DAPI', 'Alexa 568']\n",
      "<Dimensions [T: 1, C: 2, Z: 1, Y: 2160, X: 2160]>\n"
     ]
    }
   ],
   "source": [
    "print(cyc01.channel_names)\n",
    "print(cyc01.dims)"
   ]
  },
  {
   "attachments": {},
   "cell_type": "markdown",
   "metadata": {},
   "source": [
    "get some input data"
   ]
  },
  {
   "cell_type": "code",
   "execution_count": 5,
   "metadata": {},
   "outputs": [],
   "source": [
    "dapi01 = cyc01.get_image_data(\"YX\",C=0)\n",
    "dapi02 = cyc02.get_image_data(\"YX\",C=0)"
   ]
  },
  {
   "attachments": {},
   "cell_type": "markdown",
   "metadata": {},
   "source": [
    "generate a rotated version of dapi02 and crop dapi01 to match size"
   ]
  },
  {
   "attachments": {},
   "cell_type": "markdown",
   "metadata": {},
   "source": [
    "# multi-cycle data\n",
    "\n",
    "Data acquired on the operetta in a real two-cycle experiment. "
   ]
  },
  {
   "cell_type": "code",
   "execution_count": 15,
   "metadata": {},
   "outputs": [
    {
     "data": {
      "text/plain": [
       "<Image layer 'Cycle 2 - uncorrected' at 0x7fa4a43e6130>"
      ]
     },
     "execution_count": 15,
     "metadata": {},
     "output_type": "execute_result"
    }
   ],
   "source": [
    "viewer = napari.view_image(dapi01,colormap=\"red\",blending=\"additive\",name=\"Cycle 1 - uncorrected\")\n",
    "viewer.add_image(dapi02,colormap=\"green\",blending=\"additive\",name=\"Cycle 2 - uncorrected\")"
   ]
  },
  {
   "attachments": {},
   "cell_type": "markdown",
   "metadata": {},
   "source": [
    "Align cycle 2 to cycle 1"
   ]
  },
  {
   "cell_type": "code",
   "execution_count": 8,
   "metadata": {},
   "outputs": [],
   "source": [
    "settings = TransformationParameters('rigid')\n",
    "dapi02_corrected, parameters_cyc01_cyc02 = register_2D(fixed=dapi01, moving=dapi02, settings=settings)"
   ]
  },
  {
   "cell_type": "code",
   "execution_count": 9,
   "metadata": {},
   "outputs": [
    {
     "data": {
      "text/plain": [
       "<Image layer 'Cycle 2 - corrected' at 0x7fa495c96880>"
      ]
     },
     "execution_count": 9,
     "metadata": {},
     "output_type": "execute_result"
    }
   ],
   "source": [
    "viewer.add_image(dapi02_corrected,colormap=\"blue\",blending=\"additive\",name=\"Cycle 2 - corrected\")"
   ]
  },
  {
   "cell_type": "code",
   "execution_count": 11,
   "metadata": {},
   "outputs": [
    {
     "data": {
      "text/plain": [
       "<Image layer 'Cycle 1 - rotated' at 0x7fa45063bdc0>"
      ]
     },
     "execution_count": 11,
     "metadata": {},
     "output_type": "execute_result"
    }
   ],
   "source": [
    "viewer2 = napari.view_image(dapi01_crop,colormap=\"red\",blending=\"additive\",name=\"Cycle 2 - raw\")\n",
    "viewer2.add_image(dapi02_rotated_crop,colormap=\"green\",blending=\"additive\",name=\"Cycle 1 - rotated\")"
   ]
  },
  {
   "attachments": {},
   "cell_type": "markdown",
   "metadata": {},
   "source": [
    "## simulated rotations\n",
    "\n",
    "Try with the simulated data that has been rotated"
   ]
  },
  {
   "cell_type": "code",
   "execution_count": 33,
   "metadata": {},
   "outputs": [
    {
     "data": {
      "text/plain": [
       "<Image layer 'Cycle 2 - rotated' at 0x7fa496d6c190>"
      ]
     },
     "execution_count": 33,
     "metadata": {},
     "output_type": "execute_result"
    }
   ],
   "source": [
    "dapi02_rotated = skimage.transform.rotate(dapi02,3,preserve_range=True).astype(np.uint16)\n",
    "# remove outer 100 pixels\n",
    "dapi02_rotated_crop = dapi02_rotated[100:-100,100:-100]\n",
    "dapi01_crop = dapi01[100:-100,100:-100]\n",
    "\n",
    "viewer2 = napari.view_image(dapi01_crop,colormap=\"red\",blending=\"additive\",name=\"Cycle 1 - original\")\n",
    "viewer2.add_image(dapi02_rotated_crop,colormap=\"green\",blending=\"additive\",name=\"Cycle 2 - rotated\")"
   ]
  },
  {
   "attachments": {},
   "cell_type": "markdown",
   "metadata": {},
   "source": [
    "Test first using translation only"
   ]
  },
  {
   "cell_type": "code",
   "execution_count": 34,
   "metadata": {},
   "outputs": [
    {
     "data": {
      "text/plain": [
       "<Image layer 'Cycle 1 - registered (translation)' at 0x7fa496d6cb20>"
      ]
     },
     "execution_count": 34,
     "metadata": {},
     "output_type": "execute_result"
    }
   ],
   "source": [
    "dapi02_rotated_crop_registered, translation_parameters = register_2D(\n",
    "    fixed=dapi01_crop,\n",
    "    moving=dapi02_rotated_crop,\n",
    "    settings=TransformationParameters(transformation_mode='translation')\n",
    ")\n",
    "\n",
    "viewer2.add_image(dapi02_rotated_crop_registered,colormap=\"blue\",blending=\"additive\",name=\"Cycle 1 - registered (translation)\")"
   ]
  },
  {
   "attachments": {},
   "cell_type": "markdown",
   "metadata": {},
   "source": [
    "now allow rotations in addition to translation"
   ]
  },
  {
   "cell_type": "code",
   "execution_count": 36,
   "metadata": {},
   "outputs": [
    {
     "data": {
      "text/plain": [
       "<Image layer 'Cycle 1 - registered (rotation)' at 0x7fa496d6c130>"
      ]
     },
     "execution_count": 36,
     "metadata": {},
     "output_type": "execute_result"
    }
   ],
   "source": [
    "dapi02_rotated_crop_registered_rigid, rigid_parameters = register_2D(\n",
    "    fixed=dapi01_crop,\n",
    "    moving=dapi02_rotated_crop,\n",
    "    settings=TransformationParameters(transformation_mode='rigid')\n",
    ")\n",
    "\n",
    "viewer2.add_image(dapi02_rotated_crop_registered_rigid,colormap=\"blue\",blending=\"additive\",name=\"Cycle 1 - registered (rotation)\")"
   ]
  }
 ],
 "metadata": {
  "kernelspec": {
   "display_name": "berrylab-default",
   "language": "python",
   "name": "python3"
  },
  "language_info": {
   "codemirror_mode": {
    "name": "ipython",
    "version": 3
   },
   "file_extension": ".py",
   "mimetype": "text/x-python",
   "name": "python",
   "nbconvert_exporter": "python",
   "pygments_lexer": "ipython3",
   "version": "3.8.15"
  },
  "vscode": {
   "interpreter": {
    "hash": "60b8c657399aad6f9d89cbf9465e7c1c57998666dc051fd8b62b971f18a5d01e"
   }
  }
 },
 "nbformat": 4,
 "nbformat_minor": 4
}
