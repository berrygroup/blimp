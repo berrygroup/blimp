{
 "cells": [
  {
   "attachments": {},
   "cell_type": "markdown",
   "id": "87bacc61",
   "metadata": {},
   "source": [
    "# Illumination correction\n",
    "\n",
    "Due to reduced intensity illumination/collection away from the optical axis of the objective lens, it is typical for many microscopes (particularly camera-based systems) to have an illumination bias near the edges of the field-of-view.\n",
    "\n",
    "To correct for this, we use typically use the [BaSiC method](https://doi.org/10.1038/ncomms14836) to derive two correction matrices from a reference sample. These can then be applied to the raw data to correct the biases. This is implemented in the ``basicpy`` package [https://github.com/peng-lab/BaSiCPy]. This package also covers correction of time-lapse data. We consider both cases in this example.  "
   ]
  },
  {
   "attachments": {},
   "cell_type": "markdown",
   "id": "8625c3a3",
   "metadata": {},
   "source": [
    "## Uneven illumination across the field-of-view"
   ]
  },
  {
   "attachments": {},
   "cell_type": "markdown",
   "id": "510e528a",
   "metadata": {},
   "source": [
    "Note: You must run ``notebooks/0_setup.ipynb`` first to specify the configuration and download the test data."
   ]
  },
  {
   "cell_type": "code",
   "execution_count": 1,
   "id": "7c4d3d34-0c92-4ecd-82d2-d3f893661e9d",
   "metadata": {},
   "outputs": [
    {
     "name": "stderr",
     "output_type": "stream",
     "text": [
      "WARNING:bfio.backends:Java backend is not available. This could be due to a missing dependency (jpype).\n"
     ]
    },
    {
     "name": "stdout",
     "output_type": "stream",
     "text": [
      "Reading config from /Users/scottberry/source/blimp/notebooks/blimp.ini\n",
      "unpacked_dir = /Users/scottberry/source/blimp/notebooks/_data/raw\n",
      "archive_path = /Users/scottberry/source/blimp/notebooks/_data/archive/_data.zip\n",
      "Reading config from blimp.ini\n",
      "BLIMPConfig (fname: blimp.ini)\n",
      "EXPERIMENT_DIR: /Users/scottberry/source/blimp/notebooks/_experiments\n",
      "BASE_DATA_DIR: /Users/scottberry/source/blimp/notebooks/_data/raw\n",
      "data_config/exampledata: /Users/scottberry/source/blimp/notebooks/ExampleData_constants.py\n",
      "\n"
     ]
    }
   ],
   "source": [
    "import napari\n",
    "import numpy as np\n",
    "import pandas as pb\n",
    "import basicpy\n",
    "from aicsimageio import AICSImage\n",
    "from matplotlib import pyplot as plt\n",
    "\n",
    "from blimp.data import load_example_data\n",
    "from blimp.log import configure_logging\n",
    "from blimp.constants import blimp_config\n",
    "from aicsimageio import AICSImage\n",
    "from pathlib import Path\n",
    "\n",
    "configure_logging(verbosity=2)\n",
    "# ensure that example data is downloaded\n",
    "load_example_data()\n",
    "# read correct blimp_config -- created with 0_setup.ipynb\n",
    "blimp_config.config_fname = \"blimp.ini\"\n",
    "# load the exampledata configuration\n",
    "example_data_config = blimp_config.get_data_config('exampledata')\n",
    "print(blimp_config)"
   ]
  },
  {
   "attachments": {},
   "cell_type": "markdown",
   "id": "7c0b251e",
   "metadata": {},
   "source": [
    "The following images are dyes in solution (Alexa-488, Alexa-568, Alexa-647) imaged on the Nikon N-storm. To use both images (from different positions), these can be combined along the 'T' axis of the ``AICSImage``. "
   ]
  },
  {
   "cell_type": "code",
   "execution_count": 2,
   "id": "755e7d58",
   "metadata": {},
   "outputs": [],
   "source": [
    "bf1 = AICSImage(Path(example_data_config.DATA_DIR) / 'nstorm_illumination_bias' /  '221103_brightfield_488_568_647_1.nd2')\n",
    "bf2 = AICSImage(Path(example_data_config.DATA_DIR) / 'nstorm_illumination_bias' /  '221103_brightfield_488_568_647_2.nd2')\n",
    "\n",
    "# here we use 'T' as the multi-point axis\n",
    "bf = AICSImage(\n",
    "    np.stack(\n",
    "        [\n",
    "            bf1.get_image_dask_data('CZYX'),\n",
    "            bf2.get_image_dask_data('CZYX'),\n",
    "        ],\n",
    "        axis=0),\n",
    "    physical_pixel_sizes = bf1.physical_pixel_sizes,\n",
    "    channel_names=bf1.channel_names\n",
    ")"
   ]
  },
  {
   "cell_type": "code",
   "execution_count": null,
   "id": "62ce2d2c",
   "metadata": {},
   "outputs": [],
   "source": [
    "bf.shape"
   ]
  },
  {
   "cell_type": "code",
   "execution_count": null,
   "id": "f4444841",
   "metadata": {},
   "outputs": [],
   "source": [
    "fig, axes = plt.subplots(1, 3, figsize=(9, 3))\n",
    "im = axes[0].imshow(bf.get_image_data('YX',C=0,T=0), vmin=0, vmax=350)\n",
    "fig.colorbar(im, ax=axes[0])\n",
    "axes[0].set_title(\"488\")\n",
    "im = axes[1].imshow(bf.get_image_data('YX',C=1,T=0), vmin=0, vmax=1500)\n",
    "fig.colorbar(im, ax=axes[1])\n",
    "axes[1].set_title(\"568\")\n",
    "im = axes[2].imshow(bf.get_image_data('YX',C=2,T=0), vmin=0, vmax=1500)\n",
    "fig.colorbar(im, ax=axes[2])\n",
    "axes[2].set_title(\"647\")\n",
    "fig.tight_layout()"
   ]
  },
  {
   "attachments": {},
   "cell_type": "markdown",
   "id": "4e4bde2b",
   "metadata": {},
   "source": [
    "We can use basicpy to correct these artefacts"
   ]
  },
  {
   "cell_type": "code",
   "execution_count": null,
   "id": "12d88961",
   "metadata": {},
   "outputs": [],
   "source": [
    "illum_corr = [basicpy.BaSiC() for _ in range(3)]\n",
    "[illum_corr[c].fit(bf.get_image_data('TYX',C=c)) for c in range(3)]"
   ]
  },
  {
   "cell_type": "code",
   "execution_count": null,
   "id": "203f56b2",
   "metadata": {},
   "outputs": [],
   "source": [
    "fig, axes = plt.subplots(1, 3, figsize=(9, 3))\n",
    "im = axes[0].imshow(illum_corr[0].flatfield)\n",
    "fig.colorbar(im, ax=axes[0])\n",
    "axes[0].set_title(\"Flatfield\")\n",
    "im = axes[1].imshow(illum_corr[0].darkfield)\n",
    "fig.colorbar(im, ax=axes[1])\n",
    "axes[1].set_title(\"Darkfield\")\n",
    "axes[2].plot(illum_corr[0].baseline)\n",
    "axes[2].set_xlabel(\"Frame\")\n",
    "axes[2].set_ylabel(\"Baseline\")\n",
    "fig.tight_layout()"
   ]
  },
  {
   "cell_type": "code",
   "execution_count": null,
   "id": "ec22d29c",
   "metadata": {},
   "outputs": [],
   "source": [
    "bf_transformed = illum_corr[0].transform(bf.get_image_data('TYX',C=0))\n",
    "fig, axes = plt.subplots(1, 2, figsize=(6, 3))\n",
    "im = axes[0].imshow(bf.get_image_data('YX',C=0,T=0), vmin=0, vmax=300)\n",
    "fig.colorbar(im, ax=axes[0])\n",
    "axes[0].set_title(\"Original\")\n",
    "im = axes[1].imshow(bf_transformed[1], vmin=0, vmax=300)\n",
    "fig.colorbar(im, ax=axes[1])\n",
    "axes[1].set_title(\"Corrected\")\n",
    "fig.tight_layout()"
   ]
  },
  {
   "attachments": {},
   "cell_type": "markdown",
   "id": "6c7a13a2",
   "metadata": {},
   "source": [
    "If a brightfield image is not avaliable, this can be generated by averaging or concatenating a set of input images"
   ]
  },
  {
   "attachments": {},
   "cell_type": "markdown",
   "id": "54844f6d",
   "metadata": {},
   "source": [
    "## BLIMP interface\n",
    "\n",
    "Rather than dealing directly with the basicpy package. ``blimp`` wraps the functionality to act directly on ``AICSImage``s."
   ]
  },
  {
   "cell_type": "code",
   "execution_count": 3,
   "id": "377f5bb3",
   "metadata": {},
   "outputs": [
    {
     "name": "stdout",
     "output_type": "stream",
     "text": [
      "2023-02-08 01:49:02 | INFO     | Remote TPU is not linked into jax; skipping remote TPU. [[_make_tpu_driver_client @ /Users/scottberry/opt/anaconda3/envs/berrylab-default/lib/python3.8/site-packages/jax/_src/lib/xla_bridge.py:173]]\n",
      "2023-02-08 01:49:02 | INFO     | Unable to initialize backend 'tpu_driver': Could not initialize backend 'tpu_driver' [[backends @ /Users/scottberry/opt/anaconda3/envs/berrylab-default/lib/python3.8/site-packages/jax/_src/lib/xla_bridge.py:357]]\n",
      "2023-02-08 01:49:02 | INFO     | Unable to initialize backend 'cuda': module 'jaxlib.xla_extension' has no attribute 'GpuAllocatorConfig' [[backends @ /Users/scottberry/opt/anaconda3/envs/berrylab-default/lib/python3.8/site-packages/jax/_src/lib/xla_bridge.py:357]]\n",
      "2023-02-08 01:49:02 | INFO     | Unable to initialize backend 'rocm': module 'jaxlib.xla_extension' has no attribute 'GpuAllocatorConfig' [[backends @ /Users/scottberry/opt/anaconda3/envs/berrylab-default/lib/python3.8/site-packages/jax/_src/lib/xla_bridge.py:357]]\n",
      "2023-02-08 01:49:02 | INFO     | Unable to initialize backend 'tpu': module 'jaxlib.xla_extension' has no attribute 'get_tpu_client' [[backends @ /Users/scottberry/opt/anaconda3/envs/berrylab-default/lib/python3.8/site-packages/jax/_src/lib/xla_bridge.py:357]]\n",
      "2023-02-08 01:49:02 | INFO     | Unable to initialize backend 'plugin': xla_extension has no attributes named get_plugin_device_client. Compile TensorFlow with //tensorflow/compiler/xla/python:enable_plugin_device set to true (defaults to false) to enable this. [[backends @ /Users/scottberry/opt/anaconda3/envs/berrylab-default/lib/python3.8/site-packages/jax/_src/lib/xla_bridge.py:357]]\n"
     ]
    }
   ],
   "source": [
    "from blimp.preprocessing.illumination_correction import IlluminationCorrection, correct_illumination\n",
    "illumination_correction = IlluminationCorrection(reference_images=[bf1,bf2], timelapse=False)"
   ]
  },
  {
   "attachments": {},
   "cell_type": "markdown",
   "id": "1495c3b0",
   "metadata": {},
   "source": [
    "When using reference images to fit ``IlluminationCorrection``, additional keyword arguments as specified in ``basicpy.BaSiC`` will be used, for example:"
   ]
  },
  {
   "cell_type": "code",
   "execution_count": 4,
   "id": "e610e4aa",
   "metadata": {},
   "outputs": [],
   "source": [
    "illumination_correction = IlluminationCorrection(reference_images=[bf1,bf2], timelapse=False, smoothness_flatfield=1, smoothness_darkfield=5)"
   ]
  },
  {
   "attachments": {},
   "cell_type": "markdown",
   "id": "d55a57b2",
   "metadata": {},
   "source": [
    "These can then be applied to correct images using either a procedural or object oriented interface"
   ]
  },
  {
   "cell_type": "code",
   "execution_count": 4,
   "id": "6403f944",
   "metadata": {},
   "outputs": [
    {
     "data": {
      "text/plain": [
       "True"
      ]
     },
     "execution_count": 4,
     "metadata": {},
     "output_type": "execute_result"
    }
   ],
   "source": [
    "# object-oriented\n",
    "bf1_corrected_oo = illumination_correction.correct(bf1)\n",
    "\n",
    "# procedural\n",
    "bf1_corrected_pr = correct_illumination(bf1, illumination_correction)\n",
    "\n",
    "np.all(np.equal(bf1_corrected_pr.get_image_data(), bf1_corrected_oo.get_image_data()))"
   ]
  },
  {
   "attachments": {},
   "cell_type": "markdown",
   "id": "263e72b2",
   "metadata": {},
   "source": [
    "These functions also accept lists of images"
   ]
  },
  {
   "cell_type": "code",
   "execution_count": 5,
   "id": "cc2bb624",
   "metadata": {},
   "outputs": [],
   "source": [
    "# object-oriented\n",
    "bf_corrected_oo = illumination_correction.correct([bf1, bf2])\n",
    "\n",
    "# procedural\n",
    "bf_corrected_pr = correct_illumination([bf1,bf2], illumination_correction)\n"
   ]
  },
  {
   "cell_type": "code",
   "execution_count": 6,
   "id": "82057a17",
   "metadata": {},
   "outputs": [
    {
     "data": {
      "text/plain": [
       "[<AICSImage [Reader: ArrayLikeReader, Image-is-in-Memory: False]>,\n",
       " <AICSImage [Reader: ArrayLikeReader, Image-is-in-Memory: False]>]"
      ]
     },
     "execution_count": 6,
     "metadata": {},
     "output_type": "execute_result"
    }
   ],
   "source": [
    "bf_corrected_oo"
   ]
  },
  {
   "cell_type": "code",
   "execution_count": 8,
   "id": "d639deab",
   "metadata": {},
   "outputs": [
    {
     "data": {
      "image/png": "[encoded data removed]",
      "text/plain": [
       "<Figure size 600x300 with 4 Axes>"
      ]
     },
     "metadata": {},
     "output_type": "display_data"
    }
   ],
   "source": [
    "fig, axes = plt.subplots(1, 2, figsize=(6, 3))\n",
    "im = axes[0].imshow(bf1.get_image_data('YX',C=0,T=0), vmin=0, vmax=300)\n",
    "fig.colorbar(im, ax=axes[0])\n",
    "axes[0].set_title(\"Original\")\n",
    "im = axes[1].imshow(bf1_corrected_oo.get_image_data('YX',C=0,T=0), vmin=0, vmax=300)\n",
    "fig.colorbar(im, ax=axes[1])\n",
    "axes[1].set_title(\"Corrected\")\n",
    "fig.tight_layout()"
   ]
  },
  {
   "attachments": {},
   "cell_type": "markdown",
   "id": "9c34c33c",
   "metadata": {},
   "source": [
    "The ``IlluminationCorrection`` class has ``save`` and ``load`` methods"
   ]
  },
  {
   "cell_type": "code",
   "execution_count": 4,
   "id": "3bb25025",
   "metadata": {},
   "outputs": [],
   "source": [
    "import os\n",
    "results_path = Path(example_data_config.EXPERIMENT_DIR) / \"illumination_correction\"\n",
    "if not results_path.exists():\n",
    "    os.makedirs(results_path)"
   ]
  },
  {
   "cell_type": "code",
   "execution_count": 15,
   "id": "cf162abb",
   "metadata": {},
   "outputs": [],
   "source": [
    "illumination_correction.save(results_path / \"bf.pkl\")\n",
    "illumination_correction_from_file = IlluminationCorrection(from_file = results_path / \"bf.pkl\")\n",
    "\n",
    "# alternatively, a file can be loaded into an IlluminationCorrection object already instantiated\\n\",\n",
    "illumination_correction_from_file = IlluminationCorrection()\n",
    "illumination_correction_from_file.load(results_path / \"bf.pkl\")"
   ]
  },
  {
   "cell_type": "code",
   "execution_count": 19,
   "id": "5cca4e63",
   "metadata": {},
   "outputs": [
    {
     "name": "stdout",
     "output_type": "stream",
     "text": [
      "None\n"
     ]
    }
   ],
   "source": [
    "print(illumination_correction_from_file)"
   ]
  },
  {
   "cell_type": "code",
   "execution_count": 12,
   "id": "c3a322bb",
   "metadata": {},
   "outputs": [],
   "source": [
    "import pickle\n",
    "with open(illumination_correction.file_path,'wb') as f:\n",
    "    pickle.dump(illumination_correction, f)"
   ]
  },
  {
   "cell_type": "code",
   "execution_count": null,
   "id": "6087bac0",
   "metadata": {},
   "outputs": [],
   "source": [
    "a = correct_image(bf1,correction_objects)\n",
    "a.dims"
   ]
  },
  {
   "cell_type": "code",
   "execution_count": null,
   "id": "0820dde7",
   "metadata": {},
   "outputs": [],
   "source": [
    "correction_objects[0].transform(bf1.get_image_data('YX',C=0,Z=0,T=0))[0].shape"
   ]
  },
  {
   "cell_type": "code",
   "execution_count": null,
   "id": "3337cfe1",
   "metadata": {},
   "outputs": [],
   "source": [
    "bf1.get_image_data('YX',C=0,Z=0,T=0).shape"
   ]
  },
  {
   "cell_type": "code",
   "execution_count": null,
   "id": "78fb26cf-a6d6-4191-9c78-b240fbd521c9",
   "metadata": {},
   "outputs": [],
   "source": [
    "images = unbleached_images[0:2]\n",
    "av = average_images(images)\n",
    "concat = concatenate_images(images)"
   ]
  },
  {
   "cell_type": "code",
   "execution_count": null,
   "id": "ad122010-111b-4bc4-94b2-b7fc28ac734d",
   "metadata": {},
   "outputs": [],
   "source": [
    "av.shape"
   ]
  },
  {
   "cell_type": "code",
   "execution_count": null,
   "id": "0f3b54ea-b308-439b-83a8-d307d4731a19",
   "metadata": {},
   "outputs": [],
   "source": [
    "concat.shape"
   ]
  },
  {
   "cell_type": "code",
   "execution_count": null,
   "id": "ec5f60a9-c088-41c8-afb6-eee83b261336",
   "metadata": {},
   "outputs": [],
   "source": [
    "unbleached_images = [AICSImage(\"/srv/scratch/berrylab/z3532965/Nikon_AX_QPI/20221010_BleachChase_POLR2A/20221010_160654_024/OME-TIFF-MIP/WellE06_ChannelGFP,AF647_Seq0004_00\"+ str(i).zfill(2) +\".ome.tiff\") for i in range(1,17)]"
   ]
  },
  {
   "cell_type": "code",
   "execution_count": null,
   "id": "575de3b4-8616-4086-a6d3-e01566277523",
   "metadata": {},
   "outputs": [],
   "source": [
    "# generate an average over all sites for each time point"
   ]
  },
  {
   "cell_type": "code",
   "execution_count": null,
   "id": "35c71842-e38c-4a84-9621-2dac22a957dd",
   "metadata": {},
   "outputs": [],
   "source": [
    "unbleached_images[0].dims.shape"
   ]
  },
  {
   "cell_type": "code",
   "execution_count": null,
   "id": "dffc4bf6-8f4d-443a-a9ac-25dc78f1b90e",
   "metadata": {},
   "outputs": [],
   "source": [
    "average_image_c0 = np.mean([image.get_image_dask_data(\"TYX\", C=0) for image in unbleached_images],axis=0)"
   ]
  },
  {
   "cell_type": "code",
   "execution_count": null,
   "id": "859d903a-a8b1-42e4-bbc7-3c0022424c55",
   "metadata": {},
   "outputs": [],
   "source": [
    "average_image_c1 = np.mean([unbleached_images[i].get_image_data(\"TYX\", C=1) for i in range(0,16)],axis=0)"
   ]
  },
  {
   "cell_type": "code",
   "execution_count": null,
   "id": "e0f706f6-ee59-41e0-8552-9160c91aab48",
   "metadata": {},
   "outputs": [],
   "source": [
    "viewer = napari.view_image(average_image_c0)"
   ]
  },
  {
   "cell_type": "code",
   "execution_count": null,
   "id": "49f4391a-0d2d-4baf-a49d-bf1bfe5df038",
   "metadata": {},
   "outputs": [],
   "source": [
    "illum_corr = basicpy.BaSiC(get_darkfield=True, smoothness_flatfield=5,smoothness_darkfield=5)\n",
    "illum_corr.fit(average_image_c0)"
   ]
  },
  {
   "cell_type": "code",
   "execution_count": null,
   "id": "a06616d1-ab19-4a80-baf3-974ae8d053bc",
   "metadata": {},
   "outputs": [],
   "source": [
    "fig, axes = plt.subplots(1, 3, figsize=(9, 3))\n",
    "im = axes[0].imshow(illum_corr.flatfield)\n",
    "fig.colorbar(im, ax=axes[0])\n",
    "axes[0].set_title(\"Flatfield\")\n",
    "im = axes[1].imshow(illum_corr.darkfield)\n",
    "fig.colorbar(im, ax=axes[1])\n",
    "axes[1].set_title(\"Darkfield\")\n",
    "axes[2].plot(illum_corr.baseline)\n",
    "axes[2].set_xlabel(\"Frame\")\n",
    "axes[2].set_ylabel(\"Baseline\")\n",
    "fig.tight_layout()"
   ]
  },
  {
   "cell_type": "code",
   "execution_count": null,
   "id": "56246363-ae36-4843-8ce7-7c1904df3994",
   "metadata": {},
   "outputs": [],
   "source": [
    "corrected = illum_corr.transform(unbleached_images[0].get_image_data(\"TYX\", C=0), timelapse=True) "
   ]
  },
  {
   "cell_type": "code",
   "execution_count": null,
   "id": "7b1da1d8-3350-4514-8a37-3f3d334f20f2",
   "metadata": {},
   "outputs": [],
   "source": [
    "corrected.shape"
   ]
  },
  {
   "cell_type": "code",
   "execution_count": null,
   "id": "13efb185-39c7-422b-9c68-5fe440134d4b",
   "metadata": {},
   "outputs": [],
   "source": [
    "for i in range(0, 86, 10):\n",
    "    fig, axes = plt.subplots(1, 2, figsize=(6, 3))\n",
    "    im = axes[0].imshow(unbleached_images[0].get_image_data(\"TYX\", C=0)[i])\n",
    "    fig.colorbar(im, ax=axes[0])\n",
    "    axes[0].set_title(\"Original\")\n",
    "    im = axes[1].imshow(corrected[i])\n",
    "    fig.colorbar(im, ax=axes[1])\n",
    "    axes[1].set_title(\"Corrected\")\n",
    "    fig.suptitle(f\"frame {i}\")\n",
    "    fig.tight_layout()"
   ]
  },
  {
   "cell_type": "code",
   "execution_count": null,
   "id": "1debc6b5-1a87-4343-998f-37ff36ded311",
   "metadata": {},
   "outputs": [],
   "source": []
  }
 ],
 "metadata": {
  "kernelspec": {
   "display_name": "berrylab-default",
   "language": "python",
   "name": "python3"
  },
  "language_info": {
   "codemirror_mode": {
    "name": "ipython",
    "version": 3
   },
   "file_extension": ".py",
   "mimetype": "text/x-python",
   "name": "python",
   "nbconvert_exporter": "python",
   "pygments_lexer": "ipython3",
   "version": "3.8.15"
  },
  "vscode": {
   "interpreter": {
    "hash": "60b8c657399aad6f9d89cbf9465e7c1c57998666dc051fd8b62b971f18a5d01e"
   }
  }
 },
 "nbformat": 4,
 "nbformat_minor": 5
}
