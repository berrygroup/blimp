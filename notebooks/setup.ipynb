{
 "cells": [
  {
   "attachments": {},
   "cell_type": "markdown",
   "metadata": {},
   "source": [
    "# Setup and download data\n",
    "BLIMP has one main config file; `blimp.ini`. \n",
    "The [overview](../overview.rst)\n",
    "describes how you can create this config file from the command line, \n",
    "but here we will see how we can create a config from within the blimp module using \n",
    "the config file representation [blimp.constants.blimp_config](../api/campa.constants.blimp_config.rst)."
   ]
  },
  {
   "cell_type": "code",
   "execution_count": 1,
   "metadata": {},
   "outputs": [
    {
     "name": "stderr",
     "output_type": "stream",
     "text": [
      "24-Jan-23 13:03:02 - bfio.backends - WARNING  - Java backend is not available. This could be due to a missing dependency (jpype).\n"
     ]
    },
    {
     "name": "stdout",
     "output_type": "stream",
     "text": [
      "Reading config from /Users/scottberry/.config/blimp/blimp.ini\n",
      "BLIMPConfig (fname: /Users/scottberry/.config/blimp/blimp.ini)\n",
      "EXPERIMENT_DIR: /Users/scottberry/source/blimp\n",
      "BASE_DATA_DIR: /Users/scottberry/source/blimp\n",
      "data_config/exampledata: /Users/scottberry/source/blimp/notebooks/params/ExampleData_constants.py\n",
      "\n"
     ]
    }
   ],
   "source": [
    "from blimp.constants import blimp_config\n",
    "\n",
    "print(blimp_config)"
   ]
  },
  {
   "cell_type": "markdown",
   "metadata": {},
   "source": [
    "If you have not yet set up a config, this should look pretty empty. \n",
    "Let us set the ``EXPERIMENT_DIR`` and the ``BASE_DATA_DIR``, and add the `ExampleData` ``data_config``"
   ]
  },
  {
   "cell_type": "code",
   "execution_count": 5,
   "metadata": {},
   "outputs": [
    {
     "name": "stdout",
     "output_type": "stream",
     "text": [
      "Overwriting existing data config for exampledata\n",
      "BLIMPConfig (fname: notebooks/blimp.ini)\n",
      "EXPERIMENT_DIR: /Users/scottberry/source/blimp/notebooks/_experiments\n",
      "BASE_DATA_DIR: /Users/scottberry/source/blimp/notebooks/_data/raw\n",
      "data_config/exampledata: /Users/scottberry/source/blimp/notebooks/ExampleData_constants.py\n",
      "\n"
     ]
    }
   ],
   "source": [
    "# point to example data folder in which we will download the example data\n",
    "blimp_config.BASE_DATA_DIR = \"_data/raw\"\n",
    "# experiments will be stored in example_experiments\n",
    "blimp_config.EXPERIMENT_DIR = \"_experiments\"\n",
    "# add ExampleData data_config\n",
    "blimp_config.add_data_config(\"ExampleData\", \"ExampleData_constants.py\")\n",
    "\n",
    "print(blimp_config)"
   ]
  },
  {
   "attachments": {},
   "cell_type": "markdown",
   "metadata": {},
   "source": [
    "We can now save the config to quickly load it later on. By default, blimp looks for config files in\n",
    " the current directory and ``$HOME/.config/blimp``, but loading a config from any other file is also easy:"
   ]
  },
  {
   "cell_type": "code",
   "execution_count": 6,
   "metadata": {},
   "outputs": [
    {
     "name": "stdout",
     "output_type": "stream",
     "text": [
      "Reading config from notebooks/blimp.ini\n",
      "Reading config from notebooks/blimp.ini\n",
      "BLIMPConfig (fname: notebooks/blimp.ini)\n",
      "EXPERIMENT_DIR: /Users/scottberry/source/blimp/notebooks/_experiments\n",
      "BASE_DATA_DIR: /Users/scottberry/source/blimp/notebooks/_data/raw\n",
      "data_config/exampledata: /Users/scottberry/source/blimp/notebooks/ExampleData_constants.py\n",
      "\n"
     ]
    }
   ],
   "source": [
    "# save config in non-standard location\n",
    "blimp_config.write(\"notebooks/blimp.ini\")\n",
    "\n",
    "# read config from non-standard location by setting blimp_config.config_fname\n",
    "blimp_config.config_fname = \"notebooks/blimp.ini\"\n",
    "print(blimp_config)"
   ]
  },
  {
   "cell_type": "markdown",
   "metadata": {},
   "source": [
    "To follow along with the workflow tutorials, you need to download the example dataset:\n"
   ]
  },
  {
   "cell_type": "code",
   "execution_count": 1,
   "metadata": {},
   "outputs": [
    {
     "name": "stderr",
     "output_type": "stream",
     "text": [
      "24-Jan-23 13:12:34 - bfio.backends - WARNING  - Java backend is not available. This could be due to a missing dependency (jpype).\n"
     ]
    },
    {
     "name": "stdout",
     "output_type": "stream",
     "text": [
      "Reading config from /Users/scottberry/.config/blimp/blimp.ini\n",
      "/Users/scottberry/source/blimp/notebooks\n",
      "Path or dataset does not yet exist. Attempting to download...\n"
     ]
    },
    {
     "ename": "TypeError",
     "evalue": "expected str, bytes or os.PathLike object, not NoneType",
     "output_type": "error",
     "traceback": [
      "\u001b[0;31m---------------------------------------------------------------------------\u001b[0m",
      "\u001b[0;31mTypeError\u001b[0m                                 Traceback (most recent call last)",
      "Cell \u001b[0;32mIn[1], line 3\u001b[0m\n\u001b[1;32m      1\u001b[0m \u001b[39mfrom\u001b[39;00m \u001b[39mblimp\u001b[39;00m\u001b[39m.\u001b[39;00m\u001b[39mdata\u001b[39;00m \u001b[39mimport\u001b[39;00m load_example_data\n\u001b[0;32m----> 3\u001b[0m example_data_path \u001b[39m=\u001b[39m load_example_data()\n\u001b[1;32m      4\u001b[0m \u001b[39mprint\u001b[39m(\u001b[39m\"\u001b[39m\u001b[39mExample data downloaded to: \u001b[39m\u001b[39m\"\u001b[39m, example_data_path)\n",
      "File \u001b[0;32m~/source/blimp/blimp/data.py:36\u001b[0m, in \u001b[0;36mload_example_data\u001b[0;34m(data_dir)\u001b[0m\n\u001b[1;32m     32\u001b[0m     data_dir \u001b[39m=\u001b[39m Path(\u001b[39m__file__\u001b[39m)\u001b[39m.\u001b[39mparent\u001b[39m.\u001b[39mparent \u001b[39m/\u001b[39m \u001b[39m\"\u001b[39m\u001b[39mnotebooks\u001b[39m\u001b[39m\"\u001b[39m\n\u001b[1;32m     34\u001b[0m \u001b[39mprint\u001b[39m(data_dir)\n\u001b[0;32m---> 36\u001b[0m folder_dir \u001b[39m=\u001b[39m load_dataset(\n\u001b[1;32m     37\u001b[0m     dataset_path\u001b[39m=\u001b[39;49mdata_dir,\n\u001b[1;32m     38\u001b[0m     fname\u001b[39m=\u001b[39;49mfname,\n\u001b[1;32m     39\u001b[0m     backup_url\u001b[39m=\u001b[39;49m\u001b[39m\"\u001b[39;49m\u001b[39mhttps://figshare.com/ndownloader/files/34987036?private_link=79b062207e500dd31053\u001b[39;49m\u001b[39m\"\u001b[39;49m,\n\u001b[1;32m     40\u001b[0m )\n\u001b[1;32m     42\u001b[0m \u001b[39mreturn\u001b[39;00m folder_dir\n",
      "File \u001b[0;32m~/source/blimp/blimp/data.py:112\u001b[0m, in \u001b[0;36mload_dataset\u001b[0;34m(dataset_path, fname, backup_url)\u001b[0m\n\u001b[1;32m    105\u001b[0m         \u001b[39mraise\u001b[39;00m \u001b[39mException\u001b[39;00m(\n\u001b[1;32m    106\u001b[0m             \u001b[39mf\u001b[39m\u001b[39m\"\u001b[39m\u001b[39mFile or directory \u001b[39m\u001b[39m{\u001b[39;00marchive_path\u001b[39m}\u001b[39;00m\u001b[39m does not exist and no backup_url was provided.\u001b[39m\u001b[39m\\n\u001b[39;00m\u001b[39m\"\u001b[39m\n\u001b[1;32m    107\u001b[0m             \u001b[39mf\u001b[39m\u001b[39m\"\u001b[39m\u001b[39mPlease provide a backup_url or check whether path is spelled correctly.\u001b[39m\u001b[39m\"\u001b[39m\n\u001b[1;32m    108\u001b[0m         )\n\u001b[1;32m    110\u001b[0m     \u001b[39mprint\u001b[39m(\u001b[39m\"\u001b[39m\u001b[39mPath or dataset does not yet exist. Attempting to download...\u001b[39m\u001b[39m\"\u001b[39m)\n\u001b[0;32m--> 112\u001b[0m     download(\n\u001b[1;32m    113\u001b[0m         backup_url,\n\u001b[1;32m    114\u001b[0m         output_path\u001b[39m=\u001b[39;49marchive_path,\n\u001b[1;32m    115\u001b[0m     )\n\u001b[1;32m    117\u001b[0m     shutil\u001b[39m.\u001b[39munpack_archive(archive_path, uncpacked_dir)\n\u001b[1;32m    119\u001b[0m \u001b[39mreturn\u001b[39;00m uncpacked_dir\n",
      "File \u001b[0;32m~/source/blimp/blimp/data.py:170\u001b[0m, in \u001b[0;36mdownload\u001b[0;34m(url, output_path, block_size, overwrite)\u001b[0m\n\u001b[1;32m    167\u001b[0m os\u001b[39m.\u001b[39mmakedirs(download_to_folder, exist_ok\u001b[39m=\u001b[39m\u001b[39mTrue\u001b[39;00m)\n\u001b[1;32m    169\u001b[0m archive_formats, _ \u001b[39m=\u001b[39m \u001b[39mzip\u001b[39m(\u001b[39m*\u001b[39mshutil\u001b[39m.\u001b[39mget_archive_formats())\n\u001b[0;32m--> 170\u001b[0m is_archived \u001b[39m=\u001b[39m \u001b[39mstr\u001b[39m(Path(filename)\u001b[39m.\u001b[39msuffix)[\u001b[39m1\u001b[39m:] \u001b[39min\u001b[39;00m archive_formats\n\u001b[1;32m    171\u001b[0m \u001b[39massert\u001b[39;00m is_archived\n\u001b[1;32m    173\u001b[0m download_to_path \u001b[39m=\u001b[39m os\u001b[39m.\u001b[39mpath\u001b[39m.\u001b[39mjoin(download_to_folder, filename)\n",
      "File \u001b[0;32m~/opt/anaconda3/envs/berrylab-default/lib/python3.8/pathlib.py:1042\u001b[0m, in \u001b[0;36mPath.__new__\u001b[0;34m(cls, *args, **kwargs)\u001b[0m\n\u001b[1;32m   1040\u001b[0m \u001b[39mif\u001b[39;00m \u001b[39mcls\u001b[39m \u001b[39mis\u001b[39;00m Path:\n\u001b[1;32m   1041\u001b[0m     \u001b[39mcls\u001b[39m \u001b[39m=\u001b[39m WindowsPath \u001b[39mif\u001b[39;00m os\u001b[39m.\u001b[39mname \u001b[39m==\u001b[39m \u001b[39m'\u001b[39m\u001b[39mnt\u001b[39m\u001b[39m'\u001b[39m \u001b[39melse\u001b[39;00m PosixPath\n\u001b[0;32m-> 1042\u001b[0m \u001b[39mself\u001b[39m \u001b[39m=\u001b[39m \u001b[39mcls\u001b[39;49m\u001b[39m.\u001b[39;49m_from_parts(args, init\u001b[39m=\u001b[39;49m\u001b[39mFalse\u001b[39;49;00m)\n\u001b[1;32m   1043\u001b[0m \u001b[39mif\u001b[39;00m \u001b[39mnot\u001b[39;00m \u001b[39mself\u001b[39m\u001b[39m.\u001b[39m_flavour\u001b[39m.\u001b[39mis_supported:\n\u001b[1;32m   1044\u001b[0m     \u001b[39mraise\u001b[39;00m \u001b[39mNotImplementedError\u001b[39;00m(\u001b[39m\"\u001b[39m\u001b[39mcannot instantiate \u001b[39m\u001b[39m%r\u001b[39;00m\u001b[39m on your system\u001b[39m\u001b[39m\"\u001b[39m\n\u001b[1;32m   1045\u001b[0m                               \u001b[39m%\u001b[39m (\u001b[39mcls\u001b[39m\u001b[39m.\u001b[39m\u001b[39m__name__\u001b[39m,))\n",
      "File \u001b[0;32m~/opt/anaconda3/envs/berrylab-default/lib/python3.8/pathlib.py:683\u001b[0m, in \u001b[0;36mPurePath._from_parts\u001b[0;34m(cls, args, init)\u001b[0m\n\u001b[1;32m    678\u001b[0m \u001b[39m@classmethod\u001b[39m\n\u001b[1;32m    679\u001b[0m \u001b[39mdef\u001b[39;00m \u001b[39m_from_parts\u001b[39m(\u001b[39mcls\u001b[39m, args, init\u001b[39m=\u001b[39m\u001b[39mTrue\u001b[39;00m):\n\u001b[1;32m    680\u001b[0m     \u001b[39m# We need to call _parse_args on the instance, so as to get the\u001b[39;00m\n\u001b[1;32m    681\u001b[0m     \u001b[39m# right flavour.\u001b[39;00m\n\u001b[1;32m    682\u001b[0m     \u001b[39mself\u001b[39m \u001b[39m=\u001b[39m \u001b[39mobject\u001b[39m\u001b[39m.\u001b[39m\u001b[39m__new__\u001b[39m(\u001b[39mcls\u001b[39m)\n\u001b[0;32m--> 683\u001b[0m     drv, root, parts \u001b[39m=\u001b[39m \u001b[39mself\u001b[39;49m\u001b[39m.\u001b[39;49m_parse_args(args)\n\u001b[1;32m    684\u001b[0m     \u001b[39mself\u001b[39m\u001b[39m.\u001b[39m_drv \u001b[39m=\u001b[39m drv\n\u001b[1;32m    685\u001b[0m     \u001b[39mself\u001b[39m\u001b[39m.\u001b[39m_root \u001b[39m=\u001b[39m root\n",
      "File \u001b[0;32m~/opt/anaconda3/envs/berrylab-default/lib/python3.8/pathlib.py:667\u001b[0m, in \u001b[0;36mPurePath._parse_args\u001b[0;34m(cls, args)\u001b[0m\n\u001b[1;32m    665\u001b[0m     parts \u001b[39m+\u001b[39m\u001b[39m=\u001b[39m a\u001b[39m.\u001b[39m_parts\n\u001b[1;32m    666\u001b[0m \u001b[39melse\u001b[39;00m:\n\u001b[0;32m--> 667\u001b[0m     a \u001b[39m=\u001b[39m os\u001b[39m.\u001b[39;49mfspath(a)\n\u001b[1;32m    668\u001b[0m     \u001b[39mif\u001b[39;00m \u001b[39misinstance\u001b[39m(a, \u001b[39mstr\u001b[39m):\n\u001b[1;32m    669\u001b[0m         \u001b[39m# Force-cast str subclasses to str (issue #21127)\u001b[39;00m\n\u001b[1;32m    670\u001b[0m         parts\u001b[39m.\u001b[39mappend(\u001b[39mstr\u001b[39m(a))\n",
      "\u001b[0;31mTypeError\u001b[0m: expected str, bytes or os.PathLike object, not NoneType"
     ]
    }
   ],
   "source": [
    "from blimp.data import load_example_data\n",
    "\n",
    "example_data_path = load_example_data()\n",
    "print(\"Example data downloaded to: \", example_data_path)"
   ]
  },
  {
   "cell_type": "markdown",
   "metadata": {},
   "source": [
    "\n",
    "The example data is now stored in your `notebooks/example_data` folder.\n",
    "\n",
    "The data is represented as an [MPPData][MPPData] object. For more information on this class and the data representation on disk see the [Data representation tutorial](mpp_data.ipynb).\n",
    "\n",
    "[MPPData]: ../classes/campa.data.MPPData.rst\n"
   ]
  }
 ],
 "metadata": {
  "kernelspec": {
   "display_name": "berrylab-default",
   "language": "python",
   "name": "python3"
  },
  "language_info": {
   "codemirror_mode": {
    "name": "ipython",
    "version": 3
   },
   "file_extension": ".py",
   "mimetype": "text/x-python",
   "name": "python",
   "nbconvert_exporter": "python",
   "pygments_lexer": "ipython3",
   "version": "3.8.15"
  },
  "orig_nbformat": 4,
  "vscode": {
   "interpreter": {
    "hash": "60b8c657399aad6f9d89cbf9465e7c1c57998666dc051fd8b62b971f18a5d01e"
   }
  }
 },
 "nbformat": 4,
 "nbformat_minor": 2
}
