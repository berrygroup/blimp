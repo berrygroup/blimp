{
 "cells": [
  {
   "cell_type": "code",
   "execution_count": 33,
   "id": "aab4596a-d17c-440b-8da2-0e54136031b5",
   "metadata": {},
   "outputs": [],
   "source": [
    "import re\n",
    "def split_operetta_files_into_archiving_batches(filenames):\n",
    "    groups = {}\n",
    "\n",
    "    pattern = r'r(\\d{2})c(\\d{2})'  # Regular expression pattern for 'r00c00'\n",
    "    for filename in filenames:\n",
    "        match = re.search(pattern, filename)\n",
    "        if match:\n",
    "            key = match.group()  # Get the matched pattern\n",
    "            if key not in groups:\n",
    "                groups[key] = []\n",
    "            groups[key].append(filename)\n",
    "    \n",
    "    return groups\n",
    "\n",
    "def write_archiving_batch_files(archive_dir, images_dir, groups):\n",
    "    archive_dir = Path(archive_dir)\n",
    "    images_dir = Path(images_dir)\n",
    "    for key, filenames in groups.items():\n",
    "        file_name = archive_dir / (key + \".txt\")\n",
    "        with open(file_name, 'w') as file:\n",
    "            for filename in filenames:\n",
    "                file.write((str(images_dir / filename)) + '\\n')"
   ]
  },
  {
   "cell_type": "code",
   "execution_count": 3,
   "id": "bfe042dd-5aca-411e-b89b-a8b3e4773f5f",
   "metadata": {},
   "outputs": [
    {
     "name": "stderr",
     "output_type": "stream",
     "text": [
      "21-Jun-23 22:15:57 - bfio.backends - WARNING  - Java backend is not available. This could be due to a missing dependency (jpype).\n"
     ]
    }
   ],
   "source": [
    "from blimp.preprocessing.convert_operetta import find_images_dirs\n",
    "image_dirs = find_images_dirs(\"/srv/scratch/berrylab/z3532965/operetta_cls/20220823_PABPN1_PABPC1_clones/\")"
   ]
  },
  {
   "cell_type": "code",
   "execution_count": 27,
   "id": "7778ff60-5dd8-4c11-8b31-331d4d0b383f",
   "metadata": {},
   "outputs": [
    {
     "data": {
      "text/plain": [
       "['/srv/scratch/berrylab/z3532965/operetta_cls/20220823_PABPN1_PABPC1_clones/Images']"
      ]
     },
     "execution_count": 27,
     "metadata": {},
     "output_type": "execute_result"
    }
   ],
   "source": [
    "image_dirs"
   ]
  },
  {
   "cell_type": "code",
   "execution_count": 28,
   "id": "ee5ee18f-ef54-4904-9a96-aaa65b80fe19",
   "metadata": {},
   "outputs": [],
   "source": [
    "import os\n",
    "from pathlib import Path\n",
    "filename_list = os.listdir(image_dirs[0])\n",
    "filename_batches = split_operetta_files_into_archiving_batches(filename_list)"
   ]
  },
  {
   "cell_type": "code",
   "execution_count": 29,
   "id": "9549f7a6-9cf0-42c4-be91-6bcd0f08ed6c",
   "metadata": {},
   "outputs": [
    {
     "data": {
      "text/plain": [
       "dict_keys(['r06c08', 'r05c09', 'r05c08', 'r06c09', 'r06c07', 'r01c05', 'r02c02', 'r05c10', 'r05c04', 'r05c01', 'r02c08', 'r06c10', 'r02c09', 'r06c03', 'r06c11', 'r01c04', 'r05c06', 'r02c04', 'r01c07', 'r02c06', 'r06c05', 'r05c11', 'r01c09', 'r01c03', 'r05c05', 'r01c06', 'r02c03', 'r01c08', 'r06c04', 'r02c11', 'r05c02', 'r02c05', 'r02c01', 'r02c07', 'r05c03', 'r01c02', 'r05c07', 'r06c06', 'r01c01', 'r06c01', 'r01c10', 'r06c02', 'r01c11', 'r02c10'])"
      ]
     },
     "execution_count": 29,
     "metadata": {},
     "output_type": "execute_result"
    }
   ],
   "source": [
    "filename_batches.keys()"
   ]
  },
  {
   "cell_type": "code",
   "execution_count": 30,
   "id": "8b711f65-9157-427d-86f5-083bb9640cb2",
   "metadata": {},
   "outputs": [],
   "source": [
    "write_archiving_batches(Path(image_dirs[0]).parent / \"Archive\",image_dirs[0],filename_batches)"
   ]
  },
  {
   "cell_type": "code",
   "execution_count": 41,
   "id": "7cf11566-7f82-4117-ba90-83f6d1f373e8",
   "metadata": {},
   "outputs": [],
   "source": [
    "import numpy as np\n",
    "# Archive 'Images' directories together\n",
    "# with associated metadata folders\n",
    "image_dirs = find_images_dirs(\"/srv/scratch/berrylab/z3532965/operetta_cls/20220823_PABPN1_PABPC1_clones/\")\n",
    "for image_dir in image_dirs:\n",
    "    # create archive directory if it does not exist\n",
    "    archive_dir = Path(image_dir).parent / \"Archive\"\n",
    "    if not archive_dir.exists():\n",
    "        archive_dir.mkdir(parents=True, exist_ok=True)\n",
    "    # split file list into batches and write as text files\n",
    "    batches = split_operetta_files_into_archiving_batches(image_dir)\n",
    "    write_archiving_batch_files(\n",
    "        archive_dir=archive_dir,\n",
    "        images_dir=image_dir,\n",
    "        groups=batches)\n",
    "sub_dirs = [\"Archive\", \"Assaylayout\", \"FFC_Profile\"]\n",
    "archive_dirs = np.concatenate([[Path(d).parent / s for s in sub_dirs] for d in image_dirs])"
   ]
  },
  {
   "cell_type": "code",
   "execution_count": 44,
   "id": "b53ad940-e71d-4a93-a5c7-864af50ded0c",
   "metadata": {},
   "outputs": [],
   "source": [
    "batches = split_operetta_files_into_archiving_batches(image_dir)"
   ]
  },
  {
   "cell_type": "code",
   "execution_count": 45,
   "id": "45cb17e8-96c9-49d4-992a-68dfb0daaada",
   "metadata": {},
   "outputs": [
    {
     "data": {
      "text/plain": [
       "{}"
      ]
     },
     "execution_count": 45,
     "metadata": {},
     "output_type": "execute_result"
    }
   ],
   "source": [
    "batches"
   ]
  },
  {
   "cell_type": "code",
   "execution_count": null,
   "id": "a731cca5-8de9-439d-a4db-6fbf0df70fa8",
   "metadata": {},
   "outputs": [],
   "source": []
  },
  {
   "cell_type": "code",
   "execution_count": 38,
   "id": "0554e9c5-553c-4d0e-b29c-28402ae396f5",
   "metadata": {},
   "outputs": [],
   "source": [
    "relative_path = re.sub(r\"^\\/srv\\/scratch\\/berrylab\\/z\\d{7}\\/\", \"\", str(archive_dirs[0]))"
   ]
  },
  {
   "cell_type": "code",
   "execution_count": 39,
   "id": "6529c48a-368b-471f-9172-c4602217b6df",
   "metadata": {},
   "outputs": [
    {
     "data": {
      "text/plain": [
       "'operetta_cls/20220823_PABPN1_PABPC1_clones/Archive'"
      ]
     },
     "execution_count": 39,
     "metadata": {},
     "output_type": "execute_result"
    }
   ],
   "source": [
    "relative_path"
   ]
  },
  {
   "cell_type": "code",
   "execution_count": 40,
   "id": "ba37a6b1-1d75-402f-a87c-6c85dc8378e8",
   "metadata": {},
   "outputs": [
    {
     "data": {
      "text/plain": [
       "'Archive'"
      ]
     },
     "execution_count": 40,
     "metadata": {},
     "output_type": "execute_result"
    }
   ],
   "source": [
    "Path(str(archive_dirs[0])).stem"
   ]
  },
  {
   "cell_type": "code",
   "execution_count": null,
   "id": "a5a43617-4618-4598-aab7-0540deb04df4",
   "metadata": {},
   "outputs": [],
   "source": []
  }
 ],
 "metadata": {
  "kernelspec": {
   "display_name": "berrylab-jupyter-kernel",
   "language": "python",
   "name": "berrylab-jupyter-kernel"
  },
  "language_info": {
   "codemirror_mode": {
    "name": "ipython",
    "version": 3
   },
   "file_extension": ".py",
   "mimetype": "text/x-python",
   "name": "python",
   "nbconvert_exporter": "python",
   "pygments_lexer": "ipython3",
   "version": "3.8.13"
  }
 },
 "nbformat": 4,
 "nbformat_minor": 5
}
