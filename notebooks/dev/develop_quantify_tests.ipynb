{
 "cells": [
  {
   "cell_type": "code",
   "execution_count": 1,
   "id": "32cdd3df-3c7d-4ed6-9857-9311c00665fc",
   "metadata": {},
   "outputs": [
    {
     "name": "stderr",
     "output_type": "stream",
     "text": [
      "03-Nov-24 22:40:46 - bfio.backends - WARNING  - Java backend is not available. This could be due to a missing dependency (jpype).\n"
     ]
    }
   ],
   "source": [
    "import pandas as pd\n",
    "import numpy as np\n",
    "import napari\n",
    "import pytest\n",
    "\n",
    "from pathlib import Path\n",
    "from aicsimageio import AICSImage, readers\n",
    "from blimp.preprocessing.illumination_correction import IlluminationCorrection\n",
    "import blimp.processing.quantify"
   ]
  },
  {
   "cell_type": "code",
   "execution_count": 2,
   "id": "0f816464",
   "metadata": {},
   "outputs": [],
   "source": [
    "viewer = napari.Viewer()"
   ]
  },
  {
   "cell_type": "code",
   "execution_count": 3,
   "id": "33e3d0a1-af09-4e72-9b1c-85e157b723a3",
   "metadata": {},
   "outputs": [],
   "source": [
    "import logging\n",
    "logger = logging.getLogger()\n",
    "logger.setLevel(logging.INFO)"
   ]
  },
  {
   "cell_type": "code",
   "execution_count": 4,
   "id": "31cc7374",
   "metadata": {},
   "outputs": [],
   "source": [
    "\n",
    "_data_dir = Path(\"/Users/z3532965/src/blimp/tests/_data/\")\n",
    "intensity_image_2D = AICSImage(_data_dir / \"datasets\" / \"synthetic_images\" / \"synthetic_intensity_image_TYX.tiff\")\n",
    "label_image_2D = AICSImage(_data_dir / \"datasets\" / \"synthetic_images\" / \"synthetic_label_image_TYX.tiff\")\n",
    "intensity_image_3D = AICSImage(_data_dir / \"datasets\" / \"synthetic_images\" / \"synthetic_intensity_image_TZYX.tiff\")\n",
    "label_image_3D = AICSImage(_data_dir / \"datasets\" / \"synthetic_images\" / \"synthetic_label_image_TZYX.tiff\")\n"
   ]
  },
  {
   "cell_type": "markdown",
   "id": "e8f3eea1",
   "metadata": {},
   "source": [
    "``_measure_parent_object_label``"
   ]
  },
  {
   "cell_type": "code",
   "execution_count": 5,
   "id": "90c0b68e-2ec4-47dc-8a1a-86236bcf707a",
   "metadata": {},
   "outputs": [
    {
     "name": "stderr",
     "output_type": "stream",
     "text": [
      "03-Nov-24 22:40:50 - blimp.processing.quantify - INFO     - ``label_image`` is 2D. Quantifying 2D features only.\n",
      "03-Nov-24 22:40:50 - blimp.processing.quantify - INFO     - ``label_image`` is 2D. Quantifying 2D features only.\n"
     ]
    },
    {
     "data": {
      "text/plain": [
       "[<Labels layer 'Object1' at 0x3306599f0>,\n",
       " <Labels layer 'Object2' at 0x103942410>,\n",
       " <Labels layer 'Object3' at 0x33e2124a0>]"
      ]
     },
     "execution_count": 5,
     "metadata": {},
     "output_type": "execute_result"
    }
   ],
   "source": [
    "with pytest.raises(ValueError):\n",
    "    # check for ValueError when assignment of measure objects to parent is ambiguous\n",
    "    blimp.processing.quantify._measure_parent_object_label(\n",
    "        label_image = label_image_2D,\n",
    "        measure_object_index = 2,\n",
    "        parent_object_index = 0,\n",
    "        timepoint = 0)\n",
    "\n",
    "res = blimp.processing.quantify._measure_parent_object_label(\n",
    "    label_image = label_image_2D,\n",
    "    measure_object_index = 1,\n",
    "    parent_object_index = 0,\n",
    "    timepoint = 0)\n",
    "\n",
    "res.to_csv(_data_dir / \"resources\" / \"measure_parent_label_2D_results_t_0.csv\")\n",
    "\n",
    "[viewer.add_labels(label_image_2D.get_image_data(\"YX\",C=i),name=label_image_2D.channel_names[i]) for i in range(label_image_2D.dims.C)]\n"
   ]
  },
  {
   "cell_type": "code",
   "execution_count": 6,
   "id": "e8bcb6c3",
   "metadata": {},
   "outputs": [
    {
     "data": {
      "text/plain": [
       "<Labels layer 'parent_labels_array' at 0x103943160>"
      ]
     },
     "execution_count": 6,
     "metadata": {},
     "output_type": "execute_result"
    }
   ],
   "source": [
    "# check visually that this looks ok\n",
    "\n",
    "# Convert DataFrame to dictionary for mapping\n",
    "parent_labels_dict = dict(zip(res['label'], res['parent_label']))\n",
    "\n",
    "# Replace values in the 2D array using np.vectorize with the dictionary\n",
    "original_labels_array = label_image_2D.get_image_data(\"YX\",C=1)\n",
    "parent_labels_array = np.vectorize(parent_labels_dict.get)(original_labels_array, original_labels_array)\n",
    "viewer.add_labels(parent_labels_array)\n"
   ]
  },
  {
   "cell_type": "markdown",
   "id": "f7683848",
   "metadata": {},
   "source": [
    "3D"
   ]
  },
  {
   "cell_type": "code",
   "execution_count": 7,
   "id": "450466ac",
   "metadata": {},
   "outputs": [
    {
     "name": "stderr",
     "output_type": "stream",
     "text": [
      "03-Nov-24 22:40:51 - blimp.processing.quantify - INFO     - ``label_image`` is 3D (200 Z-planes). Measuring parent in 3D.\n",
      "03-Nov-24 22:40:51 - blimp.processing.quantify - INFO     - ``label_image`` is 3D (200 Z-planes). Measuring parent in 3D.\n"
     ]
    },
    {
     "data": {
      "text/plain": [
       "[<Labels layer 'Object1 [1]' at 0x3423e80d0>,\n",
       " <Labels layer 'Object2 [1]' at 0x35d371fc0>,\n",
       " <Labels layer 'Object3 [1]' at 0x35d76bee0>]"
      ]
     },
     "execution_count": 7,
     "metadata": {},
     "output_type": "execute_result"
    }
   ],
   "source": [
    "with pytest.raises(ValueError):\n",
    "    # check for ValueError when assignment of measure objects to parent is ambiguous\n",
    "    blimp.processing.quantify._measure_parent_object_label(\n",
    "        label_image = label_image_3D,\n",
    "        measure_object_index = 2,\n",
    "        parent_object_index = 0,\n",
    "        timepoint = 0)\n",
    "\n",
    "res = blimp.processing.quantify._measure_parent_object_label(\n",
    "    label_image = label_image_3D,\n",
    "    measure_object_index = 1,\n",
    "    parent_object_index = 0,\n",
    "    timepoint = 0)\n",
    "\n",
    "res.to_csv(_data_dir / \"datasets\" / \"synthetic_images\" / \"measure_parent_label_3D_results_t_0.csv\")\n",
    "\n",
    "[viewer.add_labels(label_image_3D.get_image_data(\"ZYX\",C=i),name=label_image_2D.channel_names[i]) for i in range(label_image_2D.dims.C)]\n"
   ]
  },
  {
   "cell_type": "code",
   "execution_count": 8,
   "id": "a8b76579",
   "metadata": {},
   "outputs": [
    {
     "data": {
      "text/plain": [
       "<Labels layer 'parent_labels_array [1]' at 0x33dd3e320>"
      ]
     },
     "execution_count": 8,
     "metadata": {},
     "output_type": "execute_result"
    }
   ],
   "source": [
    "# check visually that this looks ok\n",
    "\n",
    "# Convert DataFrame to dictionary for mapping\n",
    "parent_labels_dict = dict(zip(res['label'], res['parent_label']))\n",
    "\n",
    "# Replace values in the 2D array using np.vectorize with the dictionary\n",
    "original_labels_array = label_image_3D.get_image_data(\"ZYX\",C=1)\n",
    "parent_labels_array = np.vectorize(parent_labels_dict.get)(original_labels_array, original_labels_array)\n",
    "viewer.add_labels(parent_labels_array)"
   ]
  },
  {
   "cell_type": "markdown",
   "id": "4e9a876b",
   "metadata": {},
   "source": [
    "``_quantify_single_timepoint_2D``"
   ]
  },
  {
   "cell_type": "code",
   "execution_count": 9,
   "id": "9355fba5",
   "metadata": {},
   "outputs": [
    {
     "name": "stderr",
     "output_type": "stream",
     "text": [
      "03-Nov-24 22:40:52 - blimp.processing.quantify - INFO     - ``label_image`` is 2D. Quantifying 2D features only.\n",
      "03-Nov-24 22:40:52 - blimp.processing.quantify - INFO     - ``label_image`` is 2D. Quantifying 2D features only.\n",
      "03-Nov-24 22:40:52 - blimp.processing.quantify - INFO     - ``label_image`` is 2D. Quantifying 2D features only.\n"
     ]
    },
    {
     "data": {
      "text/plain": [
       "True"
      ]
     },
     "execution_count": 9,
     "metadata": {},
     "output_type": "execute_result"
    }
   ],
   "source": [
    "\n",
    "# no parent object\n",
    "res_obj1 = blimp.processing.quantify._quantify_single_timepoint_2D(\n",
    "    intensity_image = intensity_image_2D,\n",
    "    label_image = label_image_2D,\n",
    "    measure_object = 0,\n",
    "    timepoint = 0)\n",
    "\n",
    "res_obj1.Object1_intensity_max_Channel1.to_list() == [1000.,2000.,3000.,4000.]\n",
    "res_obj1.Object1_area.to_list() == [100.0,81.0,900.0,961.0]\n",
    "\n",
    "res_obj2 = blimp.processing.quantify._quantify_single_timepoint_2D(\n",
    "    intensity_image = intensity_image_2D,\n",
    "    label_image = label_image_2D,\n",
    "    measure_object = 1,\n",
    "    timepoint = 0)\n",
    "\n",
    "res_obj2.count().label==100\n",
    "list(np.unique(res_obj2.Object2_area)) == [4.0]\n",
    "\n",
    "with pytest.raises(AttributeError):\n",
    "    # check no parent label when parent_label is none\n",
    "    parents = res_obj2.parent_label\n",
    "\n",
    "# parent object\n",
    "res_obj1_parent1 = blimp.processing.quantify._quantify_single_timepoint_2D(\n",
    "    intensity_image = intensity_image_2D,\n",
    "    label_image = label_image_2D,\n",
    "    measure_object = 0,\n",
    "    parent_object = 0,\n",
    "    timepoint = 0)\n",
    "\n",
    "# check the parent object labels are correct when parent = measure\n",
    "res_obj1_parent1.parent_label.to_list() == [1,2,3,4]\n",
    "\n",
    "with pytest.raises(ValueError):\n",
    "    # check for ValueError when assignment of measure objects to parent is ambiguous\n",
    "    res_obj3_parent1 = blimp.processing.quantify._quantify_single_timepoint_2D(\n",
    "        intensity_image = intensity_image_2D,\n",
    "        label_image = label_image_2D,\n",
    "        measure_object = 2,\n",
    "        parent_object = 0,\n",
    "        timepoint = 0)\n",
    "\n",
    "# quantify object channel 1 relative to parent object channel 0\n",
    "res_obj2_parent1 = blimp.processing.quantify._quantify_single_timepoint_2D(\n",
    "    intensity_image = intensity_image_2D,\n",
    "    label_image = label_image_2D,\n",
    "    measure_object = 1,\n",
    "    parent_object = 0,\n",
    "    timepoint = 0)\n",
    "\n",
    "list(np.unique(res_obj2_parent1.parent_label_name)) == [\"Object1\"]\n",
    "\n",
    "# check the number of objects in each parent object is correct\n",
    "res_obj2_parent1.query(\"parent_label != 0\").groupby('parent_label').size().to_list() == [5,4,21,20]\n"
   ]
  },
  {
   "cell_type": "code",
   "execution_count": 10,
   "id": "3e3ecee2",
   "metadata": {},
   "outputs": [
    {
     "data": {
      "text/plain": [
       "True"
      ]
     },
     "execution_count": 10,
     "metadata": {},
     "output_type": "execute_result"
    }
   ],
   "source": [
    "# test intensity_channels\n",
    "res_obj2_intensity1_str_input = blimp.processing.quantify._quantify_single_timepoint_2D(\n",
    "    intensity_image = intensity_image_2D,\n",
    "    label_image = label_image_2D,\n",
    "    measure_object = 1,\n",
    "    timepoint = 0,\n",
    "    intensity_channels=\"Channel1\")\n",
    "\n",
    "res_obj2_intensity1_list1_str_input = blimp.processing.quantify._quantify_single_timepoint_2D(\n",
    "    intensity_image = intensity_image_2D,\n",
    "    label_image = label_image_2D,\n",
    "    measure_object = 1,\n",
    "    timepoint = 0,\n",
    "    intensity_channels=[\"Channel1\"])\n",
    "\n",
    "res_obj2_intensity1_list2_str_input = blimp.processing.quantify._quantify_single_timepoint_2D(\n",
    "    intensity_image = intensity_image_2D,\n",
    "    label_image = label_image_2D,\n",
    "    measure_object = 1,\n",
    "    timepoint = 0,\n",
    "    intensity_channels=[\"Channel1\",\"Channel2\"])\n",
    "\n",
    "res_obj2_intensity1_list_int_input = blimp.processing.quantify._quantify_single_timepoint_2D(\n",
    "    intensity_image = intensity_image_2D,\n",
    "    label_image = label_image_2D,\n",
    "    measure_object = 1,\n",
    "    timepoint = 0,\n",
    "    intensity_channels=[0,1])\n",
    "\n",
    "with pytest.raises(AttributeError):\n",
    "    res_obj2_intensity1_str_input.Object2_intensity_min_Channel2\n",
    "with pytest.raises(AttributeError):\n",
    "    res_obj2_intensity1_list1_str_input.Object2_intensity_min_Channel2\n",
    "with pytest.raises(AttributeError):\n",
    "    res_obj2_intensity1_list2_str_input.Object2_intensity_min_Channel3\n",
    "\n",
    "list(np.unique(res_obj2_intensity1_str_input.Object2_intensity_min_Channel1)) == [0,1000.,2000.,3000.,4000.]\n",
    "list(np.unique(res_obj2_intensity1_list1_str_input.Object2_intensity_min_Channel1)) == [0,1000.,2000.,3000.,4000.]\n",
    "list(np.unique(res_obj2_intensity1_list2_str_input.Object2_intensity_min_Channel2)) == [0,5000.]\n"
   ]
  },
  {
   "cell_type": "code",
   "execution_count": 11,
   "id": "afe9715e",
   "metadata": {},
   "outputs": [],
   "source": [
    "# test texture_channels\n",
    "\n",
    "# calculate_textures = False overrides texture channels provided\n",
    "res_obj1_texture1_str_input_texture_false = blimp.processing.quantify._quantify_single_timepoint_2D(\n",
    "    intensity_image = intensity_image_2D,\n",
    "    label_image = label_image_2D,\n",
    "    measure_object = 0,\n",
    "    timepoint = 0,\n",
    "    calculate_textures=False,\n",
    "    texture_channels=\"Channel1\")\n",
    "\n",
    "with pytest.raises(KeyError):\n",
    "    res_obj1_texture1_str_input_texture_false['Object1_Channel1_Haralick-angular-second-moment-1']\n",
    "\n",
    "# calculate_textures = True with texture channels not specified calculates all\n",
    "res_obj1_texture_none_texture_true = blimp.processing.quantify._quantify_single_timepoint_2D(\n",
    "    intensity_image = intensity_image_2D,\n",
    "    label_image = label_image_2D,\n",
    "    measure_object = 0,\n",
    "    timepoint = 0,\n",
    "    calculate_textures=True)\n",
    "\n",
    "len(res_obj1_texture_none_texture_true['Object1_Channel3_Haralick-diff-var-3'].to_list())==4\n",
    "\n",
    "# calculate_textures = True with texture channels specified calculates only those specified\n",
    "res_obj1_texture1_str_input_texture_true = blimp.processing.quantify._quantify_single_timepoint_2D(\n",
    "    intensity_image = intensity_image_2D,\n",
    "    label_image = label_image_2D,\n",
    "    measure_object = 0,\n",
    "    timepoint = 0,\n",
    "    calculate_textures=True,\n",
    "    texture_channels=\"Channel1\")\n",
    "\n",
    "res_obj1_texture1_str_input_texture_true['Object1_Channel1_Haralick-angular-second-moment-1'].to_list() == [1.,1.,1.,1.]\n",
    "with pytest.raises(KeyError):\n",
    "    res_obj1_texture1_str_input_texture_false['Object1_Channel3_Haralick-angular-second-moment-1']\n"
   ]
  },
  {
   "cell_type": "code",
   "execution_count": 12,
   "id": "e706529c",
   "metadata": {},
   "outputs": [
    {
     "data": {
      "text/plain": [
       "True"
      ]
     },
     "execution_count": 12,
     "metadata": {},
     "output_type": "execute_result"
    }
   ],
   "source": [
    "len(res_obj1_texture_none_texture_true['Object1_Channel3_Haralick-diff-var-3'].to_list())==4"
   ]
  },
  {
   "cell_type": "code",
   "execution_count": 13,
   "id": "969bf539",
   "metadata": {},
   "outputs": [
    {
     "data": {
      "text/plain": [
       "True"
      ]
     },
     "execution_count": 13,
     "metadata": {},
     "output_type": "execute_result"
    }
   ],
   "source": [
    "# test no border objects\n",
    "res_no_border = blimp.processing.quantify._quantify_single_timepoint_2D(\n",
    "    intensity_image = intensity_image_2D,\n",
    "    label_image = label_image_2D,\n",
    "    measure_object = 0,\n",
    "    timepoint = 0,\n",
    "    intensity_channels=\"Channel1\")\n",
    "\n",
    "not any(res_no_border.Object1_is_border)\n",
    "\n",
    "# test one border object (crop image to generate a border object)\n",
    "res_border = blimp.processing.quantify._quantify_single_timepoint_2D(\n",
    "    intensity_image = AICSImage(\n",
    "        intensity_image_2D.data[:,:,:,52:,52:],\n",
    "        channel_names=intensity_image_2D.channel_names),\n",
    "    label_image = AICSImage(\n",
    "        label_image_2D.data[:,:,:,52:,52:],\n",
    "        channel_names=label_image_2D.channel_names),\n",
    "    measure_object = 0,\n",
    "    timepoint = 0,\n",
    "    intensity_channels=\"Channel1\")\n",
    "\n",
    "res_border.query(\"label==1\").Object1_is_border[0]==True\n"
   ]
  },
  {
   "cell_type": "markdown",
   "id": "77854253",
   "metadata": {},
   "source": [
    "``_quantify_single_timepoint_3D``"
   ]
  },
  {
   "cell_type": "code",
   "execution_count": 14,
   "id": "5266046a",
   "metadata": {},
   "outputs": [
    {
     "data": {
      "text/plain": [
       "['Channel1', 'Channel2', 'Channel3']"
      ]
     },
     "execution_count": 14,
     "metadata": {},
     "output_type": "execute_result"
    }
   ],
   "source": [
    "label_image_3D.channel_names\n",
    "intensity_image_3D.channel_names"
   ]
  },
  {
   "cell_type": "code",
   "execution_count": 15,
   "id": "9c3cc261",
   "metadata": {},
   "outputs": [
    {
     "name": "stderr",
     "output_type": "stream",
     "text": [
      "03-Nov-24 22:40:55 - blimp.processing.quantify - WARNING  - Detecting parent objects in 3D leads to ambiguity for object relationships in derived 2D features.\n",
      "03-Nov-24 22:40:55 - blimp.processing.quantify - WARNING  - Derived 2D features (3D-MIP and 3D-Middle) are omitted for clarity.\n",
      "03-Nov-24 22:40:55 - blimp.processing.quantify - INFO     - ``label_image`` is 3D (200 Z-planes). Measuring parent in 3D.\n",
      "03-Nov-24 22:40:55 - blimp.processing.quantify - WARNING  - Detecting parent objects in 3D leads to ambiguity for object relationships in derived 2D features.\n",
      "03-Nov-24 22:40:55 - blimp.processing.quantify - WARNING  - Derived 2D features (3D-MIP and 3D-Middle) are omitted for clarity.\n",
      "03-Nov-24 22:40:56 - blimp.processing.quantify - INFO     - ``label_image`` is 3D (200 Z-planes). Measuring parent in 3D.\n"
     ]
    },
    {
     "data": {
      "text/plain": [
       "[7, 5, 15, 13]"
      ]
     },
     "execution_count": 15,
     "metadata": {},
     "output_type": "execute_result"
    }
   ],
   "source": [
    "# no parent object\n",
    "\n",
    "res_obj1 = blimp.processing.quantify._quantify_single_timepoint_3D(\n",
    "    intensity_image = intensity_image_3D,\n",
    "    label_image = label_image_3D,\n",
    "    measure_object = 0,\n",
    "    timepoint = 0)\n",
    "\n",
    "res_obj1['Object1-3D-MIP_area'].to_list()==[10.**2, 9.**2, 30.**2, 46.**2]\n",
    "res_obj1['Object1_3D_area'].to_list()==[10.**3, 9.**3, 30.**3, 46.**3]\n",
    "res_obj1['Object1-3D-Middle_perimeter'].to_list()==[10.*4-4, 9.*4-4, 30.*4-4, 46.*4-4]\n",
    "\n",
    "res_obj2 = blimp.processing.quantify._quantify_single_timepoint_3D(\n",
    "    intensity_image = intensity_image_3D,\n",
    "    label_image = label_image_3D,\n",
    "    measure_object = 1,\n",
    "    timepoint = 0)\n",
    "\n",
    "res_obj2.count().label==100\n",
    "list(np.unique(res_obj2.Object2_3D_area)) == [2.**3]\n",
    "\n",
    "with pytest.raises(AttributeError):\n",
    "    # check no parent label when parent_label is none\n",
    "    parents = res_obj2.parent_label\n",
    "\n",
    "# parent object\n",
    "res_obj1_parent1 = blimp.processing.quantify._quantify_single_timepoint_3D(\n",
    "    intensity_image = intensity_image_3D,\n",
    "    label_image = label_image_3D,\n",
    "    measure_object = 0,\n",
    "    parent_object = 0,\n",
    "    timepoint = 0)\n",
    "\n",
    "# check the parent object labels are correct when parent = measure\n",
    "res_obj1_parent1.parent_label.to_list() == [1,2,3,4]\n",
    "\n",
    "res_obj2_parent1 = blimp.processing.quantify._quantify_single_timepoint_3D(\n",
    "    intensity_image=intensity_image_3D,\n",
    "    label_image=label_image_3D,\n",
    "    measure_object=1,\n",
    "    parent_object=0,\n",
    "    timepoint=0\n",
    ")\n",
    "\n",
    "res_obj2_parent1.query(\"parent_label != 0\").groupby('parent_label').size().to_list()"
   ]
  },
  {
   "cell_type": "code",
   "execution_count": 16,
   "id": "7e7a9a6f",
   "metadata": {},
   "outputs": [
    {
     "data": {
      "text/plain": [
       "Index(['label', 'Object2_3D_centroid_0', 'Object2_3D_centroid_1',\n",
       "       'Object2_3D_centroid_2', 'Object2_3D_area', 'Object2_3D_area_convex',\n",
       "       'Object2_3D_axis_major_length', 'Object2_3D_axis_minor_length',\n",
       "       'Object2_3D_extent', 'Object2_3D_feret_diameter_max',\n",
       "       'Object2_3D_solidity', 'Object2_3D_intensity_mean_Channel1',\n",
       "       'Object2_3D_intensity_max_Channel1',\n",
       "       'Object2_3D_intensity_min_Channel1', 'Object2_3D_intensity_sd_Channel1',\n",
       "       'Object2_3D_intensity_median_Channel1',\n",
       "       'Object2_3D_intensity_mean_Channel2',\n",
       "       'Object2_3D_intensity_max_Channel2',\n",
       "       'Object2_3D_intensity_min_Channel2', 'Object2_3D_intensity_sd_Channel2',\n",
       "       'Object2_3D_intensity_median_Channel2',\n",
       "       'Object2_3D_intensity_mean_Channel3',\n",
       "       'Object2_3D_intensity_max_Channel3',\n",
       "       'Object2_3D_intensity_min_Channel3', 'Object2_3D_intensity_sd_Channel3',\n",
       "       'Object2_3D_intensity_median_Channel3', 'Object2-3D-MIP_area',\n",
       "       'Object2-3D-MIP_area_convex', 'Object2-3D-MIP_axis_major_length',\n",
       "       'Object2-3D-MIP_axis_minor_length', 'Object2-3D-MIP_eccentricity',\n",
       "       'Object2-3D-MIP_extent', 'Object2-3D-MIP_feret_diameter_max',\n",
       "       'Object2-3D-MIP_solidity', 'Object2-3D-MIP_perimeter',\n",
       "       'Object2-3D-MIP_perimeter_crofton', 'Object2-3D-MIP_euler_number',\n",
       "       'Object2-3D-MIP_intensity_mean_Channel1',\n",
       "       'Object2-3D-MIP_intensity_max_Channel1',\n",
       "       'Object2-3D-MIP_intensity_min_Channel1',\n",
       "       'Object2-3D-MIP_intensity_sd_Channel1',\n",
       "       'Object2-3D-MIP_intensity_median_Channel1',\n",
       "       'Object2-3D-MIP_intensity_mean_Channel2',\n",
       "       'Object2-3D-MIP_intensity_max_Channel2',\n",
       "       'Object2-3D-MIP_intensity_min_Channel2',\n",
       "       'Object2-3D-MIP_intensity_sd_Channel2',\n",
       "       'Object2-3D-MIP_intensity_median_Channel2',\n",
       "       'Object2-3D-MIP_intensity_mean_Channel3',\n",
       "       'Object2-3D-MIP_intensity_max_Channel3',\n",
       "       'Object2-3D-MIP_intensity_min_Channel3',\n",
       "       'Object2-3D-MIP_intensity_sd_Channel3',\n",
       "       'Object2-3D-MIP_intensity_median_Channel3', 'Object2-3D-Middle_area',\n",
       "       'Object2-3D-Middle_area_convex', 'Object2-3D-Middle_axis_major_length',\n",
       "       'Object2-3D-Middle_axis_minor_length', 'Object2-3D-Middle_eccentricity',\n",
       "       'Object2-3D-Middle_extent', 'Object2-3D-Middle_feret_diameter_max',\n",
       "       'Object2-3D-Middle_solidity', 'Object2-3D-Middle_perimeter',\n",
       "       'Object2-3D-Middle_perimeter_crofton', 'Object2-3D-Middle_euler_number',\n",
       "       'Object2-3D-Middle_intensity_mean_Channel1',\n",
       "       'Object2-3D-Middle_intensity_max_Channel1',\n",
       "       'Object2-3D-Middle_intensity_min_Channel1',\n",
       "       'Object2-3D-Middle_intensity_sd_Channel1',\n",
       "       'Object2-3D-Middle_intensity_median_Channel1',\n",
       "       'Object2-3D-Middle_intensity_mean_Channel2',\n",
       "       'Object2-3D-Middle_intensity_max_Channel2',\n",
       "       'Object2-3D-Middle_intensity_min_Channel2',\n",
       "       'Object2-3D-Middle_intensity_sd_Channel2',\n",
       "       'Object2-3D-Middle_intensity_median_Channel2',\n",
       "       'Object2-3D-Middle_intensity_mean_Channel3',\n",
       "       'Object2-3D-Middle_intensity_max_Channel3',\n",
       "       'Object2-3D-Middle_intensity_min_Channel3',\n",
       "       'Object2-3D-Middle_intensity_sd_Channel3',\n",
       "       'Object2-3D-Middle_intensity_median_Channel3', 'Object2_3D_is_border',\n",
       "       'Object2_is_border_XY', 'TimepointID'],\n",
       "      dtype='object')"
      ]
     },
     "execution_count": 16,
     "metadata": {},
     "output_type": "execute_result"
    }
   ],
   "source": [
    "res_obj2.columns"
   ]
  },
  {
   "cell_type": "code",
   "execution_count": 17,
   "id": "39e49439",
   "metadata": {},
   "outputs": [
    {
     "data": {
      "text/plain": [
       "[<Labels layer 'Object1 [2]' at 0x35b2f2110>,\n",
       " <Labels layer 'Object2 [2]' at 0x35d0f8fa0>,\n",
       " <Labels layer 'Object3 [2]' at 0x35b2f0550>]"
      ]
     },
     "execution_count": 17,
     "metadata": {},
     "output_type": "execute_result"
    }
   ],
   "source": [
    "[viewer.add_labels(label_image_3D.get_image_data(\"ZYX\",C=i),name=label_image_2D.channel_names[i]) for i in range(label_image_2D.dims.C)]\n"
   ]
  },
  {
   "cell_type": "code",
   "execution_count": 22,
   "id": "2e6dd5c3",
   "metadata": {},
   "outputs": [
    {
     "name": "stderr",
     "output_type": "stream",
     "text": [
      "03-Nov-24 22:42:55 - blimp.processing.quantify - WARNING  - Detecting parent objects in 3D leads to ambiguity for object relationships in derived 2D features.\n",
      "03-Nov-24 22:42:55 - blimp.processing.quantify - WARNING  - Derived 2D features (3D-MIP and 3D-Middle) are omitted for clarity.\n",
      "03-Nov-24 22:42:55 - blimp.processing.quantify - INFO     - ``label_image`` is 3D (200 Z-planes). Measuring parent in 3D.\n",
      "03-Nov-24 22:42:56 - blimp.processing.quantify - WARNING  - Detecting parent objects in 3D leads to ambiguity for object relationships in derived 2D features.\n",
      "03-Nov-24 22:42:56 - blimp.processing.quantify - WARNING  - Derived 2D features (3D-MIP and 3D-Middle) are omitted for clarity.\n",
      "03-Nov-24 22:42:56 - blimp.processing.quantify - INFO     - ``label_image`` is 3D (200 Z-planes). Measuring parent in 3D.\n",
      "03-Nov-24 22:42:56 - blimp.processing.quantify - WARNING  - Detecting parent objects in 3D leads to ambiguity for object relationships in derived 2D features.\n",
      "03-Nov-24 22:42:56 - blimp.processing.quantify - WARNING  - Derived 2D features (3D-MIP and 3D-Middle) are omitted for clarity.\n",
      "03-Nov-24 22:42:56 - blimp.processing.quantify - INFO     - ``label_image`` is 3D (200 Z-planes). Measuring parent in 3D.\n"
     ]
    },
    {
     "data": {
      "text/plain": [
       "True"
      ]
     },
     "execution_count": 22,
     "metadata": {},
     "output_type": "execute_result"
    }
   ],
   "source": [
    "# parent object\n",
    "res_obj1_parent1 = blimp.processing.quantify._quantify_single_timepoint_3D(\n",
    "    intensity_image = intensity_image_3D,\n",
    "    label_image = label_image_3D,\n",
    "    measure_object = 0,\n",
    "    parent_object = 0,\n",
    "    timepoint = 0)\n",
    "\n",
    "# check the parent object labels are correct when parent = measure\n",
    "res_obj1_parent1.parent_label.to_list() == [1,2,3,4]\n",
    "\n",
    "with pytest.raises(ValueError):\n",
    "    # check for ValueError when assignment of measure objects to parent is ambiguous\n",
    "    res_obj3_parent1 = blimp.processing.quantify._quantify_single_timepoint_3D(\n",
    "        intensity_image = intensity_image_3D,\n",
    "        label_image = label_image_3D,\n",
    "        measure_object = 2,\n",
    "        parent_object = 0,\n",
    "        timepoint = 0)\n",
    "\n",
    "# quantify object channel 1 relative to parent object channel 0\n",
    "res_obj2_parent1 = blimp.processing.quantify._quantify_single_timepoint_3D(\n",
    "    intensity_image = intensity_image_3D,\n",
    "    label_image = label_image_3D,\n",
    "    measure_object = 1,\n",
    "    parent_object = 0,\n",
    "    timepoint = 0)\n",
    "\n",
    "list(np.unique(res_obj2_parent1.parent_label_name)) == [\"Object1\"]\n",
    "\n",
    "# check the number of objects in each parent object is correct\n",
    "res_obj2_parent1.query(\"parent_label != 0\").groupby('parent_label').size().to_list() == [7, 5, 15, 13]"
   ]
  },
  {
   "cell_type": "code",
   "execution_count": null,
   "id": "ce7bbfb1",
   "metadata": {},
   "outputs": [],
   "source": [
    "# test intensity_channels\n",
    "res_obj2_intensity1_str_input = blimp.processing.quantify._quantify_single_timepoint_3D(\n",
    "    intensity_image = intensity_image_3D,\n",
    "    label_image = label_image_3D,\n",
    "    measure_object = 1,\n",
    "    timepoint = 0,\n",
    "    intensity_channels=\"Channel1\")\n",
    "\n",
    "res_obj2_intensity1_list1_str_input = blimp.processing.quantify._quantify_single_timepoint_3D(\n",
    "    intensity_image = intensity_image_3D,\n",
    "    label_image = label_image_3D,\n",
    "    measure_object = 1,\n",
    "    timepoint = 0,\n",
    "    intensity_channels=[\"Channel1\"])\n",
    "\n",
    "res_obj2_intensity1_list2_str_input = blimp.processing.quantify._quantify_single_timepoint_3D(\n",
    "    intensity_image = intensity_image_3D,\n",
    "    label_image = label_image_3D,\n",
    "    measure_object = 1,\n",
    "    timepoint = 0,\n",
    "    intensity_channels=[\"Channel1\",\"Channel2\"])\n",
    "\n",
    "res_obj2_intensity1_list_int_input = blimp.processing.quantify._quantify_single_timepoint_3D(\n",
    "    intensity_image = intensity_image_3D,\n",
    "    label_image = label_image_3D,\n",
    "    measure_object = 1,\n",
    "    timepoint = 0,\n",
    "    intensity_channels=[0,1])\n",
    "\n",
    "with pytest.raises(AttributeError):\n",
    "    res_obj2_intensity1_str_input.Object2_intensity_min_Channel2\n",
    "with pytest.raises(AttributeError):\n",
    "    res_obj2_intensity1_list1_str_input.Object2_intensity_min_Channel2\n",
    "with pytest.raises(AttributeError):\n",
    "    res_obj2_intensity1_list2_str_input.Object2_intensity_min_Channel3\n",
    "\n",
    "list(np.unique(res_obj2_intensity1_str_input.Object2_3D_intensity_min_Channel1)) == [0,1000.,2000.,3000.,4000.]\n",
    "list(np.unique(res_obj2_intensity1_list1_str_input.Object2_3D_intensity_min_Channel1)) == [0,1000.,2000.,3000.,4000.]\n",
    "list(np.unique(res_obj2_intensity1_list2_str_input.Object2_3D_intensity_min_Channel2)) == [5000.,6000.]\n"
   ]
  },
  {
   "cell_type": "code",
   "execution_count": 25,
   "id": "ec50bc20",
   "metadata": {},
   "outputs": [
    {
     "data": {
      "text/plain": [
       "Index(['label', 'Object2_3D_centroid_0', 'Object2_3D_centroid_1',\n",
       "       'Object2_3D_centroid_2', 'Object2_3D_area', 'Object2_3D_area_convex',\n",
       "       'Object2_3D_axis_major_length', 'Object2_3D_axis_minor_length',\n",
       "       'Object2_3D_extent', 'Object2_3D_feret_diameter_max',\n",
       "       'Object2_3D_solidity', 'Object2_3D_intensity_mean_Channel2',\n",
       "       'Object2_3D_intensity_max_Channel2',\n",
       "       'Object2_3D_intensity_min_Channel2', 'Object2_3D_intensity_sd_Channel2',\n",
       "       'Object2_3D_intensity_median_Channel2',\n",
       "       'Object2_3D_intensity_mean_Channel1',\n",
       "       'Object2_3D_intensity_max_Channel1',\n",
       "       'Object2_3D_intensity_min_Channel1', 'Object2_3D_intensity_sd_Channel1',\n",
       "       'Object2_3D_intensity_median_Channel1', 'Object2-3D-MIP_area',\n",
       "       'Object2-3D-MIP_area_convex', 'Object2-3D-MIP_axis_major_length',\n",
       "       'Object2-3D-MIP_axis_minor_length', 'Object2-3D-MIP_eccentricity',\n",
       "       'Object2-3D-MIP_extent', 'Object2-3D-MIP_feret_diameter_max',\n",
       "       'Object2-3D-MIP_solidity', 'Object2-3D-MIP_perimeter',\n",
       "       'Object2-3D-MIP_perimeter_crofton', 'Object2-3D-MIP_euler_number',\n",
       "       'Object2-3D-MIP_intensity_mean_Channel2',\n",
       "       'Object2-3D-MIP_intensity_max_Channel2',\n",
       "       'Object2-3D-MIP_intensity_min_Channel2',\n",
       "       'Object2-3D-MIP_intensity_sd_Channel2',\n",
       "       'Object2-3D-MIP_intensity_median_Channel2',\n",
       "       'Object2-3D-MIP_intensity_mean_Channel1',\n",
       "       'Object2-3D-MIP_intensity_max_Channel1',\n",
       "       'Object2-3D-MIP_intensity_min_Channel1',\n",
       "       'Object2-3D-MIP_intensity_sd_Channel1',\n",
       "       'Object2-3D-MIP_intensity_median_Channel1', 'Object2-3D-Middle_area',\n",
       "       'Object2-3D-Middle_area_convex', 'Object2-3D-Middle_axis_major_length',\n",
       "       'Object2-3D-Middle_axis_minor_length', 'Object2-3D-Middle_eccentricity',\n",
       "       'Object2-3D-Middle_extent', 'Object2-3D-Middle_feret_diameter_max',\n",
       "       'Object2-3D-Middle_solidity', 'Object2-3D-Middle_perimeter',\n",
       "       'Object2-3D-Middle_perimeter_crofton', 'Object2-3D-Middle_euler_number',\n",
       "       'Object2-3D-Middle_intensity_mean_Channel2',\n",
       "       'Object2-3D-Middle_intensity_max_Channel2',\n",
       "       'Object2-3D-Middle_intensity_min_Channel2',\n",
       "       'Object2-3D-Middle_intensity_sd_Channel2',\n",
       "       'Object2-3D-Middle_intensity_median_Channel2',\n",
       "       'Object2-3D-Middle_intensity_mean_Channel1',\n",
       "       'Object2-3D-Middle_intensity_max_Channel1',\n",
       "       'Object2-3D-Middle_intensity_min_Channel1',\n",
       "       'Object2-3D-Middle_intensity_sd_Channel1',\n",
       "       'Object2-3D-Middle_intensity_median_Channel1', 'Object2_3D_is_border',\n",
       "       'Object2_is_border_XY', 'TimepointID'],\n",
       "      dtype='object')"
      ]
     },
     "execution_count": 25,
     "metadata": {},
     "output_type": "execute_result"
    }
   ],
   "source": [
    "res_obj2_intensity1_list_int_input.columns"
   ]
  },
  {
   "cell_type": "code",
   "execution_count": null,
   "id": "202c4256",
   "metadata": {},
   "outputs": [
    {
     "data": {
      "text/plain": [
       "True"
      ]
     },
     "execution_count": 30,
     "metadata": {},
     "output_type": "execute_result"
    }
   ],
   "source": [
    "list(np.unique(res_obj2_intensity1_str_input.Object2_3D_intensity_min_Channel1)) == [0,1000.,2000.,3000.,4000.]\n",
    "list(np.unique(res_obj2_intensity1_list1_str_input.Object2_3D_intensity_min_Channel1)) == [0,1000.,2000.,3000.,4000.]\n",
    "list(np.unique(res_obj2_intensity1_list2_str_input.Object2_3D_intensity_min_Channel2)) == [5000.,6000.]"
   ]
  },
  {
   "cell_type": "code",
   "execution_count": null,
   "id": "08d3834f",
   "metadata": {},
   "outputs": [],
   "source": [
    "res_obj2_intensity1_str_input.columns"
   ]
  },
  {
   "cell_type": "code",
   "execution_count": null,
   "id": "c3f54ac4",
   "metadata": {},
   "outputs": [],
   "source": [
    "# test texture_channels\n",
    "\n",
    "# calculate_textures = False overrides texture channels provided\n",
    "res_obj1_texture1_str_input_texture_false = blimp.processing.quantify._quantify_single_timepoint_2D(\n",
    "    intensity_image = intensity_image_2D,\n",
    "    label_image = label_image_2D,\n",
    "    measure_object = 0,\n",
    "    timepoint = 0,\n",
    "    calculate_textures=False,\n",
    "    texture_channels=\"Channel1\")\n",
    "\n",
    "with pytest.raises(KeyError):\n",
    "    res_obj1_texture1_str_input_texture_false['Object1_Channel1_Haralick-angular-second-moment-1']\n",
    "\n",
    "# calculate_textures = True with texture channels not specified calculates all\n",
    "res_obj1_texture_none_texture_true = blimp.processing.quantify._quantify_single_timepoint_2D(\n",
    "    intensity_image = intensity_image_2D,\n",
    "    label_image = label_image_2D,\n",
    "    measure_object = 0,\n",
    "    timepoint = 0,\n",
    "    calculate_textures=True)\n",
    "\n",
    "len(res_obj1_texture_none_texture_true['Object1_Channel3_Haralick-diff-var-3'].to_list())==4\n",
    "\n",
    "# calculate_textures = True with texture channels specified calculates only those specified\n",
    "res_obj1_texture1_str_input_texture_true = blimp.processing.quantify._quantify_single_timepoint_2D(\n",
    "    intensity_image = intensity_image_2D,\n",
    "    label_image = label_image_2D,\n",
    "    measure_object = 0,\n",
    "    timepoint = 0,\n",
    "    calculate_textures=True,\n",
    "    texture_channels=\"Channel1\")\n",
    "\n",
    "res_obj1_texture1_str_input_texture_true['Object1_Channel1_Haralick-angular-second-moment-1'].to_list() == [1.,1.,1.,1.]\n",
    "with pytest.raises(KeyError):\n",
    "    res_obj1_texture1_str_input_texture_false['Object1_Channel3_Haralick-angular-second-moment-1']\n"
   ]
  },
  {
   "cell_type": "code",
   "execution_count": null,
   "id": "e6b9972d",
   "metadata": {},
   "outputs": [],
   "source": [
    "len(res_obj1_texture_none_texture_true['Object1_Channel3_Haralick-diff-var-3'].to_list())==4"
   ]
  },
  {
   "cell_type": "code",
   "execution_count": null,
   "id": "9271bd70",
   "metadata": {},
   "outputs": [],
   "source": [
    "# test no border objects\n",
    "res_no_border = blimp.processing.quantify._quantify_single_timepoint_2D(\n",
    "    intensity_image = intensity_image_2D,\n",
    "    label_image = label_image_2D,\n",
    "    measure_object = 0,\n",
    "    timepoint = 0,\n",
    "    intensity_channels=\"Channel1\")\n",
    "\n",
    "not any(res_no_border.Object1_is_border)\n",
    "\n",
    "# test one border object (crop image to generate a border object)\n",
    "res_border = blimp.processing.quantify._quantify_single_timepoint_2D(\n",
    "    intensity_image = AICSImage(\n",
    "        intensity_image_2D.data[:,:,:,52:,52:],\n",
    "        channel_names=intensity_image_2D.channel_names),\n",
    "    label_image = AICSImage(\n",
    "        label_image_2D.data[:,:,:,52:,52:],\n",
    "        channel_names=label_image_2D.channel_names),\n",
    "    measure_object = 0,\n",
    "    timepoint = 0,\n",
    "    intensity_channels=\"Channel1\")\n",
    "\n",
    "res_border.query(\"label==1\").Object1_is_border\n"
   ]
  },
  {
   "cell_type": "code",
   "execution_count": null,
   "id": "060af288",
   "metadata": {},
   "outputs": [],
   "source": []
  },
  {
   "cell_type": "code",
   "execution_count": null,
   "id": "890faf35",
   "metadata": {},
   "outputs": [],
   "source": [
    "np.max(label_image_2D.get_image_data('YX',C=2))"
   ]
  },
  {
   "cell_type": "code",
   "execution_count": null,
   "id": "3b0f122f-aab4-441e-981b-7ca5d55e79ad",
   "metadata": {},
   "outputs": [],
   "source": [
    "features_non_aggregated = quantify(\n",
    "    intensity_image=intensity_image,\n",
    "    label_image=all_channels,\n",
    "    parent_object=\"Nuclei\",\n",
    "    aggregate=False)"
   ]
  },
  {
   "cell_type": "code",
   "execution_count": null,
   "id": "0010c485-649d-46a4-ba28-2df1b671020a",
   "metadata": {},
   "outputs": [],
   "source": [
    "len(features_non_aggregated)"
   ]
  },
  {
   "cell_type": "code",
   "execution_count": null,
   "id": "f37cae7c-3310-4bf5-8d9c-222889719456",
   "metadata": {},
   "outputs": [],
   "source": [
    "features_aggregated = quantify(\n",
    "    intensity_image=intensity_image,\n",
    "    label_image=all_channels,\n",
    "    parent_object=\"Nuclei\",\n",
    "    aggregate=True)"
   ]
  },
  {
   "cell_type": "code",
   "execution_count": null,
   "id": "b6bf9751-8b95-49c0-a9e9-c41173bcf454",
   "metadata": {},
   "outputs": [],
   "source": [
    "features_aggregated.columns"
   ]
  },
  {
   "cell_type": "code",
   "execution_count": null,
   "id": "8fc48854-10c6-421f-b1a6-433ad68691cf",
   "metadata": {},
   "outputs": [],
   "source": []
  }
 ],
 "metadata": {
  "kernelspec": {
   "display_name": "py310",
   "language": "python",
   "name": "python3"
  },
  "language_info": {
   "codemirror_mode": {
    "name": "ipython",
    "version": 3
   },
   "file_extension": ".py",
   "mimetype": "text/x-python",
   "name": "python",
   "nbconvert_exporter": "python",
   "pygments_lexer": "ipython3",
   "version": "3.10.13"
  }
 },
 "nbformat": 4,
 "nbformat_minor": 5
}
