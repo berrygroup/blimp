{
 "cells": [
  {
   "cell_type": "code",
   "execution_count": 1,
   "id": "32cdd3df-3c7d-4ed6-9857-9311c00665fc",
   "metadata": {},
   "outputs": [
    {
     "name": "stderr",
     "output_type": "stream",
     "text": [
      "05-Nov-24 21:05:38 - bfio.backends - WARNING  - Java backend is not available. This could be due to a missing dependency (jpype).\n"
     ]
    }
   ],
   "source": [
    "import pandas as pd\n",
    "import numpy as np\n",
    "import napari\n",
    "import pytest\n",
    "\n",
    "from pathlib import Path\n",
    "from aicsimageio import AICSImage, readers\n",
    "from blimp.preprocessing.illumination_correction import IlluminationCorrection\n",
    "import blimp.processing.quantify"
   ]
  },
  {
   "cell_type": "code",
   "execution_count": 2,
   "id": "0f816464",
   "metadata": {},
   "outputs": [],
   "source": [
    "viewer = napari.Viewer()"
   ]
  },
  {
   "cell_type": "code",
   "execution_count": 2,
   "id": "33e3d0a1-af09-4e72-9b1c-85e157b723a3",
   "metadata": {},
   "outputs": [],
   "source": [
    "import logging\n",
    "logger = logging.getLogger()\n",
    "logger.setLevel(logging.INFO)"
   ]
  },
  {
   "cell_type": "code",
   "execution_count": 3,
   "id": "31cc7374",
   "metadata": {},
   "outputs": [],
   "source": [
    "\n",
    "_data_dir = Path(\"/Users/z3532965/src/blimp/tests/_data/\")\n",
    "intensity_image_2D = AICSImage(_data_dir / \"datasets\" / \"synthetic_images\" / \"synthetic_intensity_image_TYX.tiff\")\n",
    "label_image_2D = AICSImage(_data_dir / \"datasets\" / \"synthetic_images\" / \"synthetic_label_image_TYX.tiff\")\n",
    "intensity_image_3D = AICSImage(_data_dir / \"datasets\" / \"synthetic_images\" / \"synthetic_intensity_image_TZYX.tiff\")\n",
    "label_image_3D = AICSImage(_data_dir / \"datasets\" / \"synthetic_images\" / \"synthetic_label_image_TZYX.tiff\")\n"
   ]
  },
  {
   "cell_type": "markdown",
   "id": "e8f3eea1",
   "metadata": {},
   "source": [
    "``_measure_parent_object_label``"
   ]
  },
  {
   "cell_type": "code",
   "execution_count": 5,
   "id": "90c0b68e-2ec4-47dc-8a1a-86236bcf707a",
   "metadata": {},
   "outputs": [
    {
     "name": "stderr",
     "output_type": "stream",
     "text": [
      "05-Nov-24 16:39:07 - blimp.processing.quantify - INFO     - ``label_image`` is 2D. Quantifying 2D features only.\n",
      "05-Nov-24 16:39:07 - blimp.processing.quantify - INFO     - ``label_image`` is 2D. Quantifying 2D features only.\n"
     ]
    },
    {
     "data": {
      "text/plain": [
       "[<Labels layer 'Object1' at 0x334d5ab30>,\n",
       " <Labels layer 'Object2' at 0x334d68670>,\n",
       " <Labels layer 'Object3' at 0x345cef8b0>]"
      ]
     },
     "execution_count": 5,
     "metadata": {},
     "output_type": "execute_result"
    }
   ],
   "source": [
    "with pytest.raises(ValueError):\n",
    "    # check for ValueError when assignment of measure objects to parent is ambiguous\n",
    "    blimp.processing.quantify._measure_parent_object_label(\n",
    "        label_image = label_image_2D,\n",
    "        measure_object_index = 2,\n",
    "        parent_object_index = 0,\n",
    "        timepoint = 0)\n",
    "\n",
    "res = blimp.processing.quantify._measure_parent_object_label(\n",
    "    label_image = label_image_2D,\n",
    "    measure_object_index = 1,\n",
    "    parent_object_index = 0,\n",
    "    timepoint = 0)\n",
    "\n",
    "res.to_csv(_data_dir / \"resources\" / \"measure_parent_label_2D_results_t_0.csv\")\n",
    "\n",
    "[viewer.add_labels(label_image_2D.get_image_data(\"YX\",C=i),name=label_image_2D.channel_names[i]) for i in range(label_image_2D.dims.C)]\n"
   ]
  },
  {
   "cell_type": "code",
   "execution_count": 6,
   "id": "e8bcb6c3",
   "metadata": {},
   "outputs": [
    {
     "data": {
      "text/plain": [
       "<Labels layer 'parent_labels_array' at 0x346168760>"
      ]
     },
     "execution_count": 6,
     "metadata": {},
     "output_type": "execute_result"
    }
   ],
   "source": [
    "# check visually that this looks ok\n",
    "\n",
    "# Convert DataFrame to dictionary for mapping\n",
    "parent_labels_dict = dict(zip(res['label'], res['parent_label']))\n",
    "\n",
    "# Replace values in the 2D array using np.vectorize with the dictionary\n",
    "original_labels_array = label_image_2D.get_image_data(\"YX\",C=1)\n",
    "parent_labels_array = np.vectorize(parent_labels_dict.get)(original_labels_array, original_labels_array)\n",
    "viewer.add_labels(parent_labels_array)\n"
   ]
  },
  {
   "cell_type": "markdown",
   "id": "f7683848",
   "metadata": {},
   "source": [
    "3D"
   ]
  },
  {
   "cell_type": "code",
   "execution_count": 7,
   "id": "450466ac",
   "metadata": {},
   "outputs": [
    {
     "name": "stderr",
     "output_type": "stream",
     "text": [
      "05-Nov-24 16:39:12 - blimp.processing.quantify - INFO     - ``label_image`` is 3D (200 Z-planes). Measuring parent in 3D.\n"
     ]
    },
    {
     "name": "stderr",
     "output_type": "stream",
     "text": [
      "05-Nov-24 16:39:14 - blimp.processing.quantify - INFO     - ``label_image`` is 3D (200 Z-planes). Measuring parent in 3D.\n"
     ]
    },
    {
     "data": {
      "text/plain": [
       "[<Labels layer 'Object1 [1]' at 0x3461a3eb0>,\n",
       " <Labels layer 'Object2 [1]' at 0x3658cec80>,\n",
       " <Labels layer 'Object3 [1]' at 0x3461a2380>]"
      ]
     },
     "execution_count": 7,
     "metadata": {},
     "output_type": "execute_result"
    }
   ],
   "source": [
    "with pytest.raises(ValueError):\n",
    "    # check for ValueError when assignment of measure objects to parent is ambiguous\n",
    "    blimp.processing.quantify._measure_parent_object_label(\n",
    "        label_image = label_image_3D,\n",
    "        measure_object_index = 2,\n",
    "        parent_object_index = 0,\n",
    "        timepoint = 0)\n",
    "\n",
    "res = blimp.processing.quantify._measure_parent_object_label(\n",
    "    label_image = label_image_3D,\n",
    "    measure_object_index = 1,\n",
    "    parent_object_index = 0,\n",
    "    timepoint = 0)\n",
    "\n",
    "res.to_csv(_data_dir / \"datasets\" / \"synthetic_images\" / \"measure_parent_label_3D_results_t_0.csv\")\n",
    "\n",
    "[viewer.add_labels(label_image_3D.get_image_data(\"ZYX\",C=i),name=label_image_2D.channel_names[i]) for i in range(label_image_2D.dims.C)]\n"
   ]
  },
  {
   "cell_type": "code",
   "execution_count": 8,
   "id": "a8b76579",
   "metadata": {},
   "outputs": [
    {
     "data": {
      "text/plain": [
       "<Labels layer 'parent_labels_array [1]' at 0x3464cb9d0>"
      ]
     },
     "execution_count": 8,
     "metadata": {},
     "output_type": "execute_result"
    }
   ],
   "source": [
    "# check visually that this looks ok\n",
    "\n",
    "# Convert DataFrame to dictionary for mapping\n",
    "parent_labels_dict = dict(zip(res['label'], res['parent_label']))\n",
    "\n",
    "# Replace values in the 2D array using np.vectorize with the dictionary\n",
    "original_labels_array = label_image_3D.get_image_data(\"ZYX\",C=1)\n",
    "parent_labels_array = np.vectorize(parent_labels_dict.get)(original_labels_array, original_labels_array)\n",
    "viewer.add_labels(parent_labels_array)"
   ]
  },
  {
   "cell_type": "markdown",
   "id": "4e9a876b",
   "metadata": {},
   "source": [
    "``_quantify_single_timepoint_2D``"
   ]
  },
  {
   "cell_type": "code",
   "execution_count": 9,
   "id": "9355fba5",
   "metadata": {},
   "outputs": [
    {
     "name": "stderr",
     "output_type": "stream",
     "text": [
      "05-Nov-24 16:39:18 - blimp.processing.quantify - INFO     - ``label_image`` is 2D. Quantifying 2D features only.\n",
      "05-Nov-24 16:39:18 - blimp.processing.quantify - INFO     - ``label_image`` is 2D. Quantifying 2D features only.\n",
      "05-Nov-24 16:39:18 - blimp.processing.quantify - INFO     - ``label_image`` is 2D. Quantifying 2D features only.\n"
     ]
    },
    {
     "data": {
      "text/plain": [
       "True"
      ]
     },
     "execution_count": 9,
     "metadata": {},
     "output_type": "execute_result"
    }
   ],
   "source": [
    "\n",
    "# no parent object\n",
    "res_obj1 = blimp.processing.quantify._quantify_single_timepoint_2D(\n",
    "    intensity_image = intensity_image_2D,\n",
    "    label_image = label_image_2D,\n",
    "    measure_object = 0,\n",
    "    timepoint = 0)\n",
    "\n",
    "res_obj1.Object1_intensity_max_Channel1.to_list() == [1000.,2000.,3000.,4000.]\n",
    "res_obj1.Object1_area.to_list() == [100.0,81.0,900.0,961.0]\n",
    "\n",
    "res_obj2 = blimp.processing.quantify._quantify_single_timepoint_2D(\n",
    "    intensity_image = intensity_image_2D,\n",
    "    label_image = label_image_2D,\n",
    "    measure_object = 1,\n",
    "    timepoint = 0)\n",
    "\n",
    "res_obj2.count().label==100\n",
    "list(np.unique(res_obj2.Object2_area)) == [4.0]\n",
    "\n",
    "with pytest.raises(AttributeError):\n",
    "    # check no parent label when parent_label is none\n",
    "    parents = res_obj2.parent_label\n",
    "\n",
    "# parent object\n",
    "res_obj1_parent1 = blimp.processing.quantify._quantify_single_timepoint_2D(\n",
    "    intensity_image = intensity_image_2D,\n",
    "    label_image = label_image_2D,\n",
    "    measure_object = 0,\n",
    "    parent_object = 0,\n",
    "    timepoint = 0)\n",
    "\n",
    "# check the parent object labels are correct when parent = measure\n",
    "res_obj1_parent1.parent_label.to_list() == [1,2,3,4]\n",
    "\n",
    "with pytest.raises(ValueError):\n",
    "    # check for ValueError when assignment of measure objects to parent is ambiguous\n",
    "    res_obj3_parent1 = blimp.processing.quantify._quantify_single_timepoint_2D(\n",
    "        intensity_image = intensity_image_2D,\n",
    "        label_image = label_image_2D,\n",
    "        measure_object = 2,\n",
    "        parent_object = 0,\n",
    "        timepoint = 0)\n",
    "\n",
    "# quantify object channel 1 relative to parent object channel 0\n",
    "res_obj2_parent1 = blimp.processing.quantify._quantify_single_timepoint_2D(\n",
    "    intensity_image = intensity_image_2D,\n",
    "    label_image = label_image_2D,\n",
    "    measure_object = 1,\n",
    "    parent_object = 0,\n",
    "    timepoint = 0)\n",
    "\n",
    "list(np.unique(res_obj2_parent1.parent_label_name)) == [\"Object1\"]\n",
    "\n",
    "# check the number of objects in each parent object is correct\n",
    "res_obj2_parent1.query(\"parent_label != 0\").groupby('parent_label').size().to_list() == [5,4,21,20]\n"
   ]
  },
  {
   "cell_type": "code",
   "execution_count": 10,
   "id": "3e3ecee2",
   "metadata": {},
   "outputs": [
    {
     "data": {
      "text/plain": [
       "True"
      ]
     },
     "execution_count": 10,
     "metadata": {},
     "output_type": "execute_result"
    }
   ],
   "source": [
    "# test intensity_channels\n",
    "res_obj2_intensity1_str_input = blimp.processing.quantify._quantify_single_timepoint_2D(\n",
    "    intensity_image = intensity_image_2D,\n",
    "    label_image = label_image_2D,\n",
    "    measure_object = 1,\n",
    "    timepoint = 0,\n",
    "    intensity_channels=\"Channel1\")\n",
    "\n",
    "res_obj2_intensity1_list1_str_input = blimp.processing.quantify._quantify_single_timepoint_2D(\n",
    "    intensity_image = intensity_image_2D,\n",
    "    label_image = label_image_2D,\n",
    "    measure_object = 1,\n",
    "    timepoint = 0,\n",
    "    intensity_channels=[\"Channel1\"])\n",
    "\n",
    "res_obj2_intensity1_list2_str_input = blimp.processing.quantify._quantify_single_timepoint_2D(\n",
    "    intensity_image = intensity_image_2D,\n",
    "    label_image = label_image_2D,\n",
    "    measure_object = 1,\n",
    "    timepoint = 0,\n",
    "    intensity_channels=[\"Channel1\",\"Channel2\"])\n",
    "\n",
    "res_obj2_intensity1_list_int_input = blimp.processing.quantify._quantify_single_timepoint_2D(\n",
    "    intensity_image = intensity_image_2D,\n",
    "    label_image = label_image_2D,\n",
    "    measure_object = 1,\n",
    "    timepoint = 0,\n",
    "    intensity_channels=[0,1])\n",
    "\n",
    "with pytest.raises(AttributeError):\n",
    "    res_obj2_intensity1_str_input.Object2_intensity_min_Channel2\n",
    "with pytest.raises(AttributeError):\n",
    "    res_obj2_intensity1_list1_str_input.Object2_intensity_min_Channel2\n",
    "with pytest.raises(AttributeError):\n",
    "    res_obj2_intensity1_list2_str_input.Object2_intensity_min_Channel3\n",
    "\n",
    "list(np.unique(res_obj2_intensity1_str_input.Object2_intensity_min_Channel1)) == [0,1000.,2000.,3000.,4000.]\n",
    "list(np.unique(res_obj2_intensity1_list1_str_input.Object2_intensity_min_Channel1)) == [0,1000.,2000.,3000.,4000.]\n",
    "list(np.unique(res_obj2_intensity1_list2_str_input.Object2_intensity_min_Channel2)) == [0,5000.]\n"
   ]
  },
  {
   "cell_type": "code",
   "execution_count": 11,
   "id": "afe9715e",
   "metadata": {},
   "outputs": [],
   "source": [
    "# test texture_channels\n",
    "\n",
    "# calculate_textures = False overrides texture channels provided\n",
    "res_obj1_texture1_str_input_texture_false = blimp.processing.quantify._quantify_single_timepoint_2D(\n",
    "    intensity_image = intensity_image_2D,\n",
    "    label_image = label_image_2D,\n",
    "    measure_object = 0,\n",
    "    timepoint = 0,\n",
    "    calculate_textures=False,\n",
    "    texture_channels=\"Channel1\")\n",
    "\n",
    "with pytest.raises(KeyError):\n",
    "    res_obj1_texture1_str_input_texture_false['Object1_Channel1_Haralick-angular-second-moment-1']\n",
    "\n",
    "# calculate_textures = True with texture channels not specified calculates all\n",
    "res_obj1_texture_none_texture_true = blimp.processing.quantify._quantify_single_timepoint_2D(\n",
    "    intensity_image = intensity_image_2D,\n",
    "    label_image = label_image_2D,\n",
    "    measure_object = 0,\n",
    "    timepoint = 0,\n",
    "    calculate_textures=True)\n",
    "\n",
    "len(res_obj1_texture_none_texture_true['Object1_Channel3_Haralick-diff-var-3'].to_list())==4\n",
    "\n",
    "# calculate_textures = True with texture channels specified calculates only those specified\n",
    "res_obj1_texture1_str_input_texture_true = blimp.processing.quantify._quantify_single_timepoint_2D(\n",
    "    intensity_image = intensity_image_2D,\n",
    "    label_image = label_image_2D,\n",
    "    measure_object = 0,\n",
    "    timepoint = 0,\n",
    "    calculate_textures=True,\n",
    "    texture_channels=\"Channel1\")\n",
    "\n",
    "res_obj1_texture1_str_input_texture_true['Object1_Channel1_Haralick-angular-second-moment-1'].to_list() == [1.,1.,1.,1.]\n",
    "with pytest.raises(KeyError):\n",
    "    res_obj1_texture1_str_input_texture_false['Object1_Channel3_Haralick-angular-second-moment-1']\n"
   ]
  },
  {
   "cell_type": "code",
   "execution_count": 12,
   "id": "e706529c",
   "metadata": {},
   "outputs": [
    {
     "data": {
      "text/plain": [
       "True"
      ]
     },
     "execution_count": 12,
     "metadata": {},
     "output_type": "execute_result"
    }
   ],
   "source": [
    "len(res_obj1_texture_none_texture_true['Object1_Channel3_Haralick-diff-var-3'].to_list())==4"
   ]
  },
  {
   "cell_type": "code",
   "execution_count": 13,
   "id": "969bf539",
   "metadata": {},
   "outputs": [
    {
     "data": {
      "text/plain": [
       "True"
      ]
     },
     "execution_count": 13,
     "metadata": {},
     "output_type": "execute_result"
    }
   ],
   "source": [
    "# test no border objects\n",
    "res_no_border = blimp.processing.quantify._quantify_single_timepoint_2D(\n",
    "    intensity_image = intensity_image_2D,\n",
    "    label_image = label_image_2D,\n",
    "    measure_object = 0,\n",
    "    timepoint = 0,\n",
    "    intensity_channels=\"Channel1\")\n",
    "\n",
    "not any(res_no_border.Object1_is_border)\n",
    "\n",
    "# test one border object (crop image to generate a border object)\n",
    "res_border = blimp.processing.quantify._quantify_single_timepoint_2D(\n",
    "    intensity_image = AICSImage(\n",
    "        intensity_image_2D.data[:,:,:,52:,52:],\n",
    "        channel_names=intensity_image_2D.channel_names),\n",
    "    label_image = AICSImage(\n",
    "        label_image_2D.data[:,:,:,52:,52:],\n",
    "        channel_names=label_image_2D.channel_names),\n",
    "    measure_object = 0,\n",
    "    timepoint = 0,\n",
    "    intensity_channels=\"Channel1\")\n",
    "\n",
    "res_border.query(\"label==1\").Object1_is_border[0]==True\n"
   ]
  },
  {
   "cell_type": "markdown",
   "id": "77854253",
   "metadata": {},
   "source": [
    "``_quantify_single_timepoint_3D``"
   ]
  },
  {
   "cell_type": "code",
   "execution_count": 14,
   "id": "5266046a",
   "metadata": {},
   "outputs": [
    {
     "data": {
      "text/plain": [
       "['Channel1', 'Channel2', 'Channel3']"
      ]
     },
     "execution_count": 14,
     "metadata": {},
     "output_type": "execute_result"
    }
   ],
   "source": [
    "label_image_3D.channel_names\n",
    "intensity_image_3D.channel_names"
   ]
  },
  {
   "cell_type": "code",
   "execution_count": 17,
   "id": "9c3cc261",
   "metadata": {},
   "outputs": [
    {
     "name": "stderr",
     "output_type": "stream",
     "text": [
      "05-Nov-24 16:43:34 - blimp.processing.quantify - WARNING  - Detecting parent objects in 3D leads to ambiguity for object relationships in derived 2D features.\n",
      "05-Nov-24 16:43:34 - blimp.processing.quantify - WARNING  - Derived 2D features (3D-MIP and 3D-Middle) are omitted for clarity.\n",
      "05-Nov-24 16:43:40 - blimp.processing.quantify - INFO     - ``label_image`` is 3D (200 Z-planes). Measuring parent in 3D.\n",
      "05-Nov-24 16:43:40 - blimp.processing.quantify - WARNING  - Detecting parent objects in 3D leads to ambiguity for object relationships in derived 2D features.\n",
      "05-Nov-24 16:43:40 - blimp.processing.quantify - WARNING  - Derived 2D features (3D-MIP and 3D-Middle) are omitted for clarity.\n",
      "05-Nov-24 16:43:43 - blimp.processing.quantify - INFO     - ``label_image`` is 3D (200 Z-planes). Measuring parent in 3D.\n"
     ]
    },
    {
     "data": {
      "text/plain": [
       "[7, 5, 15, 13]"
      ]
     },
     "execution_count": 17,
     "metadata": {},
     "output_type": "execute_result"
    }
   ],
   "source": [
    "# no parent object\n",
    "\n",
    "res_obj1 = blimp.processing.quantify._quantify_single_timepoint_3D(\n",
    "    intensity_image = intensity_image_3D,\n",
    "    label_image = label_image_3D,\n",
    "    measure_object = 0,\n",
    "    timepoint = 0)\n",
    "\n",
    "res_obj1['Object1-3D-MIP_area'].to_list()==[10.**2, 9.**2, 30.**2, 46.**2]\n",
    "res_obj1['Object1-3D_area'].to_list()==[10.**3, 9.**3, 30.**3, 46.**3]\n",
    "res_obj1['Object1-3D-Middle_perimeter'].to_list()==[10.*4-4, 9.*4-4, 30.*4-4, 46.*4-4]\n",
    "\n",
    "res_obj2 = blimp.processing.quantify._quantify_single_timepoint_3D(\n",
    "    intensity_image = intensity_image_3D,\n",
    "    label_image = label_image_3D,\n",
    "    measure_object = 1,\n",
    "    timepoint = 0)\n",
    "\n",
    "res_obj2.count().label==100\n",
    "list(np.unique(res_obj2['Object2-3D_area'].to_list())) == [2.**3]\n",
    "\n",
    "with pytest.raises(AttributeError):\n",
    "    # check no parent label when parent_label is none\n",
    "    parents = res_obj2.parent_label\n",
    "\n",
    "# parent object\n",
    "res_obj1_parent1 = blimp.processing.quantify._quantify_single_timepoint_3D(\n",
    "    intensity_image = intensity_image_3D,\n",
    "    label_image = label_image_3D,\n",
    "    measure_object = 0,\n",
    "    parent_object = 0,\n",
    "    timepoint = 0)\n",
    "\n",
    "# check the parent object labels are correct when parent = measure\n",
    "res_obj1_parent1.parent_label.to_list() == [1,2,3,4]\n",
    "\n",
    "res_obj2_parent1 = blimp.processing.quantify._quantify_single_timepoint_3D(\n",
    "    intensity_image=intensity_image_3D,\n",
    "    label_image=label_image_3D,\n",
    "    measure_object=1,\n",
    "    parent_object=0,\n",
    "    timepoint=0\n",
    ")\n",
    "\n",
    "res_obj2_parent1.query(\"parent_label != 0\").groupby('parent_label').size().to_list()"
   ]
  },
  {
   "cell_type": "code",
   "execution_count": 18,
   "id": "7e7a9a6f",
   "metadata": {},
   "outputs": [
    {
     "data": {
      "text/plain": [
       "Index(['label', 'Object2-3D_centroid_0', 'Object2-3D_centroid_1',\n",
       "       'Object2-3D_centroid_2', 'Object2-3D_area', 'Object2-3D_area_convex',\n",
       "       'Object2-3D_axis_major_length', 'Object2-3D_axis_minor_length',\n",
       "       'Object2-3D_extent', 'Object2-3D_feret_diameter_max',\n",
       "       'Object2-3D_solidity', 'Object2-3D_intensity_mean_Channel1',\n",
       "       'Object2-3D_intensity_max_Channel1',\n",
       "       'Object2-3D_intensity_min_Channel1', 'Object2-3D_intensity_sd_Channel1',\n",
       "       'Object2-3D_intensity_median_Channel1',\n",
       "       'Object2-3D_intensity_mean_Channel2',\n",
       "       'Object2-3D_intensity_max_Channel2',\n",
       "       'Object2-3D_intensity_min_Channel2', 'Object2-3D_intensity_sd_Channel2',\n",
       "       'Object2-3D_intensity_median_Channel2',\n",
       "       'Object2-3D_intensity_mean_Channel3',\n",
       "       'Object2-3D_intensity_max_Channel3',\n",
       "       'Object2-3D_intensity_min_Channel3', 'Object2-3D_intensity_sd_Channel3',\n",
       "       'Object2-3D_intensity_median_Channel3', 'Object2-3D-MIP_area',\n",
       "       'Object2-3D-MIP_area_convex', 'Object2-3D-MIP_axis_major_length',\n",
       "       'Object2-3D-MIP_axis_minor_length', 'Object2-3D-MIP_eccentricity',\n",
       "       'Object2-3D-MIP_extent', 'Object2-3D-MIP_feret_diameter_max',\n",
       "       'Object2-3D-MIP_solidity', 'Object2-3D-MIP_perimeter',\n",
       "       'Object2-3D-MIP_perimeter_crofton', 'Object2-3D-MIP_euler_number',\n",
       "       'Object2-3D-MIP_intensity_mean_Channel1',\n",
       "       'Object2-3D-MIP_intensity_max_Channel1',\n",
       "       'Object2-3D-MIP_intensity_min_Channel1',\n",
       "       'Object2-3D-MIP_intensity_sd_Channel1',\n",
       "       'Object2-3D-MIP_intensity_median_Channel1',\n",
       "       'Object2-3D-MIP_intensity_mean_Channel2',\n",
       "       'Object2-3D-MIP_intensity_max_Channel2',\n",
       "       'Object2-3D-MIP_intensity_min_Channel2',\n",
       "       'Object2-3D-MIP_intensity_sd_Channel2',\n",
       "       'Object2-3D-MIP_intensity_median_Channel2',\n",
       "       'Object2-3D-MIP_intensity_mean_Channel3',\n",
       "       'Object2-3D-MIP_intensity_max_Channel3',\n",
       "       'Object2-3D-MIP_intensity_min_Channel3',\n",
       "       'Object2-3D-MIP_intensity_sd_Channel3',\n",
       "       'Object2-3D-MIP_intensity_median_Channel3', 'Object2-3D-Middle_area',\n",
       "       'Object2-3D-Middle_area_convex', 'Object2-3D-Middle_axis_major_length',\n",
       "       'Object2-3D-Middle_axis_minor_length', 'Object2-3D-Middle_eccentricity',\n",
       "       'Object2-3D-Middle_extent', 'Object2-3D-Middle_feret_diameter_max',\n",
       "       'Object2-3D-Middle_solidity', 'Object2-3D-Middle_perimeter',\n",
       "       'Object2-3D-Middle_perimeter_crofton', 'Object2-3D-Middle_euler_number',\n",
       "       'Object2-3D-Middle_intensity_mean_Channel1',\n",
       "       'Object2-3D-Middle_intensity_max_Channel1',\n",
       "       'Object2-3D-Middle_intensity_min_Channel1',\n",
       "       'Object2-3D-Middle_intensity_sd_Channel1',\n",
       "       'Object2-3D-Middle_intensity_median_Channel1',\n",
       "       'Object2-3D-Middle_intensity_mean_Channel2',\n",
       "       'Object2-3D-Middle_intensity_max_Channel2',\n",
       "       'Object2-3D-Middle_intensity_min_Channel2',\n",
       "       'Object2-3D-Middle_intensity_sd_Channel2',\n",
       "       'Object2-3D-Middle_intensity_median_Channel2',\n",
       "       'Object2-3D-Middle_intensity_mean_Channel3',\n",
       "       'Object2-3D-Middle_intensity_max_Channel3',\n",
       "       'Object2-3D-Middle_intensity_min_Channel3',\n",
       "       'Object2-3D-Middle_intensity_sd_Channel3',\n",
       "       'Object2-3D-Middle_intensity_median_Channel3', 'Object2-3D_is_border',\n",
       "       'Object2_is_border_XY', 'TimepointID'],\n",
       "      dtype='object')"
      ]
     },
     "execution_count": 18,
     "metadata": {},
     "output_type": "execute_result"
    }
   ],
   "source": [
    "res_obj2.columns"
   ]
  },
  {
   "cell_type": "code",
   "execution_count": null,
   "id": "39e49439",
   "metadata": {},
   "outputs": [
    {
     "data": {
      "text/plain": [
       "[<Labels layer 'Object1 [2]' at 0x3453dc6d0>,\n",
       " <Labels layer 'Object2 [2]' at 0x3453df4c0>,\n",
       " <Labels layer 'Object3 [2]' at 0x36226f070>]"
      ]
     },
     "execution_count": 18,
     "metadata": {},
     "output_type": "execute_result"
    }
   ],
   "source": [
    "[viewer.add_labels(label_image_3D.get_image_data(\"ZYX\",C=i),name=label_image_2D.channel_names[i]) for i in range(label_image_2D.dims.C)]\n"
   ]
  },
  {
   "cell_type": "code",
   "execution_count": 19,
   "id": "2e6dd5c3",
   "metadata": {},
   "outputs": [
    {
     "name": "stderr",
     "output_type": "stream",
     "text": [
      "05-Nov-24 16:53:11 - blimp.processing.quantify - WARNING  - Detecting parent objects in 3D leads to ambiguity for object relationships in derived 2D features.\n",
      "05-Nov-24 16:53:11 - blimp.processing.quantify - WARNING  - Derived 2D features (3D-MIP and 3D-Middle) are omitted for clarity.\n",
      "05-Nov-24 16:53:20 - blimp.processing.quantify - INFO     - ``label_image`` is 3D (200 Z-planes). Measuring parent in 3D.\n",
      "05-Nov-24 16:53:21 - blimp.processing.quantify - WARNING  - Detecting parent objects in 3D leads to ambiguity for object relationships in derived 2D features.\n",
      "05-Nov-24 16:53:21 - blimp.processing.quantify - WARNING  - Derived 2D features (3D-MIP and 3D-Middle) are omitted for clarity.\n",
      "05-Nov-24 16:53:29 - blimp.processing.quantify - INFO     - ``label_image`` is 3D (200 Z-planes). Measuring parent in 3D.\n",
      "05-Nov-24 16:53:29 - blimp.processing.quantify - WARNING  - Detecting parent objects in 3D leads to ambiguity for object relationships in derived 2D features.\n",
      "05-Nov-24 16:53:29 - blimp.processing.quantify - WARNING  - Derived 2D features (3D-MIP and 3D-Middle) are omitted for clarity.\n",
      "05-Nov-24 16:53:33 - blimp.processing.quantify - INFO     - ``label_image`` is 3D (200 Z-planes). Measuring parent in 3D.\n"
     ]
    },
    {
     "data": {
      "text/plain": [
       "True"
      ]
     },
     "execution_count": 19,
     "metadata": {},
     "output_type": "execute_result"
    }
   ],
   "source": [
    "# parent object\n",
    "res_obj1_parent1 = blimp.processing.quantify._quantify_single_timepoint_3D(\n",
    "    intensity_image = intensity_image_3D,\n",
    "    label_image = label_image_3D,\n",
    "    measure_object = 0,\n",
    "    parent_object = 0,\n",
    "    timepoint = 0)\n",
    "\n",
    "# check the parent object labels are correct when parent = measure\n",
    "res_obj1_parent1.parent_label.to_list() == [1,2,3,4]\n",
    "\n",
    "with pytest.raises(ValueError):\n",
    "    # check for ValueError when assignment of measure objects to parent is ambiguous\n",
    "    res_obj3_parent1 = blimp.processing.quantify._quantify_single_timepoint_3D(\n",
    "        intensity_image = intensity_image_3D,\n",
    "        label_image = label_image_3D,\n",
    "        measure_object = 2,\n",
    "        parent_object = 0,\n",
    "        timepoint = 0)\n",
    "\n",
    "# quantify object channel 1 relative to parent object channel 0\n",
    "res_obj2_parent1 = blimp.processing.quantify._quantify_single_timepoint_3D(\n",
    "    intensity_image = intensity_image_3D,\n",
    "    label_image = label_image_3D,\n",
    "    measure_object = 1,\n",
    "    parent_object = 0,\n",
    "    timepoint = 0)\n",
    "\n",
    "list(np.unique(res_obj2_parent1.parent_label_name)) == [\"Object1\"]\n",
    "\n",
    "# check the number of objects in each parent object is correct\n",
    "res_obj2_parent1.query(\"parent_label != 0\").groupby('parent_label').size().to_list() == [7, 5, 15, 13]"
   ]
  },
  {
   "cell_type": "code",
   "execution_count": 4,
   "id": "ce7bbfb1",
   "metadata": {},
   "outputs": [
    {
     "data": {
      "text/plain": [
       "True"
      ]
     },
     "execution_count": 4,
     "metadata": {},
     "output_type": "execute_result"
    }
   ],
   "source": [
    "# test intensity_channels\n",
    "res_obj2_intensity1_str_input = blimp.processing.quantify._quantify_single_timepoint_3D(\n",
    "    intensity_image = intensity_image_3D,\n",
    "    label_image = label_image_3D,\n",
    "    measure_object = 1,\n",
    "    timepoint = 0,\n",
    "    intensity_channels=\"Channel1\")\n",
    "\n",
    "res_obj2_intensity1_list1_str_input = blimp.processing.quantify._quantify_single_timepoint_3D(\n",
    "    intensity_image = intensity_image_3D,\n",
    "    label_image = label_image_3D,\n",
    "    measure_object = 1,\n",
    "    timepoint = 0,\n",
    "    intensity_channels=[\"Channel1\"])\n",
    "\n",
    "res_obj2_intensity1_list2_str_input = blimp.processing.quantify._quantify_single_timepoint_3D(\n",
    "    intensity_image = intensity_image_3D,\n",
    "    label_image = label_image_3D,\n",
    "    measure_object = 1,\n",
    "    timepoint = 0,\n",
    "    intensity_channels=[\"Channel1\",\"Channel2\"])\n",
    "\n",
    "res_obj2_intensity1_list_int_input = blimp.processing.quantify._quantify_single_timepoint_3D(\n",
    "    intensity_image = intensity_image_3D,\n",
    "    label_image = label_image_3D,\n",
    "    measure_object = 1,\n",
    "    timepoint = 0,\n",
    "    intensity_channels=[0,1])\n",
    "\n",
    "with pytest.raises(AttributeError):\n",
    "    res_obj2_intensity1_str_input.Object2_intensity_min_Channel2\n",
    "with pytest.raises(AttributeError):\n",
    "    res_obj2_intensity1_list1_str_input.Object2_intensity_min_Channel2\n",
    "with pytest.raises(AttributeError):\n",
    "    res_obj2_intensity1_list2_str_input.Object2_intensity_min_Channel3\n",
    "\n",
    "list(np.unique(res_obj2_intensity1_str_input['Object2-3D_intensity_min_Channel1'].to_list())) == [0,1000.,2000.,3000.,4000.]\n",
    "list(np.unique(res_obj2_intensity1_list1_str_input['Object2-3D_intensity_min_Channel1'].to_list())) == [0,1000.,2000.,3000.,4000.]\n",
    "list(np.unique(res_obj2_intensity1_list2_str_input['Object2-3D_intensity_min_Channel2'].to_list())) == [5000.,6000.]\n"
   ]
  },
  {
   "cell_type": "code",
   "execution_count": 5,
   "id": "ec50bc20",
   "metadata": {},
   "outputs": [
    {
     "data": {
      "text/plain": [
       "Index(['label', 'Object2-3D_centroid_0', 'Object2-3D_centroid_1',\n",
       "       'Object2-3D_centroid_2', 'Object2-3D_area', 'Object2-3D_area_convex',\n",
       "       'Object2-3D_axis_major_length', 'Object2-3D_axis_minor_length',\n",
       "       'Object2-3D_extent', 'Object2-3D_feret_diameter_max',\n",
       "       'Object2-3D_solidity', 'Object2-3D_intensity_mean_Channel2',\n",
       "       'Object2-3D_intensity_max_Channel2',\n",
       "       'Object2-3D_intensity_min_Channel2', 'Object2-3D_intensity_sd_Channel2',\n",
       "       'Object2-3D_intensity_median_Channel2',\n",
       "       'Object2-3D_intensity_mean_Channel1',\n",
       "       'Object2-3D_intensity_max_Channel1',\n",
       "       'Object2-3D_intensity_min_Channel1', 'Object2-3D_intensity_sd_Channel1',\n",
       "       'Object2-3D_intensity_median_Channel1', 'Object2-3D-MIP_area',\n",
       "       'Object2-3D-MIP_area_convex', 'Object2-3D-MIP_axis_major_length',\n",
       "       'Object2-3D-MIP_axis_minor_length', 'Object2-3D-MIP_eccentricity',\n",
       "       'Object2-3D-MIP_extent', 'Object2-3D-MIP_feret_diameter_max',\n",
       "       'Object2-3D-MIP_solidity', 'Object2-3D-MIP_perimeter',\n",
       "       'Object2-3D-MIP_perimeter_crofton', 'Object2-3D-MIP_euler_number',\n",
       "       'Object2-3D-MIP_intensity_mean_Channel2',\n",
       "       'Object2-3D-MIP_intensity_max_Channel2',\n",
       "       'Object2-3D-MIP_intensity_min_Channel2',\n",
       "       'Object2-3D-MIP_intensity_sd_Channel2',\n",
       "       'Object2-3D-MIP_intensity_median_Channel2',\n",
       "       'Object2-3D-MIP_intensity_mean_Channel1',\n",
       "       'Object2-3D-MIP_intensity_max_Channel1',\n",
       "       'Object2-3D-MIP_intensity_min_Channel1',\n",
       "       'Object2-3D-MIP_intensity_sd_Channel1',\n",
       "       'Object2-3D-MIP_intensity_median_Channel1', 'Object2-3D-Middle_area',\n",
       "       'Object2-3D-Middle_area_convex', 'Object2-3D-Middle_axis_major_length',\n",
       "       'Object2-3D-Middle_axis_minor_length', 'Object2-3D-Middle_eccentricity',\n",
       "       'Object2-3D-Middle_extent', 'Object2-3D-Middle_feret_diameter_max',\n",
       "       'Object2-3D-Middle_solidity', 'Object2-3D-Middle_perimeter',\n",
       "       'Object2-3D-Middle_perimeter_crofton', 'Object2-3D-Middle_euler_number',\n",
       "       'Object2-3D-Middle_intensity_mean_Channel2',\n",
       "       'Object2-3D-Middle_intensity_max_Channel2',\n",
       "       'Object2-3D-Middle_intensity_min_Channel2',\n",
       "       'Object2-3D-Middle_intensity_sd_Channel2',\n",
       "       'Object2-3D-Middle_intensity_median_Channel2',\n",
       "       'Object2-3D-Middle_intensity_mean_Channel1',\n",
       "       'Object2-3D-Middle_intensity_max_Channel1',\n",
       "       'Object2-3D-Middle_intensity_min_Channel1',\n",
       "       'Object2-3D-Middle_intensity_sd_Channel1',\n",
       "       'Object2-3D-Middle_intensity_median_Channel1', 'Object2-3D_is_border',\n",
       "       'Object2-3D_is_border_XY', 'TimepointID'],\n",
       "      dtype='object')"
      ]
     },
     "execution_count": 5,
     "metadata": {},
     "output_type": "execute_result"
    }
   ],
   "source": [
    "res_obj2_intensity1_list_int_input.columns"
   ]
  },
  {
   "cell_type": "code",
   "execution_count": null,
   "id": "202c4256",
   "metadata": {},
   "outputs": [
    {
     "data": {
      "text/plain": [
       "True"
      ]
     },
     "execution_count": 22,
     "metadata": {},
     "output_type": "execute_result"
    }
   ],
   "source": [
    "list(np.unique(res_obj2_intensity1_str_input.Object2_3D_intensity_min_Channel1)) == [0,1000.,2000.,3000.,4000.]\n",
    "list(np.unique(res_obj2_intensity1_list1_str_input.Object2_3D_intensity_min_Channel1)) == [0,1000.,2000.,3000.,4000.]\n",
    "list(np.unique(res_obj2_intensity1_list2_str_input.Object2_3D_intensity_min_Channel2)) == [5000.,6000.]"
   ]
  },
  {
   "cell_type": "code",
   "execution_count": 6,
   "id": "08d3834f",
   "metadata": {},
   "outputs": [
    {
     "data": {
      "text/plain": [
       "Index(['label', 'Object2-3D_centroid_0', 'Object2-3D_centroid_1',\n",
       "       'Object2-3D_centroid_2', 'Object2-3D_area', 'Object2-3D_area_convex',\n",
       "       'Object2-3D_axis_major_length', 'Object2-3D_axis_minor_length',\n",
       "       'Object2-3D_extent', 'Object2-3D_feret_diameter_max',\n",
       "       'Object2-3D_solidity', 'Object2-3D_intensity_mean_Channel1',\n",
       "       'Object2-3D_intensity_max_Channel1',\n",
       "       'Object2-3D_intensity_min_Channel1', 'Object2-3D_intensity_sd_Channel1',\n",
       "       'Object2-3D_intensity_median_Channel1', 'Object2-3D-MIP_area',\n",
       "       'Object2-3D-MIP_area_convex', 'Object2-3D-MIP_axis_major_length',\n",
       "       'Object2-3D-MIP_axis_minor_length', 'Object2-3D-MIP_eccentricity',\n",
       "       'Object2-3D-MIP_extent', 'Object2-3D-MIP_feret_diameter_max',\n",
       "       'Object2-3D-MIP_solidity', 'Object2-3D-MIP_perimeter',\n",
       "       'Object2-3D-MIP_perimeter_crofton', 'Object2-3D-MIP_euler_number',\n",
       "       'Object2-3D-MIP_intensity_mean_Channel1',\n",
       "       'Object2-3D-MIP_intensity_max_Channel1',\n",
       "       'Object2-3D-MIP_intensity_min_Channel1',\n",
       "       'Object2-3D-MIP_intensity_sd_Channel1',\n",
       "       'Object2-3D-MIP_intensity_median_Channel1', 'Object2-3D-Middle_area',\n",
       "       'Object2-3D-Middle_area_convex', 'Object2-3D-Middle_axis_major_length',\n",
       "       'Object2-3D-Middle_axis_minor_length', 'Object2-3D-Middle_eccentricity',\n",
       "       'Object2-3D-Middle_extent', 'Object2-3D-Middle_feret_diameter_max',\n",
       "       'Object2-3D-Middle_solidity', 'Object2-3D-Middle_perimeter',\n",
       "       'Object2-3D-Middle_perimeter_crofton', 'Object2-3D-Middle_euler_number',\n",
       "       'Object2-3D-Middle_intensity_mean_Channel1',\n",
       "       'Object2-3D-Middle_intensity_max_Channel1',\n",
       "       'Object2-3D-Middle_intensity_min_Channel1',\n",
       "       'Object2-3D-Middle_intensity_sd_Channel1',\n",
       "       'Object2-3D-Middle_intensity_median_Channel1', 'Object2-3D_is_border',\n",
       "       'Object2-3D_is_border_XY', 'TimepointID'],\n",
       "      dtype='object')"
      ]
     },
     "execution_count": 6,
     "metadata": {},
     "output_type": "execute_result"
    }
   ],
   "source": [
    "res_obj2_intensity1_str_input.columns"
   ]
  },
  {
   "cell_type": "code",
   "execution_count": null,
   "id": "c3f54ac4",
   "metadata": {},
   "outputs": [],
   "source": [
    "# test texture_channels\n",
    "\n",
    "# calculate_textures = False overrides texture channels provided\n",
    "res_obj1_texture1_str_input_texture_false = blimp.processing.quantify._quantify_single_timepoint_2D(\n",
    "    intensity_image = intensity_image_2D,\n",
    "    label_image = label_image_2D,\n",
    "    measure_object = 0,\n",
    "    timepoint = 0,\n",
    "    calculate_textures=False,\n",
    "    texture_channels=\"Channel1\")\n",
    "\n",
    "with pytest.raises(KeyError):\n",
    "    res_obj1_texture1_str_input_texture_false['Object1_Channel1_Haralick-angular-second-moment-1']\n",
    "\n",
    "# calculate_textures = True with texture channels not specified calculates all\n",
    "res_obj1_texture_none_texture_true = blimp.processing.quantify._quantify_single_timepoint_2D(\n",
    "    intensity_image = intensity_image_2D,\n",
    "    label_image = label_image_2D,\n",
    "    measure_object = 0,\n",
    "    timepoint = 0,\n",
    "    calculate_textures=True)\n",
    "\n",
    "len(res_obj1_texture_none_texture_true['Object1_Channel3_Haralick-diff-var-3'].to_list())==4\n",
    "\n",
    "# calculate_textures = True with texture channels specified calculates only those specified\n",
    "res_obj1_texture1_str_input_texture_true = blimp.processing.quantify._quantify_single_timepoint_2D(\n",
    "    intensity_image = intensity_image_2D,\n",
    "    label_image = label_image_2D,\n",
    "    measure_object = 0,\n",
    "    timepoint = 0,\n",
    "    calculate_textures=True,\n",
    "    texture_channels=\"Channel1\")\n",
    "\n",
    "res_obj1_texture1_str_input_texture_true['Object1_Channel1_Haralick-angular-second-moment-1'].to_list() == [1.,1.,1.,1.]\n",
    "with pytest.raises(KeyError):\n",
    "    res_obj1_texture1_str_input_texture_false['Object1_Channel3_Haralick-angular-second-moment-1']\n"
   ]
  },
  {
   "cell_type": "code",
   "execution_count": null,
   "id": "e6b9972d",
   "metadata": {},
   "outputs": [
    {
     "data": {
      "text/plain": [
       "True"
      ]
     },
     "execution_count": 25,
     "metadata": {},
     "output_type": "execute_result"
    }
   ],
   "source": [
    "len(res_obj1_texture_none_texture_true['Object1_Channel3_Haralick-diff-var-3'].to_list())==4"
   ]
  },
  {
   "cell_type": "code",
   "execution_count": 7,
   "id": "9271bd70",
   "metadata": {},
   "outputs": [
    {
     "data": {
      "text/plain": [
       "0    True\n",
       "Name: Object1_is_border, dtype: bool"
      ]
     },
     "execution_count": 7,
     "metadata": {},
     "output_type": "execute_result"
    }
   ],
   "source": [
    "# test no border objects\n",
    "res_no_border = blimp.processing.quantify._quantify_single_timepoint_2D(\n",
    "    intensity_image = intensity_image_2D,\n",
    "    label_image = label_image_2D,\n",
    "    measure_object = 0,\n",
    "    timepoint = 0,\n",
    "    intensity_channels=\"Channel1\")\n",
    "\n",
    "not any(res_no_border.Object1_is_border)\n",
    "\n",
    "# test one border object (crop image to generate a border object)\n",
    "res_border = blimp.processing.quantify._quantify_single_timepoint_2D(\n",
    "    intensity_image = AICSImage(\n",
    "        intensity_image_2D.data[:,:,:,52:,52:],\n",
    "        channel_names=intensity_image_2D.channel_names),\n",
    "    label_image = AICSImage(\n",
    "        label_image_2D.data[:,:,:,52:,52:],\n",
    "        channel_names=label_image_2D.channel_names),\n",
    "    measure_object = 0,\n",
    "    timepoint = 0,\n",
    "    intensity_channels=\"Channel1\")\n",
    "\n",
    "res_border.query(\"label==1\").Object1_is_border\n"
   ]
  },
  {
   "cell_type": "code",
   "execution_count": 8,
   "id": "060af288",
   "metadata": {},
   "outputs": [
    {
     "data": {
      "text/plain": [
       "True"
      ]
     },
     "execution_count": 8,
     "metadata": {},
     "output_type": "execute_result"
    }
   ],
   "source": [
    "res_no_border = blimp.processing.quantify._quantify_single_timepoint_3D(\n",
    "    intensity_image = intensity_image_3D,\n",
    "    label_image = label_image_3D,\n",
    "    measure_object = 0,\n",
    "    timepoint = 0,\n",
    "    intensity_channels=\"Channel1\")\n",
    "\n",
    "not any(res_no_border['Object1-3D_is_border'].to_list())"
   ]
  },
  {
   "cell_type": "code",
   "execution_count": 9,
   "id": "49529db1",
   "metadata": {},
   "outputs": [
    {
     "data": {
      "text/html": [
       "<div>\n",
       "<style scoped>\n",
       "    .dataframe tbody tr th:only-of-type {\n",
       "        vertical-align: middle;\n",
       "    }\n",
       "\n",
       "    .dataframe tbody tr th {\n",
       "        vertical-align: top;\n",
       "    }\n",
       "\n",
       "    .dataframe thead th {\n",
       "        text-align: right;\n",
       "    }\n",
       "</style>\n",
       "<table border=\"1\" class=\"dataframe\">\n",
       "  <thead>\n",
       "    <tr style=\"text-align: right;\">\n",
       "      <th></th>\n",
       "      <th>label</th>\n",
       "      <th>Object1-3D_centroid_0</th>\n",
       "      <th>Object1-3D_centroid_1</th>\n",
       "      <th>Object1-3D_centroid_2</th>\n",
       "      <th>Object1-3D_area</th>\n",
       "      <th>Object1-3D_area_convex</th>\n",
       "      <th>Object1-3D_axis_major_length</th>\n",
       "      <th>Object1-3D_axis_minor_length</th>\n",
       "      <th>Object1-3D_extent</th>\n",
       "      <th>Object1-3D_feret_diameter_max</th>\n",
       "      <th>...</th>\n",
       "      <th>Object1-3D-Middle_perimeter_crofton</th>\n",
       "      <th>Object1-3D-Middle_euler_number</th>\n",
       "      <th>Object1-3D-Middle_intensity_mean_Channel1</th>\n",
       "      <th>Object1-3D-Middle_intensity_max_Channel1</th>\n",
       "      <th>Object1-3D-Middle_intensity_min_Channel1</th>\n",
       "      <th>Object1-3D-Middle_intensity_sd_Channel1</th>\n",
       "      <th>Object1-3D-Middle_intensity_median_Channel1</th>\n",
       "      <th>Object1-3D_is_border</th>\n",
       "      <th>Object1-3D_is_border_XY</th>\n",
       "      <th>TimepointID</th>\n",
       "    </tr>\n",
       "  </thead>\n",
       "  <tbody>\n",
       "    <tr>\n",
       "      <th>0</th>\n",
       "      <td>1</td>\n",
       "      <td>9.5</td>\n",
       "      <td>9.5</td>\n",
       "      <td>9.5</td>\n",
       "      <td>1000.0</td>\n",
       "      <td>1000.0</td>\n",
       "      <td>12.845233</td>\n",
       "      <td>12.845233</td>\n",
       "      <td>1.0</td>\n",
       "      <td>16.186414</td>\n",
       "      <td>...</td>\n",
       "      <td>36.811657</td>\n",
       "      <td>1</td>\n",
       "      <td>1000.0</td>\n",
       "      <td>1000.0</td>\n",
       "      <td>1000.0</td>\n",
       "      <td>0.0</td>\n",
       "      <td>1000.0</td>\n",
       "      <td>False</td>\n",
       "      <td>False</td>\n",
       "      <td>1</td>\n",
       "    </tr>\n",
       "    <tr>\n",
       "      <th>1</th>\n",
       "      <td>2</td>\n",
       "      <td>24.0</td>\n",
       "      <td>24.0</td>\n",
       "      <td>24.0</td>\n",
       "      <td>729.0</td>\n",
       "      <td>729.0</td>\n",
       "      <td>11.547005</td>\n",
       "      <td>11.547005</td>\n",
       "      <td>1.0</td>\n",
       "      <td>14.456832</td>\n",
       "      <td>...</td>\n",
       "      <td>33.019419</td>\n",
       "      <td>1</td>\n",
       "      <td>2000.0</td>\n",
       "      <td>2000.0</td>\n",
       "      <td>2000.0</td>\n",
       "      <td>0.0</td>\n",
       "      <td>2000.0</td>\n",
       "      <td>False</td>\n",
       "      <td>False</td>\n",
       "      <td>1</td>\n",
       "    </tr>\n",
       "    <tr>\n",
       "      <th>2</th>\n",
       "      <td>3</td>\n",
       "      <td>64.5</td>\n",
       "      <td>64.5</td>\n",
       "      <td>64.5</td>\n",
       "      <td>27000.0</td>\n",
       "      <td>27000.0</td>\n",
       "      <td>38.708311</td>\n",
       "      <td>38.708311</td>\n",
       "      <td>1.0</td>\n",
       "      <td>50.813384</td>\n",
       "      <td>...</td>\n",
       "      <td>112.656413</td>\n",
       "      <td>1</td>\n",
       "      <td>3000.0</td>\n",
       "      <td>3000.0</td>\n",
       "      <td>3000.0</td>\n",
       "      <td>0.0</td>\n",
       "      <td>3000.0</td>\n",
       "      <td>False</td>\n",
       "      <td>False</td>\n",
       "      <td>1</td>\n",
       "    </tr>\n",
       "    <tr>\n",
       "      <th>3</th>\n",
       "      <td>4</td>\n",
       "      <td>122.5</td>\n",
       "      <td>27.5</td>\n",
       "      <td>27.5</td>\n",
       "      <td>97336.0</td>\n",
       "      <td>97336.0</td>\n",
       "      <td>59.371710</td>\n",
       "      <td>59.371710</td>\n",
       "      <td>1.0</td>\n",
       "      <td>78.523882</td>\n",
       "      <td>...</td>\n",
       "      <td>173.332218</td>\n",
       "      <td>1</td>\n",
       "      <td>4000.0</td>\n",
       "      <td>4000.0</td>\n",
       "      <td>4000.0</td>\n",
       "      <td>0.0</td>\n",
       "      <td>4000.0</td>\n",
       "      <td>False</td>\n",
       "      <td>False</td>\n",
       "      <td>1</td>\n",
       "    </tr>\n",
       "  </tbody>\n",
       "</table>\n",
       "<p>4 rows × 51 columns</p>\n",
       "</div>"
      ],
      "text/plain": [
       "   label  Object1-3D_centroid_0  Object1-3D_centroid_1  Object1-3D_centroid_2  \\\n",
       "0      1                    9.5                    9.5                    9.5   \n",
       "1      2                   24.0                   24.0                   24.0   \n",
       "2      3                   64.5                   64.5                   64.5   \n",
       "3      4                  122.5                   27.5                   27.5   \n",
       "\n",
       "   Object1-3D_area  Object1-3D_area_convex  Object1-3D_axis_major_length  \\\n",
       "0           1000.0                  1000.0                     12.845233   \n",
       "1            729.0                   729.0                     11.547005   \n",
       "2          27000.0                 27000.0                     38.708311   \n",
       "3          97336.0                 97336.0                     59.371710   \n",
       "\n",
       "   Object1-3D_axis_minor_length  Object1-3D_extent  \\\n",
       "0                     12.845233                1.0   \n",
       "1                     11.547005                1.0   \n",
       "2                     38.708311                1.0   \n",
       "3                     59.371710                1.0   \n",
       "\n",
       "   Object1-3D_feret_diameter_max  ...  Object1-3D-Middle_perimeter_crofton  \\\n",
       "0                      16.186414  ...                            36.811657   \n",
       "1                      14.456832  ...                            33.019419   \n",
       "2                      50.813384  ...                           112.656413   \n",
       "3                      78.523882  ...                           173.332218   \n",
       "\n",
       "   Object1-3D-Middle_euler_number  Object1-3D-Middle_intensity_mean_Channel1  \\\n",
       "0                               1                                     1000.0   \n",
       "1                               1                                     2000.0   \n",
       "2                               1                                     3000.0   \n",
       "3                               1                                     4000.0   \n",
       "\n",
       "   Object1-3D-Middle_intensity_max_Channel1  \\\n",
       "0                                    1000.0   \n",
       "1                                    2000.0   \n",
       "2                                    3000.0   \n",
       "3                                    4000.0   \n",
       "\n",
       "   Object1-3D-Middle_intensity_min_Channel1  \\\n",
       "0                                    1000.0   \n",
       "1                                    2000.0   \n",
       "2                                    3000.0   \n",
       "3                                    4000.0   \n",
       "\n",
       "   Object1-3D-Middle_intensity_sd_Channel1  \\\n",
       "0                                      0.0   \n",
       "1                                      0.0   \n",
       "2                                      0.0   \n",
       "3                                      0.0   \n",
       "\n",
       "   Object1-3D-Middle_intensity_median_Channel1  Object1-3D_is_border  \\\n",
       "0                                       1000.0                 False   \n",
       "1                                       2000.0                 False   \n",
       "2                                       3000.0                 False   \n",
       "3                                       4000.0                 False   \n",
       "\n",
       "   Object1-3D_is_border_XY  TimepointID  \n",
       "0                    False            1  \n",
       "1                    False            1  \n",
       "2                    False            1  \n",
       "3                    False            1  \n",
       "\n",
       "[4 rows x 51 columns]"
      ]
     },
     "execution_count": 9,
     "metadata": {},
     "output_type": "execute_result"
    }
   ],
   "source": [
    "res_no_border"
   ]
  },
  {
   "cell_type": "code",
   "execution_count": 10,
   "id": "50842069",
   "metadata": {},
   "outputs": [
    {
     "name": "stderr",
     "output_type": "stream",
     "text": [
      "05-Nov-24 20:01:31 - OpenGL.acceleratesupport - INFO     - No OpenGL_accelerate module loaded: No module named 'OpenGL_accelerate'\n"
     ]
    }
   ],
   "source": [
    "viewer3D = napari.Viewer()\n"
   ]
  },
  {
   "cell_type": "code",
   "execution_count": 11,
   "id": "5f5dcca6",
   "metadata": {},
   "outputs": [
    {
     "data": {
      "text/plain": [
       "[<Image layer 'Channel1' at 0x36c17a9b0>,\n",
       " <Image layer 'Channel2' at 0x37b50b8b0>,\n",
       " <Image layer 'Channel3' at 0x37b77f1c0>]"
      ]
     },
     "execution_count": 11,
     "metadata": {},
     "output_type": "execute_result"
    }
   ],
   "source": [
    "[viewer3D.add_labels(label_image_3D.get_image_data(\"ZYX\",C=i),name=label_image_3D.channel_names[i]) for i in range(label_image_3D.dims.C)]\n",
    "[viewer3D.add_image(intensity_image_3D.get_image_data(\"ZYX\",C=i),name=intensity_image_3D.channel_names[i]) for i in range(intensity_image_3D.dims.C)]"
   ]
  },
  {
   "cell_type": "code",
   "execution_count": null,
   "id": "1855b49d",
   "metadata": {},
   "outputs": [
    {
     "data": {
      "text/plain": [
       "0    True\n",
       "Name: Object1-3D_is_border, dtype: bool"
      ]
     },
     "execution_count": 15,
     "metadata": {},
     "output_type": "execute_result"
    }
   ],
   "source": [
    "# test one border object (crop image to generate a border object)\n",
    "res_border_all = blimp.processing.quantify._quantify_single_timepoint_3D(\n",
    "    intensity_image = AICSImage(\n",
    "        intensity_image_3D.data[:,:,:,8:,8:],\n",
    "        channel_names=intensity_image_3D.channel_names,\n",
    "        physical_pixel_sizes=intensity_image_3D.physical_pixel_sizes),\n",
    "    label_image = AICSImage(\n",
    "        label_image_3D.data[:,:,:,8:,8:],\n",
    "        channel_names=label_image_3D.channel_names,\n",
    "        physical_pixel_sizes=label_image_3D.physical_pixel_sizes),\n",
    "    measure_object = 0,\n",
    "    timepoint = 0,\n",
    "    intensity_channels=0)\n",
    "\n",
    "res_border_all.query(\"label==1\")['Object1-3D_is_border']\n",
    "res_border_all.query(\"label==1\")['Object1-3D_is_border_XY']\n",
    "\n",
    "res_border_Z_only = blimp.processing.quantify._quantify_single_timepoint_3D(\n",
    "    intensity_image = AICSImage(\n",
    "        intensity_image_3D.data[:,:,8:,:,:],\n",
    "        channel_names=intensity_image_3D.channel_names,\n",
    "        physical_pixel_sizes=intensity_image_3D.physical_pixel_sizes),\n",
    "    label_image = AICSImage(\n",
    "        label_image_3D.data[:,:,8:,:,:],\n",
    "        channel_names=label_image_3D.channel_names,\n",
    "        physical_pixel_sizes=label_image_3D.physical_pixel_sizes),\n",
    "    measure_object = 0,\n",
    "    timepoint = 0,\n",
    "    intensity_channels=0)\n",
    "\n",
    "res_border_Z_only.query(\"label==1\")['Object1-3D_is_border']\n",
    "res_border_Z_only.query(\"label==1\")['Object1-3D_is_border_XY']\n"
   ]
  },
  {
   "cell_type": "code",
   "execution_count": 45,
   "id": "c2fcb654",
   "metadata": {},
   "outputs": [
    {
     "data": {
      "text/plain": [
       "array([   0, 7000, 8000], dtype=uint16)"
      ]
     },
     "execution_count": 45,
     "metadata": {},
     "output_type": "execute_result"
    }
   ],
   "source": [
    "np.unique(intensity_image_3D.data[:,2,:,52:,52:])"
   ]
  },
  {
   "cell_type": "code",
   "execution_count": 29,
   "id": "6bef8927",
   "metadata": {},
   "outputs": [
    {
     "data": {
      "text/plain": [
       "Index(['label', 'Object1_3D_centroid_0', 'Object1_3D_centroid_1',\n",
       "       'Object1_3D_centroid_2', 'Object1_3D_area', 'Object1_3D_area_convex',\n",
       "       'Object1_3D_axis_major_length', 'Object1_3D_axis_minor_length',\n",
       "       'Object1_3D_extent', 'Object1_3D_feret_diameter_max',\n",
       "       'Object1_3D_solidity', 'Object1_3D_intensity_mean_Channel1',\n",
       "       'Object1_3D_intensity_max_Channel1',\n",
       "       'Object1_3D_intensity_min_Channel1', 'Object1_3D_intensity_sd_Channel1',\n",
       "       'Object1_3D_intensity_median_Channel1', 'Object1-3D-MIP_area',\n",
       "       'Object1-3D-MIP_area_convex', 'Object1-3D-MIP_axis_major_length',\n",
       "       'Object1-3D-MIP_axis_minor_length', 'Object1-3D-MIP_eccentricity',\n",
       "       'Object1-3D-MIP_extent', 'Object1-3D-MIP_feret_diameter_max',\n",
       "       'Object1-3D-MIP_solidity', 'Object1-3D-MIP_perimeter',\n",
       "       'Object1-3D-MIP_perimeter_crofton', 'Object1-3D-MIP_euler_number',\n",
       "       'Object1-3D-MIP_intensity_mean_Channel1',\n",
       "       'Object1-3D-MIP_intensity_max_Channel1',\n",
       "       'Object1-3D-MIP_intensity_min_Channel1',\n",
       "       'Object1-3D-MIP_intensity_sd_Channel1',\n",
       "       'Object1-3D-MIP_intensity_median_Channel1', 'Object1-3D-Middle_area',\n",
       "       'Object1-3D-Middle_area_convex', 'Object1-3D-Middle_axis_major_length',\n",
       "       'Object1-3D-Middle_axis_minor_length', 'Object1-3D-Middle_eccentricity',\n",
       "       'Object1-3D-Middle_extent', 'Object1-3D-Middle_feret_diameter_max',\n",
       "       'Object1-3D-Middle_solidity', 'Object1-3D-Middle_perimeter',\n",
       "       'Object1-3D-Middle_perimeter_crofton', 'Object1-3D-Middle_euler_number',\n",
       "       'Object1-3D-Middle_intensity_mean_Channel1',\n",
       "       'Object1-3D-Middle_intensity_max_Channel1',\n",
       "       'Object1-3D-Middle_intensity_min_Channel1',\n",
       "       'Object1-3D-Middle_intensity_sd_Channel1',\n",
       "       'Object1-3D-Middle_intensity_median_Channel1', 'Object1_3D_is_border',\n",
       "       'Object1_is_border_XY', 'TimepointID'],\n",
       "      dtype='object')"
      ]
     },
     "execution_count": 29,
     "metadata": {},
     "output_type": "execute_result"
    }
   ],
   "source": [
    "res_no_border.columns\n"
   ]
  },
  {
   "cell_type": "code",
   "execution_count": 4,
   "id": "890faf35",
   "metadata": {},
   "outputs": [
    {
     "name": "stderr",
     "output_type": "stream",
     "text": [
      "05-Nov-24 20:31:50 - blimp.utils - INFO     - Channel names unique: ['Object1', 'Object2', 'Object3']\n",
      "05-Nov-24 20:31:50 - blimp.utils - INFO     - Channel names unique: ['Channel1', 'Channel2', 'Channel3']\n",
      "05-Nov-24 20:31:50 - blimp.processing.quantify - INFO     - ``measure_objects`` =  ['Object1', 'Object2', 'Object3']\n",
      "05-Nov-24 20:31:50 - blimp.processing.quantify - INFO     - ``texture_objects`` =  ['Object1', 'Object2', 'Object3']\n",
      "05-Nov-24 20:31:50 - blimp.processing.quantify - INFO     - ``parent_object`` =  None\n",
      "05-Nov-24 20:31:50 - blimp.processing.quantify - INFO     - ``intensity_image`` is 2D. Quantifying 2D features only.\n",
      "05-Nov-24 20:31:50 - blimp.processing.quantify - INFO     - ``intensity_image`` is 2D. Quantifying 2D features only.\n",
      "05-Nov-24 20:31:53 - blimp.processing.quantify - INFO     - ``intensity_image`` is 2D. Quantifying 2D features only.\n"
     ]
    }
   ],
   "source": [
    "res = blimp.processing.quantify.quantify(\n",
    "    intensity_image=intensity_image_2D,\n",
    "    label_image=label_image_2D,\n",
    ")"
   ]
  },
  {
   "cell_type": "code",
   "execution_count": 38,
   "id": "c67b569c",
   "metadata": {},
   "outputs": [
    {
     "name": "stderr",
     "output_type": "stream",
     "text": [
      "05-Nov-24 21:21:58 - blimp.utils - INFO     - Channel names unique: ['Object1', 'Object2', 'Object3']\n",
      "05-Nov-24 21:21:58 - blimp.utils - INFO     - Channel names unique: ['Channel1', 'Channel2', 'Channel3']\n",
      "05-Nov-24 21:21:58 - blimp.processing.quantify - INFO     - ``measure_objects`` =  ['Object1', 'Object2']\n",
      "05-Nov-24 21:21:58 - blimp.processing.quantify - INFO     - ``texture_objects`` =  ['Object1', 'Object2', 'Object3']\n",
      "05-Nov-24 21:21:58 - blimp.processing.quantify - INFO     - ``parent_object`` =  Object1\n",
      "05-Nov-24 21:21:58 - blimp.processing.quantify - INFO     - ``intensity_image`` is 2D. Quantifying 2D features only.\n",
      "05-Nov-24 21:21:58 - blimp.processing.quantify - INFO     - ``label_image`` is 2D. Quantifying 2D features only.\n",
      "05-Nov-24 21:21:58 - blimp.processing.quantify - INFO     - ``intensity_image`` is 2D. Quantifying 2D features only.\n",
      "05-Nov-24 21:21:59 - blimp.processing.quantify - INFO     - ``label_image`` is 2D. Quantifying 2D features only.\n"
     ]
    }
   ],
   "source": [
    "res = blimp.processing.quantify.quantify(\n",
    "    intensity_image=intensity_image_2D,\n",
    "    label_image=label_image_2D,\n",
    "    measure_objects=[0, 1],\n",
    "    parent_object=0,\n",
    "    aggregate=True,\n",
    "    timepoint=0\n",
    "    )"
   ]
  },
  {
   "cell_type": "code",
   "execution_count": 45,
   "id": "84048c01",
   "metadata": {},
   "outputs": [
    {
     "data": {
      "text/plain": [
       "0       0.0\n",
       "1    5000.0\n",
       "2    5000.0\n",
       "3       0.0\n",
       "Name: Object2_intensity_min_Channel2_max, dtype: float64"
      ]
     },
     "execution_count": 45,
     "metadata": {},
     "output_type": "execute_result"
    }
   ],
   "source": [
    "res.Object2_intensity_min_Channel2_max"
   ]
  },
  {
   "cell_type": "code",
   "execution_count": null,
   "id": "3b0f122f-aab4-441e-981b-7ca5d55e79ad",
   "metadata": {},
   "outputs": [],
   "source": [
    "features_non_aggregated = quantify(\n",
    "    intensity_image=intensity_image,\n",
    "    label_image=all_channels,\n",
    "    parent_object=\"Nuclei\",\n",
    "    aggregate=False)"
   ]
  },
  {
   "cell_type": "code",
   "execution_count": null,
   "id": "0010c485-649d-46a4-ba28-2df1b671020a",
   "metadata": {},
   "outputs": [],
   "source": [
    "len(features_non_aggregated)"
   ]
  },
  {
   "cell_type": "code",
   "execution_count": null,
   "id": "f37cae7c-3310-4bf5-8d9c-222889719456",
   "metadata": {},
   "outputs": [],
   "source": [
    "features_aggregated = quantify(\n",
    "    intensity_image=intensity_image,\n",
    "    label_image=all_channels,\n",
    "    parent_object=\"Nuclei\",\n",
    "    aggregate=True)"
   ]
  },
  {
   "cell_type": "code",
   "execution_count": null,
   "id": "b6bf9751-8b95-49c0-a9e9-c41173bcf454",
   "metadata": {},
   "outputs": [],
   "source": [
    "features_aggregated.columns"
   ]
  },
  {
   "cell_type": "code",
   "execution_count": null,
   "id": "8fc48854-10c6-421f-b1a6-433ad68691cf",
   "metadata": {},
   "outputs": [],
   "source": []
  }
 ],
 "metadata": {
  "kernelspec": {
   "display_name": "py310",
   "language": "python",
   "name": "python3"
  },
  "language_info": {
   "codemirror_mode": {
    "name": "ipython",
    "version": 3
   },
   "file_extension": ".py",
   "mimetype": "text/x-python",
   "name": "python",
   "nbconvert_exporter": "python",
   "pygments_lexer": "ipython3",
   "version": "3.10.13"
  }
 },
 "nbformat": 4,
 "nbformat_minor": 5
}
