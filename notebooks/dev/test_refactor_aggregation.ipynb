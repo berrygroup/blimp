{
 "cells": [
  {
   "cell_type": "code",
   "execution_count": 1,
   "id": "32cdd3df-3c7d-4ed6-9857-9311c00665fc",
   "metadata": {},
   "outputs": [
    {
     "name": "stderr",
     "output_type": "stream",
     "text": [
      "24-Oct-24 17:02:10 - bfio.backends - WARNING  - Java backend is not available. This could be due to a missing dependency (jpype).\n"
     ]
    }
   ],
   "source": [
    "import pandas as pd\n",
    "import numpy as np\n",
    "\n",
    "from pathlib import Path\n",
    "from aicsimageio import AICSImage, readers\n",
    "from blimp.preprocessing.illumination_correction import IlluminationCorrection\n",
    "from blimp.processing.quantify import quantify"
   ]
  },
  {
   "cell_type": "code",
   "execution_count": 2,
   "id": "33e3d0a1-af09-4e72-9b1c-85e157b723a3",
   "metadata": {},
   "outputs": [],
   "source": [
    "import logging\n",
    "logger = logging.getLogger()\n",
    "logger.setLevel(logging.DEBUG)"
   ]
  },
  {
   "cell_type": "code",
   "execution_count": 3,
   "id": "3339c9a4-f75b-48ba-8e8c-fb0daf4327aa",
   "metadata": {},
   "outputs": [
    {
     "name": "stderr",
     "output_type": "stream",
     "text": [
      "24-Oct-24 17:02:16 - bfio.bfio.BioReader - DEBUG    - Starting the backend...\n",
      "24-Oct-24 17:02:16 - bfio.backends.PythonReader - DEBUG    - __init__(): Initializing _rdr (tifffile.TiffFile)...\n",
      "24-Oct-24 17:02:16 - bfio.backends.PythonReader - DEBUG    - read_metadata(): Reading metadata...\n",
      "24-Oct-24 17:02:16 - bfio.backends - DEBUG    - TiffTag 256 ImageWidth @24 LONG @36 = 2304\n",
      "24-Oct-24 17:02:16 - bfio.backends - DEBUG    - TiffTag 257 ImageLength @44 LONG @56 = 2304\n",
      "24-Oct-24 17:02:16 - bfio.backends - DEBUG    - TiffTag 258 BitsPerSample @64 SHORT @76 = 16\n",
      "24-Oct-24 17:02:16 - bfio.backends - DEBUG    - TiffTag 259 Compression @84 SHORT @96 = ADOBE_DEFLATE\n",
      "24-Oct-24 17:02:16 - bfio.backends - DEBUG    - TiffTag 262 PhotometricInterpretation @104 SHORT @116 = MINISBLACK\n",
      "24-Oct-24 17:02:16 - bfio.backends - DEBUG    - TiffTag 270 ImageDescription @124 ASCII[843] @312 = <OME xmlns=\"http://www.open\n",
      "24-Oct-24 17:02:16 - bfio.backends - DEBUG    - TiffTag 273 StripOffsets @144 LONG8[165] @1156 = (3152, 27546, 51761, 75990, 10\n",
      "24-Oct-24 17:02:16 - bfio.backends - DEBUG    - TiffTag 277 SamplesPerPixel @164 SHORT @176 = 1\n",
      "24-Oct-24 17:02:16 - bfio.backends - DEBUG    - TiffTag 278 RowsPerStrip @184 LONG @196 = 14\n",
      "24-Oct-24 17:02:16 - bfio.backends - DEBUG    - TiffTag 279 StripByteCounts @204 LONG[165] @2476 = (24394, 24215, 24229, 24274,\n",
      "24-Oct-24 17:02:16 - bfio.backends - DEBUG    - TiffTag 282 XResolution @224 RATIONAL @236 = (1, 1)\n",
      "24-Oct-24 17:02:16 - bfio.backends - DEBUG    - TiffTag 283 YResolution @244 RATIONAL @256 = (1, 1)\n",
      "24-Oct-24 17:02:16 - bfio.backends - DEBUG    - TiffTag 296 ResolutionUnit @264 SHORT @276 = NONE\n",
      "24-Oct-24 17:02:16 - bfio.backends - DEBUG    - TiffTag 305 Software @284 ASCII[12] @3136 = tifffile.py\n",
      "24-Oct-24 17:02:16 - fsspec.local - DEBUG    - open file: /srv/scratch/berrylab/z5459895/NikonSpinningDisk/240809/JOB/20240809_164338_571/intron_threshold_testing/OME-TIFF-MIP/Well02_Channel647,405,561,405_Seq0000_0002.ome.tiff\n",
      "24-Oct-24 17:02:16 - fsspec.local - DEBUG    - open file: /srv/scratch/berrylab/z5459895/NikonSpinningDisk/240809/JOB/20240809_164338_571/intron_threshold_testing/OME-TIFF-MIP/Well02_Channel647,405,561,405_Seq0000_0002.ome.tiff\n",
      "24-Oct-24 17:02:16 - fsspec.local - DEBUG    - open file: /srv/scratch/berrylab/z5459895/NikonSpinningDisk/240809/JOB/20240809_164338_571/intron_threshold_testing/OME-TIFF-MIP/Well02_Channel647,405,561,405_Seq0000_0002.ome.tiff\n",
      "24-Oct-24 17:02:16 - bfio.bfio.BioReader - DEBUG    - Starting the backend...\n",
      "24-Oct-24 17:02:16 - bfio.backends.PythonReader - DEBUG    - __init__(): Initializing _rdr (tifffile.TiffFile)...\n",
      "24-Oct-24 17:02:16 - bfio.backends.PythonReader - DEBUG    - read_metadata(): Reading metadata...\n",
      "24-Oct-24 17:02:16 - bfio.backends - DEBUG    - TiffTag 256 ImageWidth @24 LONG @36 = 2304\n",
      "24-Oct-24 17:02:16 - bfio.backends - DEBUG    - TiffTag 257 ImageLength @44 LONG @56 = 2304\n",
      "24-Oct-24 17:02:16 - bfio.backends - DEBUG    - TiffTag 258 BitsPerSample @64 SHORT @76 = 32\n",
      "24-Oct-24 17:02:16 - bfio.backends - DEBUG    - TiffTag 259 Compression @84 SHORT @96 = ADOBE_DEFLATE\n",
      "24-Oct-24 17:02:16 - bfio.backends - DEBUG    - TiffTag 262 PhotometricInterpretation @104 SHORT @116 = MINISBLACK\n",
      "24-Oct-24 17:02:16 - bfio.backends - DEBUG    - TiffTag 270 ImageDescription @124 ASCII[665] @332 = <OME xmlns=\"http://www.open\n",
      "24-Oct-24 17:02:16 - bfio.backends - DEBUG    - TiffTag 273 StripOffsets @144 LONG8[330] @998 = (4976, 5077, 5162, 5247, 5332, \n",
      "24-Oct-24 17:02:16 - bfio.backends - DEBUG    - TiffTag 277 SamplesPerPixel @164 SHORT @176 = 1\n",
      "24-Oct-24 17:02:16 - bfio.backends - DEBUG    - TiffTag 278 RowsPerStrip @184 LONG @196 = 7\n",
      "24-Oct-24 17:02:16 - bfio.backends - DEBUG    - TiffTag 279 StripByteCounts @204 LONG[330] @3638 = (101, 85, 85, 85, 85, 85, 85\n",
      "24-Oct-24 17:02:16 - bfio.backends - DEBUG    - TiffTag 282 XResolution @224 RATIONAL @236 = (1, 1)\n",
      "24-Oct-24 17:02:16 - bfio.backends - DEBUG    - TiffTag 283 YResolution @244 RATIONAL @256 = (1, 1)\n",
      "24-Oct-24 17:02:16 - bfio.backends - DEBUG    - TiffTag 296 ResolutionUnit @264 SHORT @276 = NONE\n",
      "24-Oct-24 17:02:16 - bfio.backends - DEBUG    - TiffTag 305 Software @284 ASCII[12] @4958 = tifffile.py\n",
      "24-Oct-24 17:02:16 - bfio.backends - DEBUG    - TiffTag 339 SampleFormat @304 SHORT @316 = INT\n",
      "24-Oct-24 17:02:16 - fsspec.local - DEBUG    - open file: /srv/scratch/berrylab/z5459895/NikonSpinningDisk/240809/JOB/20240809_164338_571/intron_threshold_testing/SEGMENTATION/intron_in_nucleus_Well02_Channel647,405,561,405_Seq0000_0002.ome.tiff\n",
      "24-Oct-24 17:02:16 - fsspec.local - DEBUG    - open file: /srv/scratch/berrylab/z5459895/NikonSpinningDisk/240809/JOB/20240809_164338_571/intron_threshold_testing/SEGMENTATION/intron_in_nucleus_Well02_Channel647,405,561,405_Seq0000_0002.ome.tiff\n",
      "24-Oct-24 17:02:16 - fsspec.local - DEBUG    - open file: /srv/scratch/berrylab/z5459895/NikonSpinningDisk/240809/JOB/20240809_164338_571/intron_threshold_testing/SEGMENTATION/intron_in_nucleus_Well02_Channel647,405,561,405_Seq0000_0002.ome.tiff\n",
      "24-Oct-24 17:02:16 - bfio.bfio.BioReader - DEBUG    - Starting the backend...\n",
      "24-Oct-24 17:02:16 - bfio.backends.PythonReader - DEBUG    - __init__(): Initializing _rdr (tifffile.TiffFile)...\n",
      "24-Oct-24 17:02:16 - bfio.backends.PythonReader - DEBUG    - read_metadata(): Reading metadata...\n",
      "24-Oct-24 17:02:16 - bfio.backends - DEBUG    - TiffTag 256 ImageWidth @24 LONG @36 = 2304\n",
      "24-Oct-24 17:02:16 - bfio.backends - DEBUG    - TiffTag 257 ImageLength @44 LONG @56 = 2304\n",
      "24-Oct-24 17:02:16 - bfio.backends - DEBUG    - TiffTag 258 BitsPerSample @64 SHORT @76 = 16\n",
      "24-Oct-24 17:02:16 - bfio.backends - DEBUG    - TiffTag 259 Compression @84 SHORT @96 = ADOBE_DEFLATE\n",
      "24-Oct-24 17:02:16 - bfio.backends - DEBUG    - TiffTag 262 PhotometricInterpretation @104 SHORT @116 = MINISBLACK\n",
      "24-Oct-24 17:02:16 - bfio.backends - DEBUG    - TiffTag 270 ImageDescription @124 ASCII[666] @312 = <OME xmlns=\"http://www.open\n",
      "24-Oct-24 17:02:16 - bfio.backends - DEBUG    - TiffTag 273 StripOffsets @144 LONG8[165] @978 = (2976, 3507, 4023, 4599, 5160, \n",
      "24-Oct-24 17:02:16 - bfio.backends - DEBUG    - TiffTag 277 SamplesPerPixel @164 SHORT @176 = 1\n",
      "24-Oct-24 17:02:16 - bfio.backends - DEBUG    - TiffTag 278 RowsPerStrip @184 LONG @196 = 14\n",
      "24-Oct-24 17:02:16 - bfio.backends - DEBUG    - TiffTag 279 StripByteCounts @204 LONG[165] @2298 = (531, 516, 576, 561, 573, 57\n",
      "24-Oct-24 17:02:16 - bfio.backends - DEBUG    - TiffTag 282 XResolution @224 RATIONAL @236 = (1, 1)\n",
      "24-Oct-24 17:02:16 - bfio.backends - DEBUG    - TiffTag 283 YResolution @244 RATIONAL @256 = (1, 1)\n",
      "24-Oct-24 17:02:16 - bfio.backends - DEBUG    - TiffTag 296 ResolutionUnit @264 SHORT @276 = NONE\n",
      "24-Oct-24 17:02:16 - bfio.backends - DEBUG    - TiffTag 305 Software @284 ASCII[12] @2958 = tifffile.py\n",
      "24-Oct-24 17:02:16 - fsspec.local - DEBUG    - open file: /srv/scratch/berrylab/z5459895/NikonSpinningDisk/240809/JOB/20240809_164338_571/intron_threshold_testing/SEGMENTATION/nuclei_Well02_Channel647,405,561,405_Seq0000_0002.ome.tiff\n",
      "24-Oct-24 17:02:16 - fsspec.local - DEBUG    - open file: /srv/scratch/berrylab/z5459895/NikonSpinningDisk/240809/JOB/20240809_164338_571/intron_threshold_testing/SEGMENTATION/nuclei_Well02_Channel647,405,561,405_Seq0000_0002.ome.tiff\n",
      "24-Oct-24 17:02:16 - fsspec.local - DEBUG    - open file: /srv/scratch/berrylab/z5459895/NikonSpinningDisk/240809/JOB/20240809_164338_571/intron_threshold_testing/SEGMENTATION/nuclei_Well02_Channel647,405,561,405_Seq0000_0002.ome.tiff\n",
      "24-Oct-24 17:02:16 - bfio.bfio.BioReader - DEBUG    - Starting the backend...\n",
      "24-Oct-24 17:02:16 - bfio.backends.PythonReader - DEBUG    - __init__(): Initializing _rdr (tifffile.TiffFile)...\n",
      "24-Oct-24 17:02:16 - bfio.backends.PythonReader - DEBUG    - read_metadata(): Reading metadata...\n",
      "24-Oct-24 17:02:16 - bfio.backends - DEBUG    - TiffTag 256 ImageWidth @24 LONG @36 = 2304\n",
      "24-Oct-24 17:02:16 - bfio.backends - DEBUG    - TiffTag 257 ImageLength @44 LONG @56 = 2304\n",
      "24-Oct-24 17:02:16 - bfio.backends - DEBUG    - TiffTag 258 BitsPerSample @64 SHORT @76 = 16\n",
      "24-Oct-24 17:02:16 - bfio.backends - DEBUG    - TiffTag 259 Compression @84 SHORT @96 = ADOBE_DEFLATE\n",
      "24-Oct-24 17:02:16 - bfio.backends - DEBUG    - TiffTag 262 PhotometricInterpretation @104 SHORT @116 = MINISBLACK\n",
      "24-Oct-24 17:02:16 - bfio.backends - DEBUG    - TiffTag 270 ImageDescription @124 ASCII[672] @312 = <OME xmlns=\"http://www.open\n",
      "24-Oct-24 17:02:16 - bfio.backends - DEBUG    - TiffTag 273 StripOffsets @144 LONG8[165] @984 = (2976, 3076, 3161, 3246, 3331, \n",
      "24-Oct-24 17:02:16 - bfio.backends - DEBUG    - TiffTag 277 SamplesPerPixel @164 SHORT @176 = 1\n",
      "24-Oct-24 17:02:16 - bfio.backends - DEBUG    - TiffTag 278 RowsPerStrip @184 LONG @196 = 14\n",
      "24-Oct-24 17:02:16 - bfio.backends - DEBUG    - TiffTag 279 StripByteCounts @204 LONG[165] @2304 = (100, 85, 85, 85, 92, 85, 89\n",
      "24-Oct-24 17:02:16 - bfio.backends - DEBUG    - TiffTag 282 XResolution @224 RATIONAL @236 = (1, 1)\n",
      "24-Oct-24 17:02:16 - bfio.backends - DEBUG    - TiffTag 283 YResolution @244 RATIONAL @256 = (1, 1)\n",
      "24-Oct-24 17:02:16 - bfio.backends - DEBUG    - TiffTag 296 ResolutionUnit @264 SHORT @276 = NONE\n",
      "24-Oct-24 17:02:16 - bfio.backends - DEBUG    - TiffTag 305 Software @284 ASCII[12] @2964 = tifffile.py\n",
      "24-Oct-24 17:02:16 - fsspec.local - DEBUG    - open file: /srv/scratch/berrylab/z5459895/NikonSpinningDisk/240809/JOB/20240809_164338_571/intron_threshold_testing/SEGMENTATION/nuclei_intron_masked_Well02_Channel647,405,561,405_Seq0000_0002.ome.tiff\n",
      "24-Oct-24 17:02:16 - fsspec.local - DEBUG    - open file: /srv/scratch/berrylab/z5459895/NikonSpinningDisk/240809/JOB/20240809_164338_571/intron_threshold_testing/SEGMENTATION/nuclei_intron_masked_Well02_Channel647,405,561,405_Seq0000_0002.ome.tiff\n",
      "24-Oct-24 17:02:16 - fsspec.local - DEBUG    - open file: /srv/scratch/berrylab/z5459895/NikonSpinningDisk/240809/JOB/20240809_164338_571/intron_threshold_testing/SEGMENTATION/nuclei_intron_masked_Well02_Channel647,405,561,405_Seq0000_0002.ome.tiff\n"
     ]
    }
   ],
   "source": [
    "intensity_image_dir = Path(\"/srv/scratch/berrylab/z5459895/NikonSpinningDisk/240809/JOB/20240809_164338_571/intron_threshold_testing/OME-TIFF-MIP\")\n",
    "label_image_dir = Path(\"/srv/scratch/berrylab/z5459895/NikonSpinningDisk/240809/JOB/20240809_164338_571/intron_threshold_testing/SEGMENTATION\")\n",
    "\n",
    "intensity_image = AICSImage(intensity_image_dir / \"Well02_Channel647,405,561,405_Seq0000_0002.ome.tiff\")\n",
    "intron_label_image = AICSImage(label_image_dir / \"intron_in_nucleus_Well02_Channel647,405,561,405_Seq0000_0002.ome.tiff\")\n",
    "nuclei_label_image = AICSImage(label_image_dir / \"nuclei_Well02_Channel647,405,561,405_Seq0000_0002.ome.tiff\")\n",
    "intron_nuclei_labels_label_image = AICSImage(label_image_dir / \"nuclei_intron_masked_Well02_Channel647,405,561,405_Seq0000_0002.ome.tiff\")"
   ]
  },
  {
   "cell_type": "code",
   "execution_count": 6,
   "id": "0eda1697-43d8-46fa-8033-79cdad758b06",
   "metadata": {},
   "outputs": [
    {
     "name": "stderr",
     "output_type": "stream",
     "text": [
      "24-Oct-24 17:02:44 - fsspec.local - DEBUG    - open file: /srv/scratch/berrylab/z5459895/NikonSpinningDisk/240809/JOB/20240809_164338_571/intron_threshold_testing/SEGMENTATION/nuclei_Well02_Channel647,405,561,405_Seq0000_0002.ome.tiff\n",
      "24-Oct-24 17:02:44 - fsspec.local - DEBUG    - open file: /srv/scratch/berrylab/z5459895/NikonSpinningDisk/240809/JOB/20240809_164338_571/intron_threshold_testing/SEGMENTATION/nuclei_Well02_Channel647,405,561,405_Seq0000_0002.ome.tiff\n",
      "24-Oct-24 17:02:44 - blimp.utils - DEBUG    - Converting array from uint16 to <class 'numpy.int32'>\n",
      "24-Oct-24 17:02:44 - fsspec.local - DEBUG    - open file: /srv/scratch/berrylab/z5459895/NikonSpinningDisk/240809/JOB/20240809_164338_571/intron_threshold_testing/SEGMENTATION/intron_in_nucleus_Well02_Channel647,405,561,405_Seq0000_0002.ome.tiff\n",
      "24-Oct-24 17:02:44 - blimp.utils - DEBUG    - Concatenating by appending, on axis C\n"
     ]
    }
   ],
   "source": [
    "from blimp.utils import convert_image_dtype, concatenate_images\n",
    "all_channels = concatenate_images([convert_image_dtype(nuclei_label_image,np.int32),\n",
    "                    intron_label_image],axis='C',order='append')"
   ]
  },
  {
   "cell_type": "code",
   "execution_count": 8,
   "id": "90c0b68e-2ec4-47dc-8a1a-86236bcf707a",
   "metadata": {},
   "outputs": [
    {
     "data": {
      "text/plain": [
       "\u001b[0;31mSignature:\u001b[0m\n",
       "\u001b[0mquantify\u001b[0m\u001b[0;34m(\u001b[0m\u001b[0;34m\u001b[0m\n",
       "\u001b[0;34m\u001b[0m    \u001b[0mintensity_image\u001b[0m\u001b[0;34m:\u001b[0m \u001b[0maicsimageio\u001b[0m\u001b[0;34m.\u001b[0m\u001b[0maics_image\u001b[0m\u001b[0;34m.\u001b[0m\u001b[0mAICSImage\u001b[0m\u001b[0;34m,\u001b[0m\u001b[0;34m\u001b[0m\n",
       "\u001b[0;34m\u001b[0m    \u001b[0mlabel_image\u001b[0m\u001b[0;34m:\u001b[0m \u001b[0maicsimageio\u001b[0m\u001b[0;34m.\u001b[0m\u001b[0maics_image\u001b[0m\u001b[0;34m.\u001b[0m\u001b[0mAICSImage\u001b[0m\u001b[0;34m,\u001b[0m\u001b[0;34m\u001b[0m\n",
       "\u001b[0;34m\u001b[0m    \u001b[0mmeasure_objects\u001b[0m\u001b[0;34m:\u001b[0m \u001b[0mUnion\u001b[0m\u001b[0;34m[\u001b[0m\u001b[0mint\u001b[0m\u001b[0;34m,\u001b[0m \u001b[0mstr\u001b[0m\u001b[0;34m,\u001b[0m \u001b[0mList\u001b[0m\u001b[0;34m[\u001b[0m\u001b[0mUnion\u001b[0m\u001b[0;34m[\u001b[0m\u001b[0mint\u001b[0m\u001b[0;34m,\u001b[0m \u001b[0mstr\u001b[0m\u001b[0;34m]\u001b[0m\u001b[0;34m]\u001b[0m\u001b[0;34m,\u001b[0m \u001b[0mNoneType\u001b[0m\u001b[0;34m]\u001b[0m \u001b[0;34m=\u001b[0m \u001b[0;32mNone\u001b[0m\u001b[0;34m,\u001b[0m\u001b[0;34m\u001b[0m\n",
       "\u001b[0;34m\u001b[0m    \u001b[0mparent_object\u001b[0m\u001b[0;34m:\u001b[0m \u001b[0mUnion\u001b[0m\u001b[0;34m[\u001b[0m\u001b[0mint\u001b[0m\u001b[0;34m,\u001b[0m \u001b[0mstr\u001b[0m\u001b[0;34m,\u001b[0m \u001b[0mNoneType\u001b[0m\u001b[0;34m]\u001b[0m \u001b[0;34m=\u001b[0m \u001b[0;32mNone\u001b[0m\u001b[0;34m,\u001b[0m\u001b[0;34m\u001b[0m\n",
       "\u001b[0;34m\u001b[0m    \u001b[0maggregate\u001b[0m\u001b[0;34m:\u001b[0m \u001b[0mOptional\u001b[0m\u001b[0;34m[\u001b[0m\u001b[0mbool\u001b[0m\u001b[0;34m]\u001b[0m \u001b[0;34m=\u001b[0m \u001b[0;32mFalse\u001b[0m\u001b[0;34m,\u001b[0m\u001b[0;34m\u001b[0m\n",
       "\u001b[0;34m\u001b[0m    \u001b[0mtimepoint\u001b[0m\u001b[0;34m:\u001b[0m \u001b[0mOptional\u001b[0m\u001b[0;34m[\u001b[0m\u001b[0mint\u001b[0m\u001b[0;34m]\u001b[0m \u001b[0;34m=\u001b[0m \u001b[0;32mNone\u001b[0m\u001b[0;34m,\u001b[0m\u001b[0;34m\u001b[0m\n",
       "\u001b[0;34m\u001b[0m    \u001b[0mintensity_channels\u001b[0m\u001b[0;34m:\u001b[0m \u001b[0mUnion\u001b[0m\u001b[0;34m[\u001b[0m\u001b[0mint\u001b[0m\u001b[0;34m,\u001b[0m \u001b[0mstr\u001b[0m\u001b[0;34m,\u001b[0m \u001b[0mList\u001b[0m\u001b[0;34m[\u001b[0m\u001b[0mUnion\u001b[0m\u001b[0;34m[\u001b[0m\u001b[0mint\u001b[0m\u001b[0;34m,\u001b[0m \u001b[0mstr\u001b[0m\u001b[0;34m]\u001b[0m\u001b[0;34m]\u001b[0m\u001b[0;34m,\u001b[0m \u001b[0mNoneType\u001b[0m\u001b[0;34m]\u001b[0m \u001b[0;34m=\u001b[0m \u001b[0;32mNone\u001b[0m\u001b[0;34m,\u001b[0m\u001b[0;34m\u001b[0m\n",
       "\u001b[0;34m\u001b[0m    \u001b[0mtexture_channels\u001b[0m\u001b[0;34m:\u001b[0m \u001b[0mUnion\u001b[0m\u001b[0;34m[\u001b[0m\u001b[0mint\u001b[0m\u001b[0;34m,\u001b[0m \u001b[0mstr\u001b[0m\u001b[0;34m,\u001b[0m \u001b[0mList\u001b[0m\u001b[0;34m[\u001b[0m\u001b[0mUnion\u001b[0m\u001b[0;34m[\u001b[0m\u001b[0mint\u001b[0m\u001b[0;34m,\u001b[0m \u001b[0mstr\u001b[0m\u001b[0;34m]\u001b[0m\u001b[0;34m]\u001b[0m\u001b[0;34m,\u001b[0m \u001b[0mNoneType\u001b[0m\u001b[0;34m]\u001b[0m \u001b[0;34m=\u001b[0m \u001b[0;32mNone\u001b[0m\u001b[0;34m,\u001b[0m\u001b[0;34m\u001b[0m\n",
       "\u001b[0;34m\u001b[0m    \u001b[0mtexture_objects\u001b[0m\u001b[0;34m:\u001b[0m \u001b[0mUnion\u001b[0m\u001b[0;34m[\u001b[0m\u001b[0mint\u001b[0m\u001b[0;34m,\u001b[0m \u001b[0mstr\u001b[0m\u001b[0;34m,\u001b[0m \u001b[0mList\u001b[0m\u001b[0;34m[\u001b[0m\u001b[0mUnion\u001b[0m\u001b[0;34m[\u001b[0m\u001b[0mint\u001b[0m\u001b[0;34m,\u001b[0m \u001b[0mstr\u001b[0m\u001b[0;34m]\u001b[0m\u001b[0;34m]\u001b[0m\u001b[0;34m,\u001b[0m \u001b[0mNoneType\u001b[0m\u001b[0;34m]\u001b[0m \u001b[0;34m=\u001b[0m \u001b[0;32mNone\u001b[0m\u001b[0;34m,\u001b[0m\u001b[0;34m\u001b[0m\n",
       "\u001b[0;34m\u001b[0m    \u001b[0mtexture_scales\u001b[0m\u001b[0;34m:\u001b[0m \u001b[0mlist\u001b[0m \u001b[0;34m=\u001b[0m \u001b[0;34m[\u001b[0m\u001b[0;36m1\u001b[0m\u001b[0;34m,\u001b[0m \u001b[0;36m3\u001b[0m\u001b[0;34m]\u001b[0m\u001b[0;34m,\u001b[0m\u001b[0;34m\u001b[0m\n",
       "\u001b[0;34m\u001b[0m\u001b[0;34m)\u001b[0m \u001b[0;34m->\u001b[0m \u001b[0mUnion\u001b[0m\u001b[0;34m[\u001b[0m\u001b[0mpandas\u001b[0m\u001b[0;34m.\u001b[0m\u001b[0mcore\u001b[0m\u001b[0;34m.\u001b[0m\u001b[0mframe\u001b[0m\u001b[0;34m.\u001b[0m\u001b[0mDataFrame\u001b[0m\u001b[0;34m,\u001b[0m \u001b[0mList\u001b[0m\u001b[0;34m[\u001b[0m\u001b[0mpandas\u001b[0m\u001b[0;34m.\u001b[0m\u001b[0mcore\u001b[0m\u001b[0;34m.\u001b[0m\u001b[0mframe\u001b[0m\u001b[0;34m.\u001b[0m\u001b[0mDataFrame\u001b[0m\u001b[0;34m]\u001b[0m\u001b[0;34m]\u001b[0m\u001b[0;34m\u001b[0m\u001b[0;34m\u001b[0m\u001b[0m\n",
       "\u001b[0;31mDocstring:\u001b[0m\n",
       "Quantify all channels in an image relative to a matching segmentation\n",
       "label image.\n",
       "\n",
       "Parameters\n",
       "----------\n",
       "intensity_image\n",
       "    intensity image (possibly 5D: \"TCZYX\")\n",
       "label_image\n",
       "    label image (possibly 5D: \"TCZYX\")\n",
       "timepoint\n",
       "    which timepoint should be segmented (optional,\n",
       "    default None will segment all time-points)\n",
       "\n",
       "Returns\n",
       "-------\n",
       "pandas.DataFrame\n",
       "    quantified data (n_rows = # objects x # timepoints, n_cols = # features)\n",
       "\u001b[0;31mFile:\u001b[0m      /srv/scratch/z3532965/src/blimp/blimp/processing/quantify.py\n",
       "\u001b[0;31mType:\u001b[0m      function"
      ]
     },
     "metadata": {},
     "output_type": "display_data"
    }
   ],
   "source": [
    "?quantify"
   ]
  },
  {
   "cell_type": "code",
   "execution_count": 13,
   "id": "3b0f122f-aab4-441e-981b-7ca5d55e79ad",
   "metadata": {},
   "outputs": [
    {
     "name": "stderr",
     "output_type": "stream",
     "text": [
      "24-Oct-24 17:08:07 - blimp.utils - INFO     - Channel names unique: ['Nuclei', 'Intron']\n",
      "24-Oct-24 17:08:07 - blimp.utils - WARNING  - Channel names not unique, renaming to ['647_0', '405_1', '561_2', '405_3']\n",
      "24-Oct-24 17:08:07 - blimp.processing.quantify - INFO     - ``measure_objects`` =  ['Nuclei', 'Intron']\n",
      "24-Oct-24 17:08:07 - blimp.processing.quantify - INFO     - ``texture_objects`` =  ['Nuclei', 'Intron']\n",
      "24-Oct-24 17:08:07 - blimp.processing.quantify - INFO     - ``parent_object`` =  Nuclei\n",
      "24-Oct-24 17:08:07 - blimp.processing.quantify - DEBUG    - Quantifying Nuclei\n",
      "24-Oct-24 17:08:07 - blimp.processing.quantify - INFO     - ``intensity_image`` is 2D. Quantifying 2D features only.\n",
      "24-Oct-24 17:08:15 - blimp.processing.quantify - DEBUG    - Quantifying Intron\n",
      "24-Oct-24 17:08:15 - blimp.processing.quantify - INFO     - ``intensity_image`` is 2D. Quantifying 2D features only.\n"
     ]
    }
   ],
   "source": [
    "features_non_aggregated = quantify(\n",
    "    intensity_image=intensity_image,\n",
    "    label_image=all_channels,\n",
    "    parent_object=\"Nuclei\",\n",
    "    aggregate=False)"
   ]
  },
  {
   "cell_type": "code",
   "execution_count": 14,
   "id": "0010c485-649d-46a4-ba28-2df1b671020a",
   "metadata": {},
   "outputs": [
    {
     "data": {
      "text/plain": [
       "2"
      ]
     },
     "execution_count": 14,
     "metadata": {},
     "output_type": "execute_result"
    }
   ],
   "source": [
    "len(features_non_aggregated)"
   ]
  },
  {
   "cell_type": "code",
   "execution_count": 10,
   "id": "f37cae7c-3310-4bf5-8d9c-222889719456",
   "metadata": {},
   "outputs": [
    {
     "name": "stderr",
     "output_type": "stream",
     "text": [
      "24-Oct-24 17:06:12 - blimp.utils - INFO     - Channel names unique: ['Nuclei', 'Intron']\n",
      "24-Oct-24 17:06:12 - blimp.utils - WARNING  - Channel names not unique, renaming to ['647_0', '405_1', '561_2', '405_3']\n",
      "24-Oct-24 17:06:12 - blimp.processing.quantify - INFO     - ``measure_objects`` =  ['Nuclei', 'Intron']\n",
      "24-Oct-24 17:06:12 - blimp.processing.quantify - INFO     - ``texture_objects`` =  ['Nuclei', 'Intron']\n",
      "24-Oct-24 17:06:12 - blimp.processing.quantify - INFO     - ``parent_object`` =  Nuclei\n",
      "24-Oct-24 17:06:12 - blimp.processing.quantify - DEBUG    - Quantifying Nuclei\n",
      "24-Oct-24 17:06:12 - blimp.processing.quantify - INFO     - ``intensity_image`` is 2D. Quantifying 2D features only.\n",
      "24-Oct-24 17:06:21 - blimp.processing.quantify - DEBUG    - Quantifying Intron\n",
      "24-Oct-24 17:06:21 - blimp.processing.quantify - INFO     - ``intensity_image`` is 2D. Quantifying 2D features only.\n"
     ]
    }
   ],
   "source": [
    "features_aggregated = quantify(\n",
    "    intensity_image=intensity_image,\n",
    "    label_image=all_channels,\n",
    "    parent_object=\"Nuclei\",\n",
    "    aggregate=True)"
   ]
  },
  {
   "cell_type": "code",
   "execution_count": 16,
   "id": "b6bf9751-8b95-49c0-a9e9-c41173bcf454",
   "metadata": {},
   "outputs": [
    {
     "data": {
      "text/plain": [
       "Index(['label', 'Nuclei_centroid_0', 'Nuclei_centroid_1', 'Nuclei_area',\n",
       "       'Nuclei_area_convex', 'Nuclei_axis_major_length',\n",
       "       'Nuclei_axis_minor_length', 'Nuclei_eccentricity', 'Nuclei_extent',\n",
       "       'Nuclei_feret_diameter_max',\n",
       "       ...\n",
       "       'Intron_perimeter_crofton_min', 'Intron_perimeter_crofton_max',\n",
       "       'Intron_perimeter_crofton_std', 'Intron_perimeter_crofton_median',\n",
       "       'Intron_solidity_mean', 'Intron_solidity_min', 'Intron_solidity_max',\n",
       "       'Intron_solidity_std', 'Intron_solidity_median', 'Intron_count'],\n",
       "      dtype='object', length=829)"
      ]
     },
     "execution_count": 16,
     "metadata": {},
     "output_type": "execute_result"
    }
   ],
   "source": [
    "features_aggregated.columns"
   ]
  },
  {
   "cell_type": "code",
   "execution_count": null,
   "id": "8fc48854-10c6-421f-b1a6-433ad68691cf",
   "metadata": {},
   "outputs": [],
   "source": []
  }
 ],
 "metadata": {
  "kernelspec": {
   "display_name": "berrylab-py310-jupyter",
   "language": "python",
   "name": "berrylab-py310-jupyter"
  },
  "language_info": {
   "codemirror_mode": {
    "name": "ipython",
    "version": 3
   },
   "file_extension": ".py",
   "mimetype": "text/x-python",
   "name": "python",
   "nbconvert_exporter": "python",
   "pygments_lexer": "ipython3",
   "version": "3.10.13"
  }
 },
 "nbformat": 4,
 "nbformat_minor": 5
}
