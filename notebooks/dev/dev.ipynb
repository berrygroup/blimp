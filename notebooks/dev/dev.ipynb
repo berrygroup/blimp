{
 "cells": [
  {
   "cell_type": "code",
   "execution_count": 1,
   "metadata": {},
   "outputs": [
    {
     "name": "stderr",
     "output_type": "stream",
     "text": [
      "07-Feb-23 16:10:37 - bfio.backends - WARNING  - Java backend is not available. This could be due to a missing dependency (jpype).\n"
     ]
    },
    {
     "name": "stdout",
     "output_type": "stream",
     "text": [
      "Reading config from /Users/scottberry/.config/blimp/blimp.ini\n",
      "unpacked_dir = /Users/scottberry/source/blimp/notebooks/_data/raw\n",
      "archive_path = /Users/scottberry/source/blimp/notebooks/_data/archive/_data.zip\n",
      "BLIMPConfig (fname: /Users/scottberry/.config/blimp/blimp.ini)\n",
      "EXPERIMENT_DIR: /Users/scottberry/source/blimp\n",
      "BASE_DATA_DIR: /Users/scottberry/source/blimp\n",
      "data_config/exampledata: /Users/scottberry/source/blimp/notebooks/ExampleData_constants.py\n",
      "\n"
     ]
    }
   ],
   "source": [
    "import napari\n",
    "import numpy as np\n",
    "import logging\n",
    "\n",
    "from blimp.data import load_example_data\n",
    "from blimp.log import configure_logging\n",
    "from blimp.constants import blimp_config\n",
    "from aicsimageio import AICSImage\n",
    "from pathlib import Path\n",
    "\n",
    "configure_logging(verbosity=2)\n",
    "# ensure that example data is downloaded\n",
    "example_data_path = load_example_data()\n",
    "# read correct blimp_config -- created with 0_setup.ipynb\n",
    "blimp_config.config_fname = \"blimp.ini\"\n",
    "print(blimp_config)\n"
   ]
  },
  {
   "cell_type": "code",
   "execution_count": 2,
   "metadata": {},
   "outputs": [
    {
     "name": "stderr",
     "output_type": "stream",
     "text": [
      "The default XML parser will be changing from 'xmlschema' to 'lxml' in version 0.4.0.  To silence this warning, please provide the `parser` argument, specifying either 'lxml' (to opt into the new behavior), or'xmlschema' (to retain the old behavior).\n"
     ]
    }
   ],
   "source": [
    "from blimp.image import BLImage \n",
    "cyc01 = BLImage(example_data_path / '_data' / 'operetta_cls_multiplex' / 'cycle_01' / 'r05c03f15-fk1fl1-mip.ome.tiff')"
   ]
  },
  {
   "cell_type": "code",
   "execution_count": 4,
   "metadata": {},
   "outputs": [
    {
     "data": {
      "text/plain": [
       "<BLImage [Reader: OmeTiffReader, dtype: uint16, Image-is-in-Memory: False]>"
      ]
     },
     "execution_count": 4,
     "metadata": {},
     "output_type": "execute_result"
    }
   ],
   "source": [
    "cyc01"
   ]
  },
  {
   "cell_type": "code",
   "execution_count": null,
   "metadata": {},
   "outputs": [],
   "source": [
    "cyc01.x\n"
   ]
  },
  {
   "cell_type": "code",
   "execution_count": null,
   "metadata": {},
   "outputs": [],
   "source": [
    "bl = cyc01.shift_yx(1,1)\n",
    "bl.get_image_data('YX',Z=0,T=0,C=0)"
   ]
  },
  {
   "cell_type": "code",
   "execution_count": null,
   "metadata": {},
   "outputs": [],
   "source": [
    "cyc01.shift_yx"
   ]
  },
  {
   "cell_type": "code",
   "execution_count": null,
   "metadata": {},
   "outputs": [],
   "source": [
    "cyc01.get_image_data('YX',Z=0,T=0,C=0)"
   ]
  },
  {
   "cell_type": "code",
   "execution_count": null,
   "metadata": {},
   "outputs": [],
   "source": [
    "from blimp.preprocessing.registration import TransformationParameters\n",
    "cyc01.transformation_parameters = TransformationParameters(transformation_mode='rigid')\n",
    "print(cyc01.transformation_parameters)"
   ]
  },
  {
   "cell_type": "code",
   "execution_count": 78,
   "metadata": {},
   "outputs": [
    {
     "name": "stderr",
     "output_type": "stream",
     "text": [
      "The default XML parser will be changing from 'xmlschema' to 'lxml' in version 0.4.0.  To silence this warning, please provide the `parser` argument, specifying either 'lxml' (to opt into the new behavior), or'xmlschema' (to retain the old behavior).\n"
     ]
    }
   ],
   "source": [
    "def vollath_f4(arr : np.ndarray):\n",
    "    \"\"\"Vollath's F4 function.\n",
    "    \n",
    "    Described in https://doi.org/10.1002/jemt.24035\n",
    "\n",
    "    Code adapted from https://github.com/aquimb/Autofocus-URJC/blob/d3b83382a82315e27e248d09519e3da4dbac40f6/Code/algorithms.py#L200\n",
    "    \"\"\"\n",
    "    sum1 = 0\n",
    "    sum2 = 0\n",
    "    rows = arr.shape[0]\n",
    "    cols = arr.shape[1]\n",
    "    for i in range(rows - 1):\n",
    "        sum1 = sum1 + (arr[i] * arr[i + 1])\n",
    "\n",
    "    for i in range(rows - 2):\n",
    "        sum2 = sum2 + (arr[i] * arr[i + 2])\n",
    "\n",
    "    sum3 = (sum1 - sum2)\n",
    "    res = 0\n",
    "    for i in range(cols):\n",
    "        res = res + sum3[i]\n",
    "\n",
    "    return res\n",
    "\n",
    "blimp_config.config_fname = \"blimp.ini\"\n",
    "# load the exampledata configuration\n",
    "example_data_config = blimp_config.get_data_config('exampledata')\n",
    "FISH = AICSImage(Path(example_data_config.DATA_DIR) / 'nstorm_multichannel_fish' /  'well3_channelag_647_fish,ag_568_fish_quad,ag_488nhs,ag_dapi_seq0002_0003.ome.tiff')\n"
   ]
  },
  {
   "cell_type": "code",
   "execution_count": 201,
   "metadata": {},
   "outputs": [],
   "source": [
    "from typing import Optional\n",
    "def estimate_focus_plane(\n",
    "    image : AICSImage,\n",
    "    C : Optional[int],\n",
    "    sliding_window_averaging: Optional[int] = None,\n",
    "    crop : float = 1.0\n",
    ") -> int:\n",
    "\n",
    "    if not isinstance(crop,float):\n",
    "        raise TypeError(\"``crop`` must be of type float\")\n",
    "\n",
    "    if C is None:\n",
    "        #logger.warning(\"Using default channel (C = 0) to calculate focus_plane\")\n",
    "        C = 0\n",
    "\n",
    "    arrays = [image.get_image_data(\"YX\",T=0,C=C,Z=i) for i in range(image.dims.Z)]\n",
    "    if crop < 1.0:\n",
    "        ymin = np.floor((1.0-crop) * arrays[0].shape[0]).astype(int)\n",
    "        ymax = np.ceil(crop * arrays[0].shape[0]).astype(int)\n",
    "        xmin = np.floor((1.0-crop) * arrays[0].shape[1]).astype(int)\n",
    "        xmax = np.ceil(crop * arrays[0].shape[1]).astype(int)\n",
    "        arrays = [a[ymin:ymax, xmin:xmax] for a in arrays]\n",
    "    elif crop!=1.0:\n",
    "        raise ValueError(\"``crop`` must be < 1\")\n",
    "\n",
    "    f4 = [vollath_f4(arr) for arr in arrays]\n",
    "    intensity = [np.mean(arr) for arr in arrays]\n",
    "\n",
    "    if sliding_window_averaging is not None and sliding_window_averaging > 0:\n",
    "        # average\n",
    "        f4_avg = list(np.convolve(f4, np.ones(sliding_window_averaging)/sliding_window_averaging, mode='valid'))\n",
    "        # pad with zeros\n",
    "        if sliding_window_averaging % 2 == 0:\n",
    "            pad_left = list(np.zeros([np.floor(float(sliding_window_averaging-1)/2.).astype(int)], dtype=type(f4[0])))\n",
    "        else:\n",
    "            pad_left = list(np.zeros([np.floor(float(sliding_window_averaging)/2.).astype(int)], dtype=type(f4[0])))\n",
    "        pad_right = list(np.zeros([np.floor(float(sliding_window_averaging)/2.).astype(int)], dtype=type(f4[0])))\n",
    "        f4 = pad_left + f4_avg + pad_right\n",
    "        # find max\n",
    "        max_pos = np.argmax(f4_avg) + len(pad_left)\n",
    "    else:\n",
    "        max_pos = np.argmax(f4)\n",
    "\n",
    "    return  max_pos"
   ]
  },
  {
   "cell_type": "code",
   "execution_count": 208,
   "metadata": {},
   "outputs": [
    {
     "data": {
      "image/png": "[encoded data removed]",
      "text/plain": [
       "<Figure size 600x300 with 2 Axes>"
      ]
     },
     "metadata": {},
     "output_type": "display_data"
    }
   ],
   "source": [
    "from matplotlib import pyplot as plt\n",
    "\n",
    "focus_plane, f4_raw, intensity = estimate_focus_plane(FISH,C=2,crop=0.75,sliding_window_averaging=2)\n",
    "f4_window = [estimate_focus_plane(FISH,C=2,sliding_window_averaging=i,crop=0.75)[1] for i in range(1,10,2)]\n",
    "focus_plane_window = [estimate_focus_plane(FISH,C=2,sliding_window_averaging=i,crop=0.75)[0] for i in range(1,10,2)]\n",
    "\n",
    "fig, axes = plt.subplots(1, 2, figsize=(6, 3))\n",
    "axes[0].plot(range(len(f4_raw)),f4_raw)\n",
    "[axes[0].plot(range(len(f4_raw)),fw) for fw in f4_window]\n",
    "axes[0].set_title(\"f4\")\n",
    "axes[1].plot(range(len(intensity)),intensity)\n",
    "axes[1].set_title(\"mean intensity\")\n",
    "fig.tight_layout()"
   ]
  },
  {
   "cell_type": "code",
   "execution_count": 204,
   "metadata": {},
   "outputs": [
    {
     "data": {
      "text/plain": [
       "[5, 6, 6, 7]"
      ]
     },
     "execution_count": 204,
     "metadata": {},
     "output_type": "execute_result"
    }
   ],
   "source": [
    "focus_plane_window"
   ]
  }
 ],
 "metadata": {
  "kernelspec": {
   "display_name": "berrylab-default",
   "language": "python",
   "name": "python3"
  },
  "language_info": {
   "codemirror_mode": {
    "name": "ipython",
    "version": 3
   },
   "file_extension": ".py",
   "mimetype": "text/x-python",
   "name": "python",
   "nbconvert_exporter": "python",
   "pygments_lexer": "ipython3",
   "version": "3.8.15"
  },
  "orig_nbformat": 4,
  "vscode": {
   "interpreter": {
    "hash": "60b8c657399aad6f9d89cbf9465e7c1c57998666dc051fd8b62b971f18a5d01e"
   }
  }
 },
 "nbformat": 4,
 "nbformat_minor": 2
}
