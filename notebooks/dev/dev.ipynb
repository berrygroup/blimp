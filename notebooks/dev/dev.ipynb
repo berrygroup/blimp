{
 "cells": [
  {
   "cell_type": "code",
   "execution_count": 1,
   "metadata": {},
   "outputs": [],
   "source": [
    "import numpy as np\n",
    "dapi01 = np.load(\"/Users/scottberry/source/blimp/tests/_data/datasets/registration_tests/dapi01.npy\")\n",
    "dapi01_translated = np.load(\"/Users/scottberry/source/blimp/tests/_data/datasets/registration_tests/dapi01_translated.npy\")"
   ]
  },
  {
   "cell_type": "code",
   "execution_count": 2,
   "metadata": {},
   "outputs": [
    {
     "data": {
      "text/plain": [
       "(1960, 1760)"
      ]
     },
     "execution_count": 2,
     "metadata": {},
     "output_type": "execute_result"
    }
   ],
   "source": [
    "dapi01_translated.shape"
   ]
  },
  {
   "cell_type": "code",
   "execution_count": 3,
   "metadata": {},
   "outputs": [
    {
     "name": "stderr",
     "output_type": "stream",
     "text": [
      "01-Feb-23 21:40:31 - bfio.backends - WARNING  - Java backend is not available. This could be due to a missing dependency (jpype).\n"
     ]
    }
   ],
   "source": [
    "from blimp.preprocessing.registration import (\n",
    "    calculate_shifts,\n",
    "    apply_shifts,\n",
    "    register_2D,\n",
    "    transform_2D,\n",
    "    _get_cropping_mask_from_transformation_parameters,\n",
    "    TransformationParameters\n",
    ")"
   ]
  },
  {
   "cell_type": "code",
   "execution_count": null,
   "metadata": {},
   "outputs": [],
   "source": [
    "settings = TransformationParameters(transformation_mode=\"translation\")\n",
    "translated_registered, parameters = register_2D(dapi01, dapi01_translated, settings)\n",
    "original_registered, null_parameters = register_2D(dapi01, dapi01, settings)\n",
    "\n",
    "parameters.parameter_object.GetParameter(0,'TransformParameters')"
   ]
  },
  {
   "cell_type": "code",
   "execution_count": null,
   "metadata": {},
   "outputs": [],
   "source": [
    "original_registered.shape"
   ]
  },
  {
   "cell_type": "code",
   "execution_count": null,
   "metadata": {},
   "outputs": [],
   "source": [
    "null_parameters.parameter_object.GetParameter(0,'TransformParameters')"
   ]
  },
  {
   "cell_type": "code",
   "execution_count": null,
   "metadata": {},
   "outputs": [],
   "source": [
    "null_parameters.parameter_object.GetParameter(0,'Size')"
   ]
  },
  {
   "cell_type": "code",
   "execution_count": null,
   "metadata": {},
   "outputs": [],
   "source": [
    "plist = [null_parameters,parameters]\n",
    "shapes = [\n",
    "    (int(float(y)), int(float(x))) for x, y in [p.parameter_object.GetParameter(0, \"Size\") for p in plist]  # type: ignore\n",
    "]\n",
    "shapes"
   ]
  },
  {
   "cell_type": "code",
   "execution_count": null,
   "metadata": {},
   "outputs": [],
   "source": [
    "a = _get_cropping_mask_from_transformation_parameters(plist)"
   ]
  },
  {
   "cell_type": "code",
   "execution_count": null,
   "metadata": {},
   "outputs": [],
   "source": [
    "import napari\n",
    "viewer = napari.Viewer()\n",
    "viewer.add_image(original_registered,colormap=\"green\",blending=\"additive\")\n",
    "viewer.add_image(translated_registered,colormap=\"red\",blending=\"additive\")\n",
    "viewer.add_labels(a)"
   ]
  },
  {
   "cell_type": "code",
   "execution_count": null,
   "metadata": {},
   "outputs": [],
   "source": [
    "parameters.save(\"/Users/scottberry/Downloads/tmp.txt\")"
   ]
  },
  {
   "cell_type": "code",
   "execution_count": null,
   "metadata": {},
   "outputs": [],
   "source": [
    "print(sum(np.sum(a==True,axis=0)==0))\n",
    "print(sum(np.sum(a==True,axis=1)==0))"
   ]
  },
  {
   "cell_type": "code",
   "execution_count": null,
   "metadata": {},
   "outputs": [],
   "source": [
    "a[-52:-48,-22:-18]"
   ]
  },
  {
   "cell_type": "code",
   "execution_count": null,
   "metadata": {},
   "outputs": [],
   "source": [
    "tmp = np.ones(shape=a.shape,dtype=np.bool_)\n",
    "tmp[-50:-1,:] = False\n",
    "tmp[:,-20:-1] = False\n",
    "tmp[-52:-48,-22:-18]"
   ]
  }
 ],
 "metadata": {
  "kernelspec": {
   "display_name": "berrylab-default",
   "language": "python",
   "name": "python3"
  },
  "language_info": {
   "codemirror_mode": {
    "name": "ipython",
    "version": 3
   },
   "file_extension": ".py",
   "mimetype": "text/x-python",
   "name": "python",
   "nbconvert_exporter": "python",
   "pygments_lexer": "ipython3",
   "version": "3.8.15"
  },
  "orig_nbformat": 4,
  "vscode": {
   "interpreter": {
    "hash": "60b8c657399aad6f9d89cbf9465e7c1c57998666dc051fd8b62b971f18a5d01e"
   }
  }
 },
 "nbformat": 4,
 "nbformat_minor": 2
}
