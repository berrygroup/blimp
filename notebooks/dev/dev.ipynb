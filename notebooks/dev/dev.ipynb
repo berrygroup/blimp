{
 "cells": [
  {
   "cell_type": "code",
   "execution_count": 1,
   "metadata": {},
   "outputs": [
    {
     "name": "stderr",
     "output_type": "stream",
     "text": [
      "07-Feb-23 16:10:37 - bfio.backends - WARNING  - Java backend is not available. This could be due to a missing dependency (jpype).\n"
     ]
    },
    {
     "name": "stdout",
     "output_type": "stream",
     "text": [
      "Reading config from /Users/scottberry/.config/blimp/blimp.ini\n",
      "unpacked_dir = /Users/scottberry/source/blimp/notebooks/_data/raw\n",
      "archive_path = /Users/scottberry/source/blimp/notebooks/_data/archive/_data.zip\n",
      "BLIMPConfig (fname: /Users/scottberry/.config/blimp/blimp.ini)\n",
      "EXPERIMENT_DIR: /Users/scottberry/source/blimp\n",
      "BASE_DATA_DIR: /Users/scottberry/source/blimp\n",
      "data_config/exampledata: /Users/scottberry/source/blimp/notebooks/ExampleData_constants.py\n",
      "\n"
     ]
    }
   ],
   "source": [
    "import napari\n",
    "import numpy as np\n",
    "import logging\n",
    "\n",
    "from blimp.data import load_example_data\n",
    "from blimp.log import configure_logging\n",
    "from blimp.constants import blimp_config\n",
    "from aicsimageio import AICSImage\n",
    "from pathlib import Path\n",
    "\n",
    "configure_logging(verbosity=2)\n",
    "# ensure that example data is downloaded\n",
    "example_data_path = load_example_data()\n",
    "# read correct blimp_config -- created with 0_setup.ipynb\n",
    "blimp_config.config_fname = \"blimp.ini\"\n",
    "print(blimp_config)\n"
   ]
  },
  {
   "cell_type": "code",
   "execution_count": 2,
   "metadata": {},
   "outputs": [
    {
     "name": "stderr",
     "output_type": "stream",
     "text": [
      "The default XML parser will be changing from 'xmlschema' to 'lxml' in version 0.4.0.  To silence this warning, please provide the `parser` argument, specifying either 'lxml' (to opt into the new behavior), or'xmlschema' (to retain the old behavior).\n"
     ]
    }
   ],
   "source": [
    "from blimp.image import BLImage \n",
    "cyc01 = BLImage(example_data_path / '_data' / 'operetta_cls_multiplex' / 'cycle_01' / 'r05c03f15-fk1fl1-mip.ome.tiff')"
   ]
  },
  {
   "cell_type": "code",
   "execution_count": 4,
   "metadata": {},
   "outputs": [
    {
     "data": {
      "text/plain": [
       "<BLImage [Reader: OmeTiffReader, dtype: uint16, Image-is-in-Memory: False]>"
      ]
     },
     "execution_count": 4,
     "metadata": {},
     "output_type": "execute_result"
    }
   ],
   "source": [
    "cyc01"
   ]
  },
  {
   "cell_type": "code",
   "execution_count": null,
   "metadata": {},
   "outputs": [],
   "source": [
    "cyc01.x\n"
   ]
  },
  {
   "cell_type": "code",
   "execution_count": null,
   "metadata": {},
   "outputs": [],
   "source": [
    "bl = cyc01.shift_yx(1,1)\n",
    "bl.get_image_data('YX',Z=0,T=0,C=0)"
   ]
  },
  {
   "cell_type": "code",
   "execution_count": null,
   "metadata": {},
   "outputs": [],
   "source": [
    "cyc01.shift_yx"
   ]
  },
  {
   "cell_type": "code",
   "execution_count": null,
   "metadata": {},
   "outputs": [],
   "source": [
    "cyc01.get_image_data('YX',Z=0,T=0,C=0)"
   ]
  },
  {
   "cell_type": "code",
   "execution_count": null,
   "metadata": {},
   "outputs": [],
   "source": [
    "from blimp.preprocessing.registration import TransformationParameters\n",
    "cyc01.transformation_parameters = TransformationParameters(transformation_mode='rigid')\n",
    "print(cyc01.transformation_parameters)"
   ]
  },
  {
   "cell_type": "code",
   "execution_count": 71,
   "metadata": {},
   "outputs": [],
   "source": [
    "import dask.array as da\n",
    "def convert_array_dtype(arr, dtype, round_floats=False):\n",
    "\n",
    "    # check requested type is allowed\n",
    "    allowed_types = np.sctypes['int'] + np.sctypes['uint'] + np.sctypes['float']\n",
    "    if not dtype in allowed_types:\n",
    "        raise TypeError(\"``dtype`` = {dtype} is either not recognised or not allowed\")\n",
    "\n",
    "    # convert input to a numpy array\n",
    "    if isinstance(arr, da.core.Array):\n",
    "        arr = np.ndarray(arr)\n",
    "    if not isinstance(arr,np.ndarray):\n",
    "        raise TypeError(\"``arr`` is not a ``numpy.ndarray``\")\n",
    "\n",
    "    old_dtype = arr.dtype\n",
    "    new_dtype = dtype\n",
    "    new = np.copy(arr)\n",
    "    \n",
    "    if old_dtype == new_dtype:\n",
    "        pass\n",
    "\n",
    "    elif old_dtype in np.sctypes['uint']:\n",
    "        # convert from uint\n",
    "        if np.can_cast(old_dtype, new_dtype):\n",
    "            new = new.astype(new_dtype)\n",
    "        else:\n",
    "            raise TypeError(f\"Cannot cast {old_dtype} to {new_dtype}\")\n",
    "\n",
    "    elif old_dtype in np.sctypes['int']:\n",
    "        # convert from int\n",
    "        if np.can_cast(old_dtype, new_dtype):\n",
    "            new = new.astype(new_dtype)\n",
    "        else:\n",
    "            raise TypeError(f\"Cannot cast {old_dtype} to {new_dtype}\")\n",
    "\n",
    "    elif old_dtype in np.sctypes['float']:\n",
    "        # convert from float\n",
    "        if not round_floats:\n",
    "            if np.can_cast(old_dtype, new_dtype):\n",
    "                new = new.astype(new_dtype)\n",
    "            else:\n",
    "                raise TypeError(f\"Cannot cast {old_dtype} to {new_dtype}\")\n",
    "        else:\n",
    "            # round to the nearest integer and represent using\n",
    "            # the minimum scalar data type\n",
    "            new = np.rint(new)\n",
    "            min_dtype_based_on_rounded_values = np.promote_types(\n",
    "                np.min_scalar_type(round(np.max(new))),\n",
    "                np.min_scalar_type(round(np.min(new)))\n",
    "            )\n",
    "            new = new.astype(min_dtype_based_on_rounded_values)\n",
    "            if np.can_cast(new.dtype, new_dtype):\n",
    "                new = new.astype(new_dtype)\n",
    "            else:\n",
    "                raise RuntimeError(\n",
    "                    f\"Tried to convert array of ``float`` to an ``int`` or ``uint`` dtype\" \n",
    "                    + f\" but cannot convert to requested dtype ({new_dtype}) because the\"\n",
    "                    + f\" minimum data type necessary to hold the values is ({new.dtype}) \")\n",
    "    return new\n"
   ]
  },
  {
   "cell_type": "code",
   "execution_count": 73,
   "metadata": {},
   "outputs": [
    {
     "ename": "RuntimeError",
     "evalue": "Tried to convert ``float`` to ``int`` or ``uint`` but cannot convert to requested dtype (<class 'numpy.uint16'>) because the minimum data type necessary to hold the values is (uint32) ",
     "output_type": "error",
     "traceback": [
      "\u001b[0;31m---------------------------------------------------------------------------\u001b[0m",
      "\u001b[0;31mRuntimeError\u001b[0m                              Traceback (most recent call last)",
      "Cell \u001b[0;32mIn[73], line 2\u001b[0m\n\u001b[1;32m      1\u001b[0m arr \u001b[39m=\u001b[39m (np\u001b[39m.\u001b[39mrandom\u001b[39m.\u001b[39mrandom((\u001b[39m10\u001b[39m,\u001b[39m10\u001b[39m))\u001b[39m*\u001b[39m(\u001b[39m2\u001b[39m\u001b[39m*\u001b[39m\u001b[39m*\u001b[39m\u001b[39m17\u001b[39m \u001b[39m-\u001b[39m \u001b[39m1\u001b[39m))\u001b[39m.\u001b[39mastype(np\u001b[39m.\u001b[39mfloat32)\n\u001b[0;32m----> 2\u001b[0m convert_array_dtype(arr,np\u001b[39m.\u001b[39;49muint16,round_floats\u001b[39m=\u001b[39;49m\u001b[39mTrue\u001b[39;49;00m)\n",
      "Cell \u001b[0;32mIn[71], line 55\u001b[0m, in \u001b[0;36mconvert_array_dtype\u001b[0;34m(arr, dtype, round_floats)\u001b[0m\n\u001b[1;32m     53\u001b[0m             new \u001b[39m=\u001b[39m new\u001b[39m.\u001b[39mastype(new_dtype)\n\u001b[1;32m     54\u001b[0m         \u001b[39melse\u001b[39;00m:\n\u001b[0;32m---> 55\u001b[0m             \u001b[39mraise\u001b[39;00m \u001b[39mRuntimeError\u001b[39;00m(\n\u001b[1;32m     56\u001b[0m                 \u001b[39mf\u001b[39m\u001b[39m\"\u001b[39m\u001b[39mTried to convert ``float`` to ``int`` or ``uint`` but cannot\u001b[39m\u001b[39m\"\u001b[39m\n\u001b[1;32m     57\u001b[0m                 \u001b[39m+\u001b[39m \u001b[39mf\u001b[39m\u001b[39m\"\u001b[39m\u001b[39m convert to requested dtype (\u001b[39m\u001b[39m{\u001b[39;00mnew_dtype\u001b[39m}\u001b[39;00m\u001b[39m) because the\u001b[39m\u001b[39m\"\u001b[39m\n\u001b[1;32m     58\u001b[0m                 \u001b[39m+\u001b[39m \u001b[39mf\u001b[39m\u001b[39m\"\u001b[39m\u001b[39m minimum data type necessary to hold the values is (\u001b[39m\u001b[39m{\u001b[39;00mnew\u001b[39m.\u001b[39mdtype\u001b[39m}\u001b[39;00m\u001b[39m) \u001b[39m\u001b[39m\"\u001b[39m)\n\u001b[1;32m     59\u001b[0m \u001b[39mreturn\u001b[39;00m new\n",
      "\u001b[0;31mRuntimeError\u001b[0m: Tried to convert ``float`` to ``int`` or ``uint`` but cannot convert to requested dtype (<class 'numpy.uint16'>) because the minimum data type necessary to hold the values is (uint32) "
     ]
    }
   ],
   "source": [
    "arr = (np.random.random((10,10))*(2**17 - 1)).astype(np.float32)\n",
    "convert_array_dtype(arr,np.uint16,round_floats=True)"
   ]
  },
  {
   "cell_type": "code",
   "execution_count": 61,
   "metadata": {},
   "outputs": [
    {
     "data": {
      "text/plain": [
       "65535"
      ]
     },
     "execution_count": 61,
     "metadata": {},
     "output_type": "execute_result"
    }
   ],
   "source": [
    "2**16 -1\n"
   ]
  }
 ],
 "metadata": {
  "kernelspec": {
   "display_name": "berrylab-default",
   "language": "python",
   "name": "python3"
  },
  "language_info": {
   "codemirror_mode": {
    "name": "ipython",
    "version": 3
   },
   "file_extension": ".py",
   "mimetype": "text/x-python",
   "name": "python",
   "nbconvert_exporter": "python",
   "pygments_lexer": "ipython3",
   "version": "3.8.15"
  },
  "orig_nbformat": 4,
  "vscode": {
   "interpreter": {
    "hash": "60b8c657399aad6f9d89cbf9465e7c1c57998666dc051fd8b62b971f18a5d01e"
   }
  }
 },
 "nbformat": 4,
 "nbformat_minor": 2
}
