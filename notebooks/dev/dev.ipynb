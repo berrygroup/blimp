{
 "cells": [
  {
   "cell_type": "code",
   "execution_count": null,
   "metadata": {},
   "outputs": [],
   "source": [
    "import napari\n",
    "import numpy as np\n",
    "import logging\n",
    "\n",
    "from blimp.data import load_example_data\n",
    "from blimp.log import configure_logging\n",
    "from blimp.constants import blimp_config\n",
    "from aicsimageio import AICSImage\n",
    "from pathlib import Path\n",
    "\n",
    "configure_logging(verbosity=2)\n",
    "# ensure that example data is downloaded\n",
    "example_data_path = load_example_data()\n",
    "# read correct blimp_config -- created with 0_setup.ipynb\n",
    "blimp_config.config_fname = \"blimp.ini\"\n",
    "print(blimp_config)\n"
   ]
  },
  {
   "cell_type": "code",
   "execution_count": null,
   "metadata": {},
   "outputs": [],
   "source": [
    "from blimp.image import BLImage \n",
    "cyc01 = BLImage(example_data_path / '_data' / 'operetta_cls_multiplex' / 'cycle_01' / 'r05c03f15-fk1fl1-mip.ome.tiff')"
   ]
  },
  {
   "cell_type": "code",
   "execution_count": null,
   "metadata": {},
   "outputs": [],
   "source": [
    "cyc01.shift_yx(0,0)"
   ]
  }
 ],
 "metadata": {
  "kernelspec": {
   "display_name": "berrylab-default",
   "language": "python",
   "name": "python3"
  },
  "language_info": {
   "codemirror_mode": {
    "name": "ipython",
    "version": 3
   },
   "file_extension": ".py",
   "mimetype": "text/x-python",
   "name": "python",
   "nbconvert_exporter": "python",
   "pygments_lexer": "ipython3",
   "version": "3.8.15"
  },
  "orig_nbformat": 4,
  "vscode": {
   "interpreter": {
    "hash": "60b8c657399aad6f9d89cbf9465e7c1c57998666dc051fd8b62b971f18a5d01e"
   }
  }
 },
 "nbformat": 4,
 "nbformat_minor": 2
}
