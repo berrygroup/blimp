{
 "cells": [
  {
   "cell_type": "code",
   "execution_count": 352,
   "id": "18a05ac1-5a10-4781-bf4d-418461d88e07",
   "metadata": {},
   "outputs": [],
   "source": [
    "import napari\n",
    "import numpy as np\n",
    "from aicsimageio import AICSImage\n",
    "from aicsimageio.types import PhysicalPixelSizes\n",
    "from skimage.measure import label"
   ]
  },
  {
   "cell_type": "markdown",
   "id": "a5e068a3-7939-4b5b-8954-d7136dfc1c59",
   "metadata": {},
   "source": [
    "# 2D\n",
    "generate data"
   ]
  },
  {
   "cell_type": "code",
   "execution_count": 353,
   "id": "3db006f3-ba66-4798-a309-ac7c81025e94",
   "metadata": {},
   "outputs": [],
   "source": [
    "# Initialize an empty 1000x1000 array of uint16 type\n",
    "array_2d = np.zeros((1000, 1000), dtype=np.uint16)\n",
    "\n",
    "# Define square sizes (areas 100, 81, 900, 1000)\n",
    "square_sizes = [100, 81, 900, 1000]\n",
    "square_sides = [int(np.sqrt(size)) for size in square_sizes]\n",
    "\n",
    "# Define top-left coordinates for the squares (ensuring no overlap)\n",
    "# Manually chosen positions to avoid overlap\n",
    "positions = [(50, 50), (200, 200), (500, 500), (800, 50)]\n",
    "\n",
    "# Fill in the squares with arbitrary non-zero values\n",
    "for i, (side, (x, y)) in enumerate(zip(square_sides, positions)):\n",
    "    array_2d[x:x+side, y:y+side] = (i + 1) * 1000  # Assign values 1000, 2000, 3000, 4000\n",
    "\n",
    "# Initialize another empty 1000x1000 array of uint16 type\n",
    "small_squares_array = np.zeros((1000, 1000), dtype=np.uint16)\n",
    "\n",
    "# Side length of the small squares (area 4 means side length 2)\n",
    "small_square_side = 2\n",
    "\n",
    "# Function to check if a square is inside the bounds of a large square\n",
    "def is_in_large_square(x, y, large_squares):\n",
    "    for lx, ly, side in large_squares:\n",
    "        if lx <= x < lx + side and ly <= y < ly + side:\n",
    "            return True\n",
    "    return False\n",
    "\n",
    "# Large squares' positions and sides from the previous array\n",
    "large_squares_info = [(50, 50, square_sides[0]), (200, 200, square_sides[1]), \n",
    "                      (500, 500, square_sides[2]), (800, 50, square_sides[3])]\n",
    "\n",
    "# Generate 50 small squares inside the large squares\n",
    "inside_count = 0\n",
    "while inside_count < 50:\n",
    "    # Randomly choose a large square\n",
    "    lx, ly, side = large_squares_info[np.random.randint(0, 4)]\n",
    "    # Random position within the large square\n",
    "    x = np.random.randint(lx, lx + side - small_square_side - 1)\n",
    "    y = np.random.randint(ly, ly + side - small_square_side - 1)\n",
    "    # Place the square if there's no overlap\n",
    "    if np.all(small_squares_array[x-1:x+small_square_side+1, y-1:y+small_square_side+1] == 0):\n",
    "        small_squares_array[x:x+small_square_side, y:y+small_square_side] = 5000  # Arbitrary value\n",
    "        inside_count += 1\n",
    "\n",
    "# Generate 50 small squares outside the large squares\n",
    "outside_count = 0\n",
    "while outside_count < 50:\n",
    "    # Random position anywhere in the array\n",
    "    x = np.random.randint(0, 1000 - small_square_side - 1)\n",
    "    y = np.random.randint(0, 1000 - small_square_side - 1)\n",
    "    # Place the square if there's no overlap with large squares or previously placed small squares\n",
    "    if np.all(small_squares_array[x-1:x+small_square_side+1, y-1:y+small_square_side+1] == 0) and not is_in_large_square(x, y, large_squares_info):\n",
    "        small_squares_array[x:x+small_square_side, y:y+small_square_side] = 1000\n",
    "        outside_count += 1\n",
    "\n",
    "# Initialize a new empty 1000x1000 array for the overlapping squares\n",
    "overlapping_squares_array = np.zeros((1000, 1000), dtype=np.uint16)\n",
    "\n",
    "# Define new positions for the overlapping squares, ensuring partial overlap with the previous large squares\n",
    "overlapping_positions = [(49, 49), (195, 195), (490, 490), (790, 40)]\n",
    "\n",
    "# Fill in the overlapping squares with arbitrary non-zero values\n",
    "for i, (side, (x, y)) in enumerate(zip(square_sides, overlapping_positions)):\n",
    "    overlapping_squares_array[x:x+side, y:y+side] = (i + 5) * 1000  # Assign different values from the previous image"
   ]
  },
  {
   "cell_type": "code",
   "execution_count": 354,
   "id": "d332e55a-1127-4aba-a4fa-78826648655d",
   "metadata": {},
   "outputs": [],
   "source": [
    "def translate_with_periodic_boundary(array, shift_x, shift_y):\n",
    "    \"\"\"\n",
    "    Translates a 2D NumPy array by (shift_x, shift_y) with periodic boundary conditions.\n",
    "\n",
    "    Parameters:\n",
    "    array (np.ndarray): Input 2D array to translate.\n",
    "    shift_x (int): Amount to shift in the x-direction (rows).\n",
    "    shift_y (int): Amount to shift in the y-direction (columns).\n",
    "\n",
    "    Returns:\n",
    "    np.ndarray: The translated array with periodic boundary conditions.\n",
    "    \"\"\"\n",
    "    # Use numpy's roll function to handle periodic boundary conditions\n",
    "    translated_array = np.roll(array, shift=(shift_x, shift_y), axis=(0, 1))\n",
    "    \n",
    "    return translated_array\n"
   ]
  },
  {
   "cell_type": "markdown",
   "id": "a99d278c-5415-4d14-8a14-16893fe70657",
   "metadata": {},
   "source": [
    "translate data in x and y for time-series"
   ]
  },
  {
   "cell_type": "code",
   "execution_count": 355,
   "id": "11a2318c-0d89-4b15-a85b-1e37e727c90c",
   "metadata": {},
   "outputs": [],
   "source": [
    "intensity_arrays = [array_2d,small_squares_array,overlapping_squares_array]\n",
    "t1 = np.stack(intensity_arrays)[:,np.newaxis,:,:]\n",
    "t2 = np.stack([translate_with_periodic_boundary(a,10,10) for a in intensity_arrays])[:,np.newaxis,:,:]\n",
    "t3 = np.stack([translate_with_periodic_boundary(a,20,20) for a in intensity_arrays])[:,np.newaxis,:,:]\n",
    "intensity_image = AICSImage(np.stack([t1,t2,t3]),channel_names=[\"Channel1\",\"Channel2\",\"Channel3\"],physical_pixel_sizes=PhysicalPixelSizes(Z=1,Y=1,X=1))"
   ]
  },
  {
   "cell_type": "markdown",
   "id": "1300ae93-173f-45b5-8860-6cc00f8d0764",
   "metadata": {},
   "source": [
    "visualise data"
   ]
  },
  {
   "cell_type": "code",
   "execution_count": 356,
   "id": "fe22968f-b7ae-4efc-bdf5-8ba23ef1918f",
   "metadata": {},
   "outputs": [],
   "source": [
    "viewer = napari.Viewer()"
   ]
  },
  {
   "cell_type": "code",
   "execution_count": 357,
   "id": "225bf2a5-b3f2-4790-ace1-346b44a5e456",
   "metadata": {},
   "outputs": [
    {
     "data": {
      "text/plain": [
       "[<Image layer 'Channel1' at 0x4797bb340>,\n",
       " <Image layer 'Channel2' at 0x4797b5270>,\n",
       " <Image layer 'Channel3' at 0x4369cffd0>]"
      ]
     },
     "execution_count": 357,
     "metadata": {},
     "output_type": "execute_result"
    }
   ],
   "source": [
    "viewer.add_image(intensity_image.get_image_data('TCYX',Z=0),channel_axis=1,name=intensity_image.channel_names)"
   ]
  },
  {
   "cell_type": "code",
   "execution_count": 358,
   "id": "4eeb07cc-b4d5-4944-99e4-b39d06d9437d",
   "metadata": {},
   "outputs": [
    {
     "data": {
      "text/plain": [
       "PhysicalPixelSizes(Z=1, Y=1, X=1)"
      ]
     },
     "execution_count": 358,
     "metadata": {},
     "output_type": "execute_result"
    }
   ],
   "source": [
    "intensity_image.physical_pixel_sizes"
   ]
  },
  {
   "cell_type": "markdown",
   "id": "b2ebadb2-33eb-4759-9e34-9551d5ac824d",
   "metadata": {},
   "source": [
    "segment all channels"
   ]
  },
  {
   "cell_type": "code",
   "execution_count": 359,
   "id": "d4bb29d1-2fc5-4d35-ad64-46c35bb3444a",
   "metadata": {},
   "outputs": [],
   "source": [
    "ctyx_labels = np.stack([np.stack([label(intensity_image.get_image_data('YX',T=t,C=ch,Z=0)>0) for t in range(intensity_image.dims.T)]) for ch in range(intensity_image.dims.C)])\n",
    "tczyx_labels = np.swapaxes(ctyx_labels,0,1)[:,:,np.newaxis,:,:]"
   ]
  },
  {
   "cell_type": "code",
   "execution_count": 360,
   "id": "85026f81-3150-4bf3-8f8e-20647f5fb7de",
   "metadata": {},
   "outputs": [],
   "source": [
    "label_image = AICSImage(tcyx_labels.astype(np.int32),\n",
    "                        channel_names=[\"Object1\",\"Object2\",\"Object3\"],\n",
    "                        physical_pixel_sizes=PhysicalPixelSizes(Z=1,Y=1,X=1))"
   ]
  },
  {
   "cell_type": "markdown",
   "id": "8e4b0dd3-4c61-4300-add6-f0024dd15415",
   "metadata": {},
   "source": [
    "visualise segmentation"
   ]
  },
  {
   "cell_type": "code",
   "execution_count": 361,
   "id": "adc9a513-2def-4ff4-ba52-37f8faa55af8",
   "metadata": {},
   "outputs": [],
   "source": [
    "for i in range(label_image.dims.C):\n",
    "    viewer.add_labels(label_image.get_image_data('TYX',Z=0,C=i),name=label_image.channel_names[i])"
   ]
  },
  {
   "cell_type": "code",
   "execution_count": 362,
   "id": "3cfdfad7-6d73-435c-a18e-8eda9f562cb3",
   "metadata": {},
   "outputs": [],
   "source": [
    "intensity_image.save(\"synthetic_intensity_image_TYX.tiff\")\n",
    "label_image.save(\"synthetic_label_image_TYX.tiff\")"
   ]
  },
  {
   "cell_type": "markdown",
   "id": "6328f80e-6d00-49a0-a825-d3c4329d32a8",
   "metadata": {},
   "source": [
    "# 3D\n",
    "generate data"
   ]
  },
  {
   "cell_type": "code",
   "execution_count": 363,
   "id": "e3edf928-7822-4f84-a3c6-aec835928435",
   "metadata": {},
   "outputs": [],
   "source": [
    "# Step 1: Generate the first 3D array with non-overlapping cubes\n",
    "array_3d = np.zeros((200, 200, 200), dtype=np.uint16)\n",
    "\n",
    "# Define cube volumes (1000, 729, 27000, 100000)\n",
    "cube_volumes = [1000, 729, 27000, 100000]\n",
    "cube_sides = [int(np.cbrt(volume)) for volume in cube_volumes]\n",
    "\n",
    "# Define top-left-front coordinates for the cubes (ensuring no overlap)\n",
    "positions_3d = [(5, 5, 5), (20, 20, 20), (50, 50, 50), (100, 5, 5)]\n",
    "\n",
    "# Fill in the cubes with arbitrary non-zero values\n",
    "for i, (side, (x, y, z)) in enumerate(zip(cube_sides, positions_3d)):\n",
    "    array_3d[x:x+side, y:y+side, z:z+side] = (i + 1) * 1000  # Assign values 1000, 2000, 3000, 4000\n",
    "\n",
    "# Step 2: Generate the second 3D array with small cubes (volume 8)\n",
    "small_cubes_array_3d = np.zeros((200, 200, 200), dtype=np.uint16)\n",
    "\n",
    "# Small cube side (volume 8 means side length 2)\n",
    "small_cube_side = 2\n",
    "\n",
    "# Function to check if a cube is inside the bounds of a large cube\n",
    "def is_in_large_cube(x, y, z, large_cubes):\n",
    "    for lx, ly, lz, side in large_cubes:\n",
    "        if lx <= x < lx + side and ly <= y < ly + side and lz <= z < lz + side:\n",
    "            return True\n",
    "    return False\n",
    "\n",
    "# Large cubes' positions and sides from the first array\n",
    "large_cubes_info = [(5, 5, 5, cube_sides[0]), (20, 20, 20, cube_sides[1]), \n",
    "                    (50, 50, 50, cube_sides[2]), (80, 5, 5, cube_sides[3])]\n",
    "\n",
    "# Generate 50 small cubes inside the large cubes\n",
    "inside_count = 0\n",
    "while inside_count < 50:\n",
    "    # Randomly choose a large cube\n",
    "    lx, ly, lz, side = large_cubes_info[np.random.randint(0, 4)]\n",
    "    # Random position within the large cube\n",
    "    x = np.random.randint(lx, lx + side - small_cube_side - 1)\n",
    "    y = np.random.randint(ly, ly + side - small_cube_side - 1)\n",
    "    z = np.random.randint(lz, lz + side - small_cube_side - 1)\n",
    "    # Place the cube if there's no overlap\n",
    "    if np.all(small_cubes_array_3d[x-1:x+small_cube_side+1, y-1:y+small_cube_side+1, z-1:z+small_cube_side+1] == 0):\n",
    "        small_cubes_array_3d[x:x+small_cube_side, y:y+small_cube_side, z:z+small_cube_side] = 5000  # Arbitrary value\n",
    "        inside_count += 1\n",
    "\n",
    "# Generate 50 small cubes outside the large cubes\n",
    "outside_count = 0\n",
    "while outside_count < 50:\n",
    "    # Random position anywhere in the array\n",
    "    x = np.random.randint(0, 200 - small_cube_side - 1)\n",
    "    y = np.random.randint(0, 200 - small_cube_side - 1)\n",
    "    z = np.random.randint(0, 200 - small_cube_side - 1)\n",
    "    # Place the cube if there's no overlap with large cubes or previously placed small cubes\n",
    "    if np.all(small_cubes_array_3d[x-1:x+small_cube_side+1, y-1:y+small_cube_side+1, z-1:z+small_cube_side+1] == 0) and not is_in_large_cube(x, y, z, large_cubes_info):\n",
    "        small_cubes_array_3d[x:x+small_cube_side, y:y+small_cube_side, z:z+small_cube_side] = 6000  # Arbitrary value\n",
    "        outside_count += 1\n",
    "\n",
    "# Step 3: Generate the third 3D array with overlapping cubes\n",
    "overlapping_cubes_array_3d = np.zeros((200, 200, 200), dtype=np.uint16)\n",
    "\n",
    "# Define new positions for the overlapping cubes, ensuring partial overlap with the previous large cubes\n",
    "overlapping_positions_3d = [(3, 3, 3), (18, 18, 18), (48, 48, 48), (98, 3, 3)]\n",
    "\n",
    "# Fill in the overlapping cubes with arbitrary non-zero values\n",
    "for i, (side, (x, y, z)) in enumerate(zip(cube_sides, overlapping_positions_3d)):\n",
    "    overlapping_cubes_array_3d[x:x+side, y:y+side, z:z+side] = (i + 5) * 1000  # Assign different values from the previous cubes"
   ]
  },
  {
   "cell_type": "code",
   "execution_count": 364,
   "id": "2108362d-ea7a-478e-8071-7fca95d5382f",
   "metadata": {},
   "outputs": [],
   "source": [
    "def translate_with_periodic_boundary_3d(array, shift_x, shift_y, shift_z):\n",
    "    \"\"\"\n",
    "    Translates a 3D NumPy array by (shift_x, shift_y, shift_z) with periodic boundary conditions.\n",
    "\n",
    "    Parameters:\n",
    "    array (np.ndarray): Input 3D array to translate.\n",
    "    shift_x (int): Amount to shift in the x-direction (depth).\n",
    "    shift_y (int): Amount to shift in the y-direction (rows).\n",
    "    shift_z (int): Amount to shift in the z-direction (columns).\n",
    "\n",
    "    Returns:\n",
    "    np.ndarray: The translated array with periodic boundary conditions.\n",
    "    \"\"\"\n",
    "    # Use numpy's roll function to handle periodic boundary conditions for 3D arrays\n",
    "    translated_array = np.roll(array, shift=(shift_x, shift_y, shift_z), axis=(0, 1, 2))\n",
    "    \n",
    "    return translated_array"
   ]
  },
  {
   "cell_type": "code",
   "execution_count": 365,
   "id": "cc1f14a1-c19c-4981-8202-d1a649d4e985",
   "metadata": {},
   "outputs": [],
   "source": [
    "intensity_arrays_3d = [array_3d,small_cubes_array_3d,overlapping_cubes_array_3d]\n",
    "t1 = np.stack(intensity_arrays_3d)\n",
    "t2 = np.stack([translate_with_periodic_boundary_3d(a,2,2,2) for a in intensity_arrays_3d])\n",
    "t3 = np.stack([translate_with_periodic_boundary_3d(a,4,4,4) for a in intensity_arrays_3d])\n",
    "t4 = np.stack([translate_with_periodic_boundary_3d(a,6,6,6) for a in intensity_arrays_3d])\n",
    "intensity_image_3d = AICSImage(np.stack([t1,t2,t3,t4],axis=0),\n",
    "                               channel_names=[\"Channel1\",\"Channel2\",\"Channel3\"],\n",
    "                               physical_pixel_sizes=PhysicalPixelSizes(Z=1,Y=1,X=1))"
   ]
  },
  {
   "cell_type": "code",
   "execution_count": 366,
   "id": "09bde002-34b4-4fac-b828-2b229f84ae55",
   "metadata": {},
   "outputs": [
    {
     "data": {
      "text/plain": [
       "<Dimensions [T: 4, C: 3, Z: 200, Y: 200, X: 200]>"
      ]
     },
     "execution_count": 366,
     "metadata": {},
     "output_type": "execute_result"
    }
   ],
   "source": [
    "intensity_image_3d.dims"
   ]
  },
  {
   "cell_type": "code",
   "execution_count": 367,
   "id": "faf4b01c-27f4-485a-a53e-be5f3676b576",
   "metadata": {},
   "outputs": [],
   "source": [
    "viewer_3d = napari.Viewer()"
   ]
  },
  {
   "cell_type": "code",
   "execution_count": 368,
   "id": "6c11d8b8-803f-4287-9d74-b0bafe74b7d0",
   "metadata": {},
   "outputs": [
    {
     "data": {
      "text/plain": [
       "[<Image layer 'Channel1' at 0x46e1fca60>,\n",
       " <Image layer 'Channel2' at 0x38d4c7f10>,\n",
       " <Image layer 'Channel3' at 0x38d3ee0e0>]"
      ]
     },
     "execution_count": 368,
     "metadata": {},
     "output_type": "execute_result"
    }
   ],
   "source": [
    "viewer_3d.add_image(intensity_image_3d.get_image_data('TCZYX'),channel_axis=1,name=intensity_image_3d.channel_names)"
   ]
  },
  {
   "cell_type": "code",
   "execution_count": 369,
   "id": "a9250323-8d3e-4b66-afd4-ec844b5f21e6",
   "metadata": {},
   "outputs": [],
   "source": [
    "ctzyx_labels = np.stack([np.stack([label(intensity_image_3d.get_image_data('ZYX',T=t,C=ch)>0) for t in range(intensity_image_3d.dims.T)]) for ch in range(intensity_image_3d.dims.C)])\n",
    "tczyx_labels = np.swapaxes(ctzyx_labels,0,1)"
   ]
  },
  {
   "cell_type": "code",
   "execution_count": 370,
   "id": "4dbf6ea8-d3df-48f5-824d-65acafffe1dd",
   "metadata": {},
   "outputs": [],
   "source": [
    "label_image_3d = AICSImage(tczyx_labels.astype(np.int32),\n",
    "                           channel_names=[\"Object1\",\"Object2\",\"Object3\"],\n",
    "                           physical_pixel_sizes=PhysicalPixelSizes(Z=1,Y=1,X=1))"
   ]
  },
  {
   "cell_type": "markdown",
   "id": "d34ab1f3-3be8-46ad-acb2-a7d920a9cde1",
   "metadata": {},
   "source": [
    "visualise segmentation"
   ]
  },
  {
   "cell_type": "code",
   "execution_count": 371,
   "id": "f13f9408-97ee-4b8a-9fa0-b9a7ed94ba0b",
   "metadata": {},
   "outputs": [],
   "source": [
    "for i in range(label_image_3d.dims.C):\n",
    "    viewer_3d.add_labels(label_image_3d.get_image_data('TZYX',C=i),name=label_image_3d.channel_names[i])"
   ]
  },
  {
   "cell_type": "code",
   "execution_count": 372,
   "id": "8ea228fd-bc65-4b1a-b812-6ae3cf75e69b",
   "metadata": {},
   "outputs": [],
   "source": [
    "intensity_image_3d.save(\"synthetic_intensity_image_TZYX.tiff\")\n",
    "label_image_3d.save(\"synthetic_label_image_TZYX.tiff\")"
   ]
  }
 ],
 "metadata": {
  "kernelspec": {
   "display_name": "Python 3 (ipykernel)",
   "language": "python",
   "name": "python3"
  },
  "language_info": {
   "codemirror_mode": {
    "name": "ipython",
    "version": 3
   },
   "file_extension": ".py",
   "mimetype": "text/x-python",
   "name": "python",
   "nbconvert_exporter": "python",
   "pygments_lexer": "ipython3",
   "version": "3.10.13"
  }
 },
 "nbformat": 4,
 "nbformat_minor": 5
}
