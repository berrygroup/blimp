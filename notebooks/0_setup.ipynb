{
 "cells": [
  {
   "attachments": {},
   "cell_type": "markdown",
   "metadata": {},
   "source": [
    "# Setup and download data\n",
    "BLIMP has one main config file; `blimp.ini`. \n",
    "The [overview](../overview.rst)\n",
    "describes how you can create this config file from the command line, \n",
    "but here we will see how we can create a config from within the blimp module using \n",
    "the config file representation [blimp.constants.blimp_config](../api/campa.constants.blimp_config.rst)."
   ]
  },
  {
   "cell_type": "code",
   "execution_count": 1,
   "metadata": {},
   "outputs": [
    {
     "name": "stderr",
     "output_type": "stream",
     "text": [
      "30-Jan-23 16:46:51 - bfio.backends - WARNING  - Java backend is not available. This could be due to a missing dependency (jpype).\n",
      "IProgress not found. Please update jupyter and ipywidgets. See https://ipywidgets.readthedocs.io/en/stable/user_install.html\n"
     ]
    },
    {
     "name": "stdout",
     "output_type": "stream",
     "text": [
      "Reading config from /Users/scottberry/source/blimp/notebooks/blimp.ini\n",
      "BLIMPConfig (fname: /Users/scottberry/source/blimp/notebooks/blimp.ini)\n",
      "EXPERIMENT_DIR: /Users/scottberry/source/blimp/notebooks/_experiments\n",
      "BASE_DATA_DIR: /Users/scottberry/source/blimp/notebooks/_data/raw\n",
      "data_config/exampledata: /Users/scottberry/source/blimp/notebooks/ExampleData_constants.py\n",
      "\n"
     ]
    }
   ],
   "source": [
    "from blimp.constants import blimp_config\n",
    "\n",
    "print(blimp_config)"
   ]
  },
  {
   "cell_type": "markdown",
   "metadata": {},
   "source": [
    "If you have not yet set up a config, this should look pretty empty. \n",
    "Let us set the ``EXPERIMENT_DIR`` and the ``BASE_DATA_DIR``, and add the `ExampleData` ``data_config``"
   ]
  },
  {
   "cell_type": "code",
   "execution_count": 2,
   "metadata": {},
   "outputs": [
    {
     "name": "stdout",
     "output_type": "stream",
     "text": [
      "Overwriting existing data config for exampledata\n",
      "BLIMPConfig (fname: /Users/scottberry/source/blimp/notebooks/blimp.ini)\n",
      "EXPERIMENT_DIR: /Users/scottberry/source/blimp/notebooks/_experiments\n",
      "BASE_DATA_DIR: /Users/scottberry/source/blimp/notebooks/_data/raw\n",
      "data_config/exampledata: /Users/scottberry/source/blimp/notebooks/ExampleData_constants.py\n",
      "\n"
     ]
    }
   ],
   "source": [
    "# point to example data folder in which we will download the example data\n",
    "blimp_config.BASE_DATA_DIR = \"_data/raw\"\n",
    "# experiments will be stored in example_experiments\n",
    "blimp_config.EXPERIMENT_DIR = \"_experiments\"\n",
    "# add ExampleData data_config\n",
    "blimp_config.add_data_config(\"ExampleData\", \"ExampleData_constants.py\")\n",
    "\n",
    "print(blimp_config)"
   ]
  },
  {
   "attachments": {},
   "cell_type": "markdown",
   "metadata": {},
   "source": [
    "We can now save the config to quickly load it later on. By default, blimp looks for config files in\n",
    " the current directory and ``$HOME/.config/blimp``, but loading a config from any other file is also easy:"
   ]
  },
  {
   "cell_type": "code",
   "execution_count": 3,
   "metadata": {},
   "outputs": [
    {
     "name": "stdout",
     "output_type": "stream",
     "text": [
      "Reading config from blimp.ini\n",
      "Reading config from blimp.ini\n",
      "BLIMPConfig (fname: blimp.ini)\n",
      "EXPERIMENT_DIR: /Users/scottberry/source/blimp/notebooks/_experiments\n",
      "BASE_DATA_DIR: /Users/scottberry/source/blimp/notebooks/_data/raw\n",
      "data_config/exampledata: /Users/scottberry/source/blimp/notebooks/ExampleData_constants.py\n",
      "\n"
     ]
    }
   ],
   "source": [
    "# save config in non-standard location\n",
    "blimp_config.write(\"blimp.ini\")\n",
    "\n",
    "# read config from non-standard location by setting blimp_config.config_fname\n",
    "blimp_config.config_fname = \"blimp.ini\"\n",
    "print(blimp_config)"
   ]
  },
  {
   "cell_type": "markdown",
   "metadata": {},
   "source": [
    "To follow along with the workflow tutorials, you need to download the example dataset:\n"
   ]
  },
  {
   "cell_type": "code",
   "execution_count": 4,
   "metadata": {},
   "outputs": [
    {
     "name": "stdout",
     "output_type": "stream",
     "text": [
      "unpacked_dir = /Users/scottberry/source/blimp/notebooks/_data/raw\n",
      "archive_path = /Users/scottberry/source/blimp/notebooks/_data/archive/_data.zip\n",
      "Path or dataset does not yet exist. Attempting to download...\n",
      "Downloading... 26192263\n"
     ]
    },
    {
     "name": "stderr",
     "output_type": "stream",
     "text": [
      "25579it [00:07, 3515.68it/s]\n"
     ]
    },
    {
     "name": "stdout",
     "output_type": "stream",
     "text": [
      "Example data downloaded to:  /Users/scottberry/source/blimp/notebooks/_data/raw\n"
     ]
    }
   ],
   "source": [
    "from blimp.data import load_example_data\n",
    "\n",
    "example_data_path = load_example_data()\n",
    "print(\"Example data downloaded to: \", example_data_path)"
   ]
  },
  {
   "attachments": {},
   "cell_type": "markdown",
   "metadata": {},
   "source": [
    "\n",
    "The example data is now stored in your `notebooks/_data` folder.\n",
    "\n"
   ]
  }
 ],
 "metadata": {
  "kernelspec": {
   "display_name": "berrylab-default",
   "language": "python",
   "name": "python3"
  },
  "language_info": {
   "codemirror_mode": {
    "name": "ipython",
    "version": 3
   },
   "file_extension": ".py",
   "mimetype": "text/x-python",
   "name": "python",
   "nbconvert_exporter": "python",
   "pygments_lexer": "ipython3",
   "version": "3.8.15"
  },
  "orig_nbformat": 4,
  "vscode": {
   "interpreter": {
    "hash": "60b8c657399aad6f9d89cbf9465e7c1c57998666dc051fd8b62b971f18a5d01e"
   }
  }
 },
 "nbformat": 4,
 "nbformat_minor": 2
}
