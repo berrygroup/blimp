{
 "cells": [
  {
   "attachments": {},
   "cell_type": "markdown",
   "metadata": {},
   "source": [
    "# Multi-cycle image registration\n",
    "\n",
    "It is often advantageous to acquire data in multiple cycles, in which different objects are stained in different imaging cycles. A key step in preprocessing these kinds of data is image registration. This is implemented in ``blimp`` using functions in ``blimp.preprocessing.registration``. This notebook demonstrates the use of these functions for correcting image data."
   ]
  },
  {
   "attachments": {},
   "cell_type": "markdown",
   "metadata": {},
   "source": [
    "Note: You must run ``notebooks/0_setup.ipynb`` first to specify the configuration and download the test data."
   ]
  },
  {
   "cell_type": "code",
   "execution_count": 5,
   "metadata": {},
   "outputs": [
    {
     "name": "stdout",
     "output_type": "stream",
     "text": [
      "unpacked_dir = /Users/scottberry/source/blimp/notebooks/_data/raw\n",
      "archive_path = /Users/scottberry/source/blimp/notebooks/_data/archive/_data.zip\n",
      "Reading config from blimp.ini\n",
      "BLIMPConfig (fname: blimp.ini)\n",
      "EXPERIMENT_DIR: /Users/scottberry/source/blimp/notebooks/_experiments\n",
      "BASE_DATA_DIR: /Users/scottberry/source/blimp/notebooks/_data/raw\n",
      "data_config/exampledata: /Users/scottberry/source/blimp/notebooks/ExampleData_constants.py\n",
      "\n"
     ]
    }
   ],
   "source": [
    "import napari\n",
    "\n",
    "from IPython.display import display\n",
    "import numpy as np\n",
    "import matplotlib.pyplot as plt\n",
    "import logging\n",
    "import skimage\n",
    "\n",
    "from blimp.data import load_example_data\n",
    "from blimp.log import configure_logging\n",
    "from blimp.constants import blimp_config\n",
    "from blimp.preprocessing.registration import (\n",
    "    calculate_shifts,\n",
    "    apply_shifts,\n",
    "    register_2D,\n",
    "    transform_2D,\n",
    "    TransformationParameters\n",
    ")\n",
    "from aicsimageio import AICSImage\n",
    "from pathlib import Path\n",
    "\n",
    "configure_logging(verbosity=2)\n",
    "# ensure that example data is downloaded\n",
    "load_example_data()\n",
    "# read correct blimp_config -- created with 0_setup.ipynb\n",
    "blimp_config.config_fname = \"blimp.ini\"\n",
    "print(blimp_config)\n"
   ]
  },
  {
   "attachments": {},
   "cell_type": "markdown",
   "metadata": {},
   "source": [
    "Load some images from the examples directory using the ``aicsimageio`` package"
   ]
  },
  {
   "cell_type": "code",
   "execution_count": 6,
   "metadata": {},
   "outputs": [
    {
     "name": "stderr",
     "output_type": "stream",
     "text": [
      "The default XML parser will be changing from 'xmlschema' to 'lxml' in version 0.4.0.  To silence this warning, please provide the `parser` argument, specifying either 'lxml' (to opt into the new behavior), or'xmlschema' (to retain the old behavior).\n"
     ]
    }
   ],
   "source": [
    "cyc01 = AICSImage(Path(blimp_config.BASE_DATA_DIR) / '_data' / 'operetta_cls_multiplex' / 'cycle_01' / 'r05c03f15-fk1fl1-mip.ome.tiff')\n",
    "cyc02 = AICSImage(Path(blimp_config.BASE_DATA_DIR) / '_data' / 'operetta_cls_multiplex' / 'cycle_02' / 'r05c03f15-fk1fl1-mip.ome.tiff')"
   ]
  },
  {
   "cell_type": "code",
   "execution_count": 7,
   "metadata": {},
   "outputs": [
    {
     "name": "stdout",
     "output_type": "stream",
     "text": [
      "['DAPI', 'Alexa 568']\n",
      "<Dimensions [T: 1, C: 2, Z: 1, Y: 2160, X: 2160]>\n"
     ]
    }
   ],
   "source": [
    "print(cyc01.channel_names)\n",
    "print(cyc01.dims)"
   ]
  },
  {
   "attachments": {},
   "cell_type": "markdown",
   "metadata": {},
   "source": [
    "get some input data"
   ]
  },
  {
   "cell_type": "code",
   "execution_count": 8,
   "metadata": {},
   "outputs": [],
   "source": [
    "dapi01 = cyc01.get_image_data(\"YX\",C=0)\n",
    "dapi02 = cyc02.get_image_data(\"YX\",C=0)"
   ]
  },
  {
   "attachments": {},
   "cell_type": "markdown",
   "metadata": {},
   "source": [
    "generate a rotated version of dapi02 and crop dapi01 to match size"
   ]
  },
  {
   "cell_type": "code",
   "execution_count": 9,
   "metadata": {},
   "outputs": [],
   "source": [
    "dapi02_rotated = skimage.transform.rotate(dapi02,3,preserve_range=True).astype(np.uint16)\n",
    "# remove outer 100 pixels\n",
    "dapi02_rotated_crop = dapi02_rotated[100:-100,100:-100]\n",
    "dapi01_crop = dapi01[100:-100,100:-100]"
   ]
  },
  {
   "attachments": {},
   "cell_type": "markdown",
   "metadata": {},
   "source": [
    "# multi-cycle data\n",
    "\n",
    "Data acquired on the operetta in a real two-cycle experiment. "
   ]
  },
  {
   "cell_type": "code",
   "execution_count": 10,
   "metadata": {},
   "outputs": [
    {
     "data": {
      "text/plain": [
       "<Image layer 'Cycle 2 - uncorrected' at 0x7fefa3852cd0>"
      ]
     },
     "execution_count": 10,
     "metadata": {},
     "output_type": "execute_result"
    }
   ],
   "source": [
    "viewer0 = napari.view_image(dapi01,colormap=\"red\",blending=\"additive\",name=\"Cycle 1 - uncorrected\")\n",
    "viewer0.add_image(dapi02,colormap=\"green\",blending=\"additive\",name=\"Cycle 2 - uncorrected\")"
   ]
  },
  {
   "cell_type": "code",
   "execution_count": 11,
   "metadata": {},
   "outputs": [
    {
     "name": "stdout",
     "output_type": "stream",
     "text": [
      "Align an image to a reference image, keeping transformation parameters.\n",
      "\n",
      "    Aligns a ``moving`` image to a ``fixed`` image using ITK Elastix.\n",
      "\n",
      "    Parameters\n",
      "    ----------\n",
      "    fixed\n",
      "        a reference image\n",
      "    moving\n",
      "        an image to be aligned to the reference image\n",
      "    settings\n",
      "        object of class TransformationParameters to provide\n",
      "        the initial setting for performing the registration\n",
      "        See ``blimp.utils.TransformationParameters`` for\n",
      "        more details.\n",
      "\n",
      "    Returns\n",
      "    -------\n",
      "    numpy.ndarray\n",
      "        registered image derived by transforming ``moving``\n",
      "        to the reference frame of ``fixed``.\n",
      "    TransformationParameters\n",
      "        object containing the full transformation parameters\n",
      "        necessary to perform the transformation of ``moving``\n",
      "        to the reference frame of ``fixed``.\n",
      "\n",
      "    Raises\n",
      "    ------\n",
      "    TypeError\n",
      "        If any of the positional inputs are not of the correct type\n",
      "        If the numpy.dtypes of the two input arrays do not match\n",
      "    ValueError\n",
      "        If the input arrays are not rank 2\n",
      "        If the shape of input arrays does not match\n",
      "    \n"
     ]
    }
   ],
   "source": [
    "print(register_2D.__doc__)"
   ]
  },
  {
   "attachments": {},
   "cell_type": "markdown",
   "metadata": {},
   "source": [
    "Align cycle 2 to cycle 1. The ``register_2D`` function uses the [``elastix`` library from ITK](https://github.com/InsightSoftwareConsortium/ITKElastix). More details on specifying transformation parameters is provided in the [Elastix wiki](https://github.com/SuperElastix/elastix/wiki)."
   ]
  },
  {
   "cell_type": "code",
   "execution_count": 12,
   "metadata": {},
   "outputs": [],
   "source": [
    "settings = TransformationParameters('rigid')\n",
    "dapi02_corrected, parameters_cyc01_cyc02 = register_2D(fixed=dapi01, moving=dapi02, settings=settings)"
   ]
  },
  {
   "cell_type": "code",
   "execution_count": 13,
   "metadata": {},
   "outputs": [
    {
     "data": {
      "text/plain": [
       "<Image layer 'Cycle 2 - corrected' at 0x7fef7045faf0>"
      ]
     },
     "execution_count": 13,
     "metadata": {},
     "output_type": "execute_result"
    }
   ],
   "source": [
    "viewer0.add_image(dapi02_corrected,colormap=\"blue\",blending=\"additive\",name=\"Cycle 2 - corrected\")"
   ]
  },
  {
   "attachments": {},
   "cell_type": "markdown",
   "metadata": {},
   "source": [
    "## simulated rotations\n",
    "\n",
    "Try with the simulated data that has been rotated"
   ]
  },
  {
   "cell_type": "code",
   "execution_count": 14,
   "metadata": {},
   "outputs": [
    {
     "data": {
      "text/plain": [
       "<Image layer 'Cycle 2 - rotated' at 0x7fef884cd160>"
      ]
     },
     "execution_count": 14,
     "metadata": {},
     "output_type": "execute_result"
    }
   ],
   "source": [
    "viewer1 = napari.view_image(dapi01_crop,colormap=\"red\",blending=\"additive\",name=\"Cycle 1 - original\")\n",
    "viewer1.add_image(dapi02_rotated_crop,colormap=\"green\",blending=\"additive\",name=\"Cycle 2 - rotated\")"
   ]
  },
  {
   "attachments": {},
   "cell_type": "markdown",
   "metadata": {},
   "source": [
    "Test first using translation only"
   ]
  },
  {
   "cell_type": "code",
   "execution_count": 15,
   "metadata": {},
   "outputs": [
    {
     "data": {
      "text/plain": [
       "<Image layer 'Cycle 1 - registered (translation)' at 0x7fef6153cac0>"
      ]
     },
     "execution_count": 15,
     "metadata": {},
     "output_type": "execute_result"
    }
   ],
   "source": [
    "dapi02_rotated_crop_registered, translation_parameters = register_2D(\n",
    "    fixed=dapi01_crop,\n",
    "    moving=dapi02_rotated_crop,\n",
    "    settings=TransformationParameters(transformation_mode='translation')\n",
    ")\n",
    "\n",
    "viewer1.add_image(dapi02_rotated_crop_registered,colormap=\"blue\",blending=\"additive\",name=\"Cycle 1 - registered (translation)\")"
   ]
  },
  {
   "attachments": {},
   "cell_type": "markdown",
   "metadata": {},
   "source": [
    "now allow rotations in addition to translation"
   ]
  },
  {
   "cell_type": "code",
   "execution_count": 16,
   "metadata": {},
   "outputs": [
    {
     "data": {
      "text/plain": [
       "<Image layer 'Cycle 1 - registered (rotation)' at 0x7fef94c8da00>"
      ]
     },
     "execution_count": 16,
     "metadata": {},
     "output_type": "execute_result"
    }
   ],
   "source": [
    "dapi02_rotated_crop_registered_rigid, rigid_parameters = register_2D(\n",
    "    fixed=dapi01_crop,\n",
    "    moving=dapi02_rotated_crop,\n",
    "    settings=TransformationParameters(transformation_mode='rigid')\n",
    ")\n",
    "\n",
    "viewer1.add_image(dapi02_rotated_crop_registered_rigid,colormap=\"blue\",blending=\"additive\",name=\"Cycle 1 - registered (rotation)\")"
   ]
  },
  {
   "attachments": {},
   "cell_type": "markdown",
   "metadata": {},
   "source": [
    "# Saving / loading transformation parameters\n",
    "\n",
    "To align multiple cycles with one another, we need to apply the transformation settings from the reference channel to the other channels."
   ]
  },
  {
   "cell_type": "code",
   "execution_count": 17,
   "metadata": {},
   "outputs": [],
   "source": [
    "import os\n",
    "results_path = Path(blimp_config.EXPERIMENT_DIR) / \"registration\"\n",
    "if not results_path.exists():\n",
    "    os.makedirs(results_path)"
   ]
  },
  {
   "attachments": {},
   "cell_type": "markdown",
   "metadata": {},
   "source": [
    "Save the parameters aligning cycle 1 to cycle 2"
   ]
  },
  {
   "cell_type": "code",
   "execution_count": 18,
   "metadata": {},
   "outputs": [],
   "source": [
    "parameters_cyc01_cyc02.save(results_path / \"parameters_cyc01_cyc02.txt\")"
   ]
  },
  {
   "attachments": {},
   "cell_type": "markdown",
   "metadata": {},
   "source": [
    "These can be re-loaded using the ``TransformationParameters`` class with ``from_file``"
   ]
  },
  {
   "cell_type": "code",
   "execution_count": 19,
   "metadata": {},
   "outputs": [
    {
     "data": {
      "text/plain": [
       "<blimp.preprocessing.registration.TransformationParameters at 0x7fef7058ec40>"
      ]
     },
     "execution_count": 19,
     "metadata": {},
     "output_type": "execute_result"
    }
   ],
   "source": [
    "parameters_cyc01_cyc02_loaded = TransformationParameters(from_file=results_path / 'parameters_cyc01_cyc02.txt')\n",
    "parameters_cyc01_cyc02_loaded"
   ]
  },
  {
   "attachments": {},
   "cell_type": "markdown",
   "metadata": {},
   "source": [
    "Now align all channels using these parameters. Note the use of the ``transform_2D`` function, which uses pre-defined parameters."
   ]
  },
  {
   "cell_type": "code",
   "execution_count": 20,
   "metadata": {},
   "outputs": [],
   "source": [
    "cyc02_arrays = [cyc02.get_image_dask_data('YX',C=c) for c in range(cyc02.dims.C)]\n",
    "cyc02_registered = [transform_2D(moving=arr, parameters=parameters_cyc01_cyc02_loaded) for arr in cyc02_arrays]"
   ]
  },
  {
   "attachments": {},
   "cell_type": "markdown",
   "metadata": {},
   "source": [
    "and visualize the full multi-channel image"
   ]
  },
  {
   "cell_type": "code",
   "execution_count": 21,
   "metadata": {},
   "outputs": [
    {
     "data": {
      "text/plain": [
       "<Image layer 'Cycle 2 - channel 2' at 0x7fefb375adc0>"
      ]
     },
     "execution_count": 21,
     "metadata": {},
     "output_type": "execute_result"
    }
   ],
   "source": [
    "viewer2 = napari.Viewer()\n",
    "viewer2.add_image(dapi01,colormap=\"blue\",blending=\"additive\",name=\"Cycle 1 - channel 0\")\n",
    "viewer2.add_image(cyc01.get_image_dask_data('YX',C=1),colormap=\"green\",blending=\"additive\",name=\"Cycle 1 - channel 1\")\n",
    "viewer2.add_image(cyc02_registered[0],colormap=\"blue\",blending=\"additive\",name=\"Cycle 2 - channel 0\")\n",
    "viewer2.add_image(cyc02_registered[1],colormap=\"green\",blending=\"additive\",name=\"Cycle 2 - channel 1\")\n",
    "viewer2.add_image(cyc02_registered[2],colormap=\"red\",blending=\"additive\",name=\"Cycle 2 - channel 2\")"
   ]
  },
  {
   "attachments": {},
   "cell_type": "markdown",
   "metadata": {},
   "source": [
    "# Register a list of images\n",
    "\n",
    "As in the above example, we often want to register a set of images together, using a common channel captured in all images for alignment. This becomes cumbersome using the above framework, but is readily achieved with the higher-level functions, ``calculate_shifts`` and ``apply_shifts``. "
   ]
  },
  {
   "cell_type": "code",
   "execution_count": 22,
   "metadata": {},
   "outputs": [
    {
     "name": "stdout",
     "output_type": "stream",
     "text": [
      "2023-01-30 22:08:28 | INFO     | Using ``elastix`` library to align 2 x 2D images. [[calculate_shifts @ /Users/scottberry/source/blimp/blimp/preprocessing/registration.py:546]]\n"
     ]
    },
    {
     "name": "stderr",
     "output_type": "stream",
     "text": [
      "2023-01-30 22:08:28 | WARNING  | \n",
      "                Using default 'rigid' transformation to align images.\n",
      "                Specify alternative settings using the ``registration_settings`` argument.\n",
      "                 [[calculate_shifts @ /Users/scottberry/source/blimp/blimp/preprocessing/registration.py:554]]\n"
     ]
    }
   ],
   "source": [
    "# defaults to elastix-based registration with 'rigid' transformation\n",
    "parameters_list = calculate_shifts(\n",
    "    images=[cyc01,cyc02],\n",
    "    reference_channel=0,\n",
    "    reference_cycle=0\n",
    ")"
   ]
  },
  {
   "cell_type": "code",
   "execution_count": 23,
   "metadata": {},
   "outputs": [
    {
     "name": "stdout",
     "output_type": "stream",
     "text": [
      "ParameterObject (0x7fefd7bd2af0)\n",
      "  RTTI typeinfo:   elastix::ParameterObject\n",
      "  Reference Count: 1\n",
      "  Modified Time: 183875\n",
      "  Debug: Off\n",
      "  Object Name: \n",
      "  Observers: \n",
      "    none\n",
      "ParameterMap 0: \n",
      "  (CenterOfRotationPoint 1079.5 1079.5)\n",
      "  (CompressResultImage \"false\")\n",
      "  (DefaultPixelValue 0)\n",
      "  (Direction 1 0 0 1)\n",
      "  (FinalBSplineInterpolationOrder 3)\n",
      "  (FixedImageDimension 2)\n",
      "  (FixedInternalImagePixelType \"float\")\n",
      "  (HowToCombineTransforms \"Compose\")\n",
      "  (Index 0 0)\n",
      "  (InitialTransformParametersFileName \"NoInitialTransform\")\n",
      "  (MovingImageDimension 2)\n",
      "  (MovingInternalImagePixelType \"float\")\n",
      "  (NumberOfParameters 3)\n",
      "  (Origin 0 0)\n",
      "  (ResampleInterpolator \"FinalBSplineInterpolator\")\n",
      "  (Resampler \"DefaultResampler\")\n",
      "  (ResultImageFormat \"nii\")\n",
      "  (ResultImagePixelType \"float\")\n",
      "  (Size 2160 2160)\n",
      "  (Spacing 1 1)\n",
      "  (Transform \"EulerTransform\")\n",
      "  (TransformParameters 6.2116e-05 -61.9557 -3.57572)\n",
      "  (UseDirectionCosines \"true\")\n",
      "\n"
     ]
    }
   ],
   "source": [
    "print(parameters_list[1])"
   ]
  },
  {
   "attachments": {},
   "cell_type": "markdown",
   "metadata": {},
   "source": [
    "These can be applied using the ``apply_shifts`` function"
   ]
  },
  {
   "cell_type": "code",
   "execution_count": 24,
   "metadata": {},
   "outputs": [],
   "source": [
    "registered_images = apply_shifts([cyc01,cyc02],parameters_list)"
   ]
  },
  {
   "attachments": {},
   "cell_type": "markdown",
   "metadata": {},
   "source": [
    "Check the results"
   ]
  },
  {
   "cell_type": "code",
   "execution_count": 25,
   "metadata": {},
   "outputs": [],
   "source": [
    "viewer3 = napari.Viewer()\n",
    "for cycle in range(2):\n",
    "    viewer3.add_image(\n",
    "        registered_images[cycle].get_image_dask_data('CYX'),\n",
    "        name=[str(cycle) + '_' + name for name in registered_images[cycle].channel_names],\n",
    "        channel_axis=0,\n",
    "        blending='additive')\n"
   ]
  },
  {
   "attachments": {},
   "cell_type": "markdown",
   "metadata": {},
   "source": [
    "``apply_shifts`` has a ``crop`` argument, which is ``False`` by default. ``crop=True`` ensures all images are cropped to the same size, equal to the maximum rectangle found in all images."
   ]
  },
  {
   "cell_type": "code",
   "execution_count": 26,
   "metadata": {},
   "outputs": [],
   "source": [
    "registered_images = apply_shifts([cyc01,cyc02],parameters_list,crop=True)\n",
    "viewer4 = napari.Viewer()\n",
    "for cycle in range(2):\n",
    "    viewer4.add_image(\n",
    "        registered_images[cycle].get_image_dask_data('CYX'),\n",
    "        name=[str(cycle) + '_' + name for name in registered_images[cycle].channel_names],\n",
    "        channel_axis=0,\n",
    "        blending='additive')\n"
   ]
  },
  {
   "attachments": {},
   "cell_type": "markdown",
   "metadata": {},
   "source": [
    "# FFT-based registration\n",
    "\n",
    "An alternative to ``elastix`` is the [``image_registration``](https://github.com/keflavich/image_registration) package, which is intended for image registration where the brightness is “extended” or “spread out” . An interface to this is provided also using ``register_2D_fast``, and ``register_images``/``align_images`` with ``lib='image_registration'``. Functionality is limited to x-y translations and differs from ``elastix`` in that interpolation is not performed. Images are merely shifted by integer values."
   ]
  },
  {
   "cell_type": "code",
   "execution_count": 27,
   "metadata": {},
   "outputs": [],
   "source": [
    "from blimp.preprocessing.registration import register_2D_fast\n",
    "dapi02_aligned_fast, parameters_fast = register_2D_fast(fixed=dapi01,moving=dapi02)"
   ]
  },
  {
   "attachments": {},
   "cell_type": "markdown",
   "metadata": {},
   "source": [
    "Results can be viewed with the other alignments"
   ]
  },
  {
   "cell_type": "code",
   "execution_count": 28,
   "metadata": {},
   "outputs": [
    {
     "data": {
      "text/plain": [
       "<Image layer 'Cycle 2 - corrected (fast)' at 0x7fef898f3400>"
      ]
     },
     "execution_count": 28,
     "metadata": {},
     "output_type": "execute_result"
    }
   ],
   "source": [
    "viewer0.add_image(dapi02_aligned_fast,colormap=\"green\",blending=\"additive\",name=\"Cycle 2 - corrected (fast)\")"
   ]
  },
  {
   "cell_type": "code",
   "execution_count": 29,
   "metadata": {},
   "outputs": [
    {
     "name": "stdout",
     "output_type": "stream",
     "text": [
      "2023-01-30 22:08:51 | INFO     | Using ``image_registration`` library to align 2 x 2D images. [[calculate_shifts @ /Users/scottberry/source/blimp/blimp/preprocessing/registration.py:568]]\n"
     ]
    }
   ],
   "source": [
    "parameters_list = calculate_shifts(\n",
    "    images=[cyc01,cyc02],\n",
    "    reference_channel=0,\n",
    "    reference_cycle=0,\n",
    "    lib='image_registration'\n",
    ")"
   ]
  },
  {
   "cell_type": "code",
   "execution_count": 30,
   "metadata": {},
   "outputs": [
    {
     "data": {
      "text/plain": [
       "[(0, 0), (-62, -3)]"
      ]
     },
     "execution_count": 30,
     "metadata": {},
     "output_type": "execute_result"
    }
   ],
   "source": [
    "parameters_list"
   ]
  },
  {
   "cell_type": "code",
   "execution_count": 31,
   "metadata": {},
   "outputs": [],
   "source": [
    "registered_images_fast = apply_shifts([cyc01,cyc02],parameters_list,'image_registration')"
   ]
  },
  {
   "cell_type": "code",
   "execution_count": 32,
   "metadata": {},
   "outputs": [],
   "source": [
    "viewer5 = napari.Viewer()\n",
    "for cycle in range(2):\n",
    "    viewer5.add_image(\n",
    "        registered_images_fast[cycle].get_image_dask_data('CYX'),\n",
    "        name=[str(cycle) + '_' + name for name in registered_images_fast[cycle].channel_names],\n",
    "        channel_axis=0,\n",
    "        blending='additive')"
   ]
  }
 ],
 "metadata": {
  "kernelspec": {
   "display_name": "berrylab-default",
   "language": "python",
   "name": "python3"
  },
  "language_info": {
   "codemirror_mode": {
    "name": "ipython",
    "version": 3
   },
   "file_extension": ".py",
   "mimetype": "text/x-python",
   "name": "python",
   "nbconvert_exporter": "python",
   "pygments_lexer": "ipython3",
   "version": "3.8.15"
  },
  "vscode": {
   "interpreter": {
    "hash": "60b8c657399aad6f9d89cbf9465e7c1c57998666dc051fd8b62b971f18a5d01e"
   }
  }
 },
 "nbformat": 4,
 "nbformat_minor": 4
}
