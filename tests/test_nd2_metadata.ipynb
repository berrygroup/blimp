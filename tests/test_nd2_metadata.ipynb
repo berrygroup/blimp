{
 "cells": [
  {
   "cell_type": "code",
   "execution_count": 1,
   "metadata": {},
   "outputs": [
    {
     "name": "stderr",
     "output_type": "stream",
     "text": [
      "13-Dec-22 08:33:48 - bfio.backends - WARNING  - Java backend is not available. This could be due to a missing dependency (jpype).\n"
     ]
    }
   ],
   "source": [
    "from blimp.preprocessing.nd2_to_ome_tiff import _nd2_to_ome_tiff"
   ]
  },
  {
   "cell_type": "code",
   "execution_count": 9,
   "metadata": {},
   "outputs": [],
   "source": [
    "from nd2reader import ND2Reader\n",
    "from aicsimageio import AICSImage\n",
    "from aicsimageio.writers import OmeTiffWriter\n",
    "from aicsimageio.types import PhysicalPixelSizes"
   ]
  },
  {
   "cell_type": "code",
   "execution_count": 7,
   "metadata": {},
   "outputs": [],
   "source": [
    "from nd2reader.raw_metadata import RawMetadata"
   ]
  },
  {
   "cell_type": "code",
   "execution_count": 51,
   "metadata": {},
   "outputs": [],
   "source": [
    "acquisition_order = 'CZT'\n",
    "in_file_path = '/srv/scratch/berrylab/z3532965/Nikon_AX_QPI/20221010_BleachChase_POLR2A/20221010_144534_824/WellE05_ChannelGFP,AF647_Seq0001.nd2'\n",
    "images = ND2Reader(in_file_path)\n",
    "metadata_dict = images.parser._raw_metadata.__dict__\n",
    "start_time = metadata_dict['date']\n",
    "acquisition_times = [t for t in images.parser._raw_metadata.acquisition_times]"
   ]
  },
  {
   "cell_type": "code",
   "execution_count": 117,
   "metadata": {},
   "outputs": [],
   "source": [
    "import pandas as pd\n",
    "df = pd.DataFrame(\n",
    "    data={\n",
    "        'stage_x' : images.parser._raw_metadata.x_data,\n",
    "        'stage_y' : images.parser._raw_metadata.y_data,\n",
    "        'stage_z' : images.parser._raw_metadata.z_data,\n",
    "        'acquisition_time' : acquisition_times,\n",
    "        'stage_z_id' : list(metadata_dict['z_levels'])*(images.sizes['t']*images.sizes['v']),\n",
    "        'field_id' : list(np.repeat(range(1,1+images.sizes['v']),images.sizes['z']))*images.sizes['t']})\n",
    "df['absolute_time']=[start_time + datetime.timedelta(seconds=x) for x in df['acquisition_time']]"
   ]
  },
  {
   "cell_type": "code",
   "execution_count": 118,
   "metadata": {},
   "outputs": [
    {
     "data": {
      "text/html": [
       "<div>\n",
       "<style scoped>\n",
       "    .dataframe tbody tr th:only-of-type {\n",
       "        vertical-align: middle;\n",
       "    }\n",
       "\n",
       "    .dataframe tbody tr th {\n",
       "        vertical-align: top;\n",
       "    }\n",
       "\n",
       "    .dataframe thead th {\n",
       "        text-align: right;\n",
       "    }\n",
       "</style>\n",
       "<table border=\"1\" class=\"dataframe\">\n",
       "  <thead>\n",
       "    <tr style=\"text-align: right;\">\n",
       "      <th></th>\n",
       "      <th>stage_x</th>\n",
       "      <th>stage_y</th>\n",
       "      <th>stage_z</th>\n",
       "      <th>acquisition_time</th>\n",
       "      <th>stage_z_id</th>\n",
       "      <th>field_id</th>\n",
       "      <th>absolute_time</th>\n",
       "    </tr>\n",
       "  </thead>\n",
       "  <tbody>\n",
       "    <tr>\n",
       "      <th>0</th>\n",
       "      <td>12347.1</td>\n",
       "      <td>3281.8</td>\n",
       "      <td>6107.96</td>\n",
       "      <td>130.323239</td>\n",
       "      <td>0</td>\n",
       "      <td>1</td>\n",
       "      <td>2022-10-10 15:00:30.323239</td>\n",
       "    </tr>\n",
       "    <tr>\n",
       "      <th>1</th>\n",
       "      <td>12347.1</td>\n",
       "      <td>3281.8</td>\n",
       "      <td>6108.96</td>\n",
       "      <td>131.151798</td>\n",
       "      <td>1</td>\n",
       "      <td>1</td>\n",
       "      <td>2022-10-10 15:00:31.151798</td>\n",
       "    </tr>\n",
       "    <tr>\n",
       "      <th>2</th>\n",
       "      <td>12347.2</td>\n",
       "      <td>3281.8</td>\n",
       "      <td>6109.96</td>\n",
       "      <td>132.002983</td>\n",
       "      <td>2</td>\n",
       "      <td>1</td>\n",
       "      <td>2022-10-10 15:00:32.002983</td>\n",
       "    </tr>\n",
       "    <tr>\n",
       "      <th>3</th>\n",
       "      <td>12347.2</td>\n",
       "      <td>3281.8</td>\n",
       "      <td>6110.96</td>\n",
       "      <td>132.786543</td>\n",
       "      <td>3</td>\n",
       "      <td>1</td>\n",
       "      <td>2022-10-10 15:00:32.786543</td>\n",
       "    </tr>\n",
       "    <tr>\n",
       "      <th>4</th>\n",
       "      <td>12347.1</td>\n",
       "      <td>3281.8</td>\n",
       "      <td>6111.96</td>\n",
       "      <td>133.636591</td>\n",
       "      <td>4</td>\n",
       "      <td>1</td>\n",
       "      <td>2022-10-10 15:00:33.636591</td>\n",
       "    </tr>\n",
       "    <tr>\n",
       "      <th>...</th>\n",
       "      <td>...</td>\n",
       "      <td>...</td>\n",
       "      <td>...</td>\n",
       "      <td>...</td>\n",
       "      <td>...</td>\n",
       "      <td>...</td>\n",
       "      <td>...</td>\n",
       "    </tr>\n",
       "    <tr>\n",
       "      <th>427</th>\n",
       "      <td>12358.6</td>\n",
       "      <td>4599.5</td>\n",
       "      <td>6108.34</td>\n",
       "      <td>762.052066</td>\n",
       "      <td>4</td>\n",
       "      <td>16</td>\n",
       "      <td>2022-10-10 15:11:02.052066</td>\n",
       "    </tr>\n",
       "    <tr>\n",
       "      <th>428</th>\n",
       "      <td>12358.6</td>\n",
       "      <td>4599.4</td>\n",
       "      <td>6109.34</td>\n",
       "      <td>762.892270</td>\n",
       "      <td>5</td>\n",
       "      <td>16</td>\n",
       "      <td>2022-10-10 15:11:02.892270</td>\n",
       "    </tr>\n",
       "    <tr>\n",
       "      <th>429</th>\n",
       "      <td>12358.6</td>\n",
       "      <td>4599.4</td>\n",
       "      <td>6110.34</td>\n",
       "      <td>763.675718</td>\n",
       "      <td>6</td>\n",
       "      <td>16</td>\n",
       "      <td>2022-10-10 15:11:03.675718</td>\n",
       "    </tr>\n",
       "    <tr>\n",
       "      <th>430</th>\n",
       "      <td>12358.6</td>\n",
       "      <td>4599.4</td>\n",
       "      <td>6111.34</td>\n",
       "      <td>764.437425</td>\n",
       "      <td>7</td>\n",
       "      <td>16</td>\n",
       "      <td>2022-10-10 15:11:04.437425</td>\n",
       "    </tr>\n",
       "    <tr>\n",
       "      <th>431</th>\n",
       "      <td>12358.6</td>\n",
       "      <td>4599.4</td>\n",
       "      <td>6112.34</td>\n",
       "      <td>765.242994</td>\n",
       "      <td>8</td>\n",
       "      <td>16</td>\n",
       "      <td>2022-10-10 15:11:05.242994</td>\n",
       "    </tr>\n",
       "  </tbody>\n",
       "</table>\n",
       "<p>432 rows × 7 columns</p>\n",
       "</div>"
      ],
      "text/plain": [
       "     stage_x  stage_y  stage_z  acquisition_time  stage_z_id  field_id  \\\n",
       "0    12347.1   3281.8  6107.96        130.323239           0         1   \n",
       "1    12347.1   3281.8  6108.96        131.151798           1         1   \n",
       "2    12347.2   3281.8  6109.96        132.002983           2         1   \n",
       "3    12347.2   3281.8  6110.96        132.786543           3         1   \n",
       "4    12347.1   3281.8  6111.96        133.636591           4         1   \n",
       "..       ...      ...      ...               ...         ...       ...   \n",
       "427  12358.6   4599.5  6108.34        762.052066           4        16   \n",
       "428  12358.6   4599.4  6109.34        762.892270           5        16   \n",
       "429  12358.6   4599.4  6110.34        763.675718           6        16   \n",
       "430  12358.6   4599.4  6111.34        764.437425           7        16   \n",
       "431  12358.6   4599.4  6112.34        765.242994           8        16   \n",
       "\n",
       "                 absolute_time  \n",
       "0   2022-10-10 15:00:30.323239  \n",
       "1   2022-10-10 15:00:31.151798  \n",
       "2   2022-10-10 15:00:32.002983  \n",
       "3   2022-10-10 15:00:32.786543  \n",
       "4   2022-10-10 15:00:33.636591  \n",
       "..                         ...  \n",
       "427 2022-10-10 15:11:02.052066  \n",
       "428 2022-10-10 15:11:02.892270  \n",
       "429 2022-10-10 15:11:03.675718  \n",
       "430 2022-10-10 15:11:04.437425  \n",
       "431 2022-10-10 15:11:05.242994  \n",
       "\n",
       "[432 rows x 7 columns]"
      ]
     },
     "execution_count": 118,
     "metadata": {},
     "output_type": "execute_result"
    }
   ],
   "source": [
    "df"
   ]
  },
  {
   "cell_type": "code",
   "execution_count": 79,
   "metadata": {},
   "outputs": [
    {
     "data": {
      "text/plain": [
       "432"
      ]
     },
     "execution_count": 79,
     "metadata": {},
     "output_type": "execute_result"
    }
   ],
   "source": [
    "list(metadata_dict['z_levels'])*(images.sizes['t']*images.sizes['v'])"
   ]
  },
  {
   "cell_type": "code",
   "execution_count": 99,
   "metadata": {},
   "outputs": [
    {
     "data": {
      "text/plain": [
       "{b'SLxImageTextInfo': {b'TextInfoItem_0': b'',\n",
       "  b'TextInfoItem_1': b'',\n",
       "  b'TextInfoItem_2': b'',\n",
       "  b'TextInfoItem_3': b'',\n",
       "  b'TextInfoItem_4': b'',\n",
       "  b'TextInfoItem_5': b'Metadata:\\r\\nDimensions: T(3) x XY(16) x Z(9) x \\xce\\xbb(1)\\r\\nCamera Name: AX\\r\\nNumerical Aperture: 0.75\\r\\nRefractive Index: 1\\r\\nNumber of Picture Planes: 2\\r\\nPlane #1:\\r\\n Name: GFP\\r\\n Component Count: 1\\r\\n Modality: Widefield Fluorescence, Laser Scan Confocal\\r\\n Camera Settings:   Configuration:\\r\\n  \\tDetector mode: Multi-Channel\\r\\n  \\tScanner: Resonant Bidirectional\\r\\n  \\tScan Mode: Band\\r\\n  \\tLine Averaging: 4x\\r\\n  \\tResolution: 1024 x 1024\\r\\n  \\tChannel Series: Minimal Crosstalk\\r\\n  \\tSeries Mode: Line Series\\r\\n  \\t\\tChannel Series Pass 1:\\r\\n  \\t\\t\\t[AF647]\\r\\n  \\t\\tChannel Series Pass 2:\\r\\n  \\t\\t\\t[GFP]\\r\\n  \\r\\n  Components:\\r\\n  Component GFP:\\r\\n  \\tDetector: 2\\r\\n  \\tEmission Range: 499 nm - 551 nm\\r\\n  \\tGain: 30.0\\r\\n  \\tOffset: 0\\r\\n  \\tLaser 488 nm:\\r\\n  \\t\\tEnabled\\r\\n  \\t\\tPower: 6.0\\r\\n  \\r\\n  Component AF647:\\r\\n  \\tDetector: 4\\r\\n  \\tEmission Range: 653 nm - 726 nm\\r\\n  \\tGain: 25.0\\r\\n  \\tOffset: 0\\r\\n  \\tLaser 640 nm:\\r\\n  \\t\\tEnabled\\r\\n  \\t\\tPower: 1.8\\r\\n  \\r\\n  Scan Area:\\r\\n  \\tZoom: 2.00\\r\\n  \\tOffset Y: 0.00\\r\\n  \\r\\n  Misc:\\r\\n  \\tPinhole Size: 17.2 \\xce\\xbcm\\r\\n  \\tDetector Port: Standard\\r\\n  \\tLaser Port: Standard\\r\\n  \\tImage Mode: Normal\\r\\n  \\tFirst DM: 405/488/561/640 (Position 1)\\r\\n  \\tIR Filter Position: Out\\r\\n\\r\\n Microscope Settings:   Microscope: Ti2 Microscope\\r\\n  Nikon Ti2, FilterChanger(Turret-Lo): 6 (Empty)\\r\\n  LightPath: L100\\r\\n  Condenser: 1 (-----)\\r\\n  PFS, mirror: Inserted\\r\\n  Zoom: 1.00x\\r\\nPlane #2:\\r\\n Name: AF647\\r\\n Component Count: 1\\r\\n Modality: Widefield Fluorescence, Laser Scan Confocal\\r\\n Camera Settings:   Configuration:\\r\\n  \\tDetector mode: Multi-Channel\\r\\n  \\tScanner: Resonant Bidirectional\\r\\n  \\tScan Mode: Band\\r\\n  \\tLine Averaging: 4x\\r\\n  \\tResolution: 1024 x 1024\\r\\n  \\tChannel Series: Minimal Crosstalk\\r\\n  \\tSeries Mode: Line Series\\r\\n  \\t\\tChannel Series Pass 1:\\r\\n  \\t\\t\\t[AF647]\\r\\n  \\t\\tChannel Series Pass 2:\\r\\n  \\t\\t\\t[GFP]\\r\\n  \\r\\n  Components:\\r\\n  Component GFP:\\r\\n  \\tDetector: 2\\r\\n  \\tEmission Range: 499 nm - 551 nm\\r\\n  \\tGain: 30.0\\r\\n  \\tOffset: 0\\r\\n  \\tLaser 488 nm:\\r\\n  \\t\\tEnabled\\r\\n  \\t\\tPower: 6.0\\r\\n  \\r\\n  Component AF647:\\r\\n  \\tDetector: 4\\r\\n  \\tEmission Range: 653 nm - 726 nm\\r\\n  \\tGain: 25.0\\r\\n  \\tOffset: 0\\r\\n  \\tLaser 640 nm:\\r\\n  \\t\\tEnabled\\r\\n  \\t\\tPower: 1.8\\r\\n  \\r\\n  Scan Area:\\r\\n  \\tZoom: 2.00\\r\\n  \\tOffset Y: 0.00\\r\\n  \\r\\n  Misc:\\r\\n  \\tPinhole Size: 17.2 \\xce\\xbcm\\r\\n  \\tDetector Port: Standard\\r\\n  \\tLaser Port: Standard\\r\\n  \\tImage Mode: Normal\\r\\n  \\tFirst DM: 405/488/561/640 (Position 1)\\r\\n  \\tIR Filter Position: Out\\r\\n\\r\\n Microscope Settings:   Microscope: Ti2 Microscope\\r\\n  Nikon Ti2, FilterChanger(Turret-Lo): 6 (Empty)\\r\\n  LightPath: L100\\r\\n  Condenser: 1 (-----)\\r\\n  PFS, mirror: Inserted\\r\\n  Zoom: 1.00x\\r\\nTime Loop: 3\\r\\n- Equidistant (Duration 0 s)\\r\\nZ Stack Loop: 9\\r\\n- Step: 1 \\xc2\\xb5m\\r\\n- Device: Ti2 ZDrive',\n",
       "  b'TextInfoItem_6': b'AX\\r\\nConfiguration:\\r\\n\\tDetector mode: Multi-Channel\\r\\n\\tScanner: Resonant Bidirectional\\r\\n\\tScan Mode: Band\\r\\n\\tLine Averaging: 4x\\r\\n\\tResolution: 1024 x 1024\\r\\n\\tChannel Series: Minimal Crosstalk\\r\\n\\tSeries Mode: Line Series\\r\\n\\t\\tChannel Series Pass 1:\\r\\n\\t\\t\\t[AF647]\\r\\n\\t\\tChannel Series Pass 2:\\r\\n\\t\\t\\t[GFP]\\r\\n\\r\\nComponents:\\r\\nComponent GFP:\\r\\n\\tDetector: 2\\r\\n\\tEmission Range: 499 nm - 551 nm\\r\\n\\tGain: 30.0\\r\\n\\tOffset: 0\\r\\n\\tLaser 488 nm:\\r\\n\\t\\tEnabled\\r\\n\\t\\tPower: 6.0\\r\\n\\r\\nComponent AF647:\\r\\n\\tDetector: 4\\r\\n\\tEmission Range: 653 nm - 726 nm\\r\\n\\tGain: 25.0\\r\\n\\tOffset: 0\\r\\n\\tLaser 640 nm:\\r\\n\\t\\tEnabled\\r\\n\\t\\tPower: 1.8\\r\\n\\r\\nScan Area:\\r\\n\\tZoom: 2.00\\r\\n\\tOffset Y: 0.00\\r\\n\\r\\nMisc:\\r\\n\\tPinhole Size: 17.2 \\xce\\xbcm\\r\\n\\tDetector Port: Standard\\r\\n\\tLaser Port: Standard\\r\\n\\tImage Mode: Normal\\r\\n\\tFirst DM: 405/488/561/640 (Position 1)\\r\\n\\tIR Filter Position: Out\\r\\n',\n",
       "  b'TextInfoItem_7': b'',\n",
       "  b'TextInfoItem_8': b'',\n",
       "  b'TextInfoItem_9': b'10/10/2022  2:58:20 PM',\n",
       "  b'TextInfoItem_10': b'',\n",
       "  b'TextInfoItem_11': b'',\n",
       "  b'TextInfoItem_12': b'',\n",
       "  b'TextInfoItem_13': b'Plan Apo VC 20x DIC N2'}}"
      ]
     },
     "execution_count": 99,
     "metadata": {},
     "output_type": "execute_result"
    }
   ],
   "source": [
    "images.parser._raw_metadata.image_text_info"
   ]
  },
  {
   "cell_type": "code",
   "execution_count": 11,
   "metadata": {},
   "outputs": [
    {
     "name": "stdout",
     "output_type": "stream",
     "text": [
      "TextInfoItem_0 => \n",
      "TextInfoItem_1 => \n",
      "TextInfoItem_2 => \n",
      "TextInfoItem_3 => \n",
      "TextInfoItem_4 => \n",
      "TextInfoItem_5 => Metadata:\n",
      "Dimensions: T(3) x XY(16) x Z(9) x λ(1)\n",
      "Camera Name: AX\n",
      "Numerical Aperture: 0.75\n",
      "Refractive Index: 1\n",
      "Number of Picture Planes: 2\n",
      "Plane #1:\n",
      " Name: GFP\n",
      " Component Count: 1\n",
      " Modality: Widefield Fluorescence, Laser Scan Confocal\n",
      " Camera Settings:   Configuration:\n",
      "  \tDetector mode: Multi-Channel\n",
      "  \tScanner: Resonant Bidirectional\n",
      "  \tScan Mode: Band\n",
      "  \tLine Averaging: 4x\n",
      "  \tResolution: 1024 x 1024\n",
      "  \tChannel Series: Minimal Crosstalk\n",
      "  \tSeries Mode: Line Series\n",
      "  \t\tChannel Series Pass 1:\n",
      "  \t\t\t[AF647]\n",
      "  \t\tChannel Series Pass 2:\n",
      "  \t\t\t[GFP]\n",
      "  \n",
      "  Components:\n",
      "  Component GFP:\n",
      "  \tDetector: 2\n",
      "  \tEmission Range: 499 nm - 551 nm\n",
      "  \tGain: 30.0\n",
      "  \tOffset: 0\n",
      "  \tLaser 488 nm:\n",
      "  \t\tEnabled\n",
      "  \t\tPower: 6.0\n",
      "  \n",
      "  Component AF647:\n",
      "  \tDetector: 4\n",
      "  \tEmission Range: 653 nm - 726 nm\n",
      "  \tGain: 25.0\n",
      "  \tOffset: 0\n",
      "  \tLaser 640 nm:\n",
      "  \t\tEnabled\n",
      "  \t\tPower: 1.8\n",
      "  \n",
      "  Scan Area:\n",
      "  \tZoom: 2.00\n",
      "  \tOffset Y: 0.00\n",
      "  \n",
      "  Misc:\n",
      "  \tPinhole Size: 17.2 μm\n",
      "  \tDetector Port: Standard\n",
      "  \tLaser Port: Standard\n",
      "  \tImage Mode: Normal\n",
      "  \tFirst DM: 405/488/561/640 (Position 1)\n",
      "  \tIR Filter Position: Out\n",
      "\n",
      " Microscope Settings:   Microscope: Ti2 Microscope\n",
      "  Nikon Ti2, FilterChanger(Turret-Lo): 6 (Empty)\n",
      "  LightPath: L100\n",
      "  Condenser: 1 (-----)\n",
      "  PFS, mirror: Inserted\n",
      "  Zoom: 1.00x\n",
      "Plane #2:\n",
      " Name: AF647\n",
      " Component Count: 1\n",
      " Modality: Widefield Fluorescence, Laser Scan Confocal\n",
      " Camera Settings:   Configuration:\n",
      "  \tDetector mode: Multi-Channel\n",
      "  \tScanner: Resonant Bidirectional\n",
      "  \tScan Mode: Band\n",
      "  \tLine Averaging: 4x\n",
      "  \tResolution: 1024 x 1024\n",
      "  \tChannel Series: Minimal Crosstalk\n",
      "  \tSeries Mode: Line Series\n",
      "  \t\tChannel Series Pass 1:\n",
      "  \t\t\t[AF647]\n",
      "  \t\tChannel Series Pass 2:\n",
      "  \t\t\t[GFP]\n",
      "  \n",
      "  Components:\n",
      "  Component GFP:\n",
      "  \tDetector: 2\n",
      "  \tEmission Range: 499 nm - 551 nm\n",
      "  \tGain: 30.0\n",
      "  \tOffset: 0\n",
      "  \tLaser 488 nm:\n",
      "  \t\tEnabled\n",
      "  \t\tPower: 6.0\n",
      "  \n",
      "  Component AF647:\n",
      "  \tDetector: 4\n",
      "  \tEmission Range: 653 nm - 726 nm\n",
      "  \tGain: 25.0\n",
      "  \tOffset: 0\n",
      "  \tLaser 640 nm:\n",
      "  \t\tEnabled\n",
      "  \t\tPower: 1.8\n",
      "  \n",
      "  Scan Area:\n",
      "  \tZoom: 2.00\n",
      "  \tOffset Y: 0.00\n",
      "  \n",
      "  Misc:\n",
      "  \tPinhole Size: 17.2 μm\n",
      "  \tDetector Port: Standard\n",
      "  \tLaser Port: Standard\n",
      "  \tImage Mode: Normal\n",
      "  \tFirst DM: 405/488/561/640 (Position 1)\n",
      "  \tIR Filter Position: Out\n",
      "\n",
      " Microscope Settings:   Microscope: Ti2 Microscope\n",
      "  Nikon Ti2, FilterChanger(Turret-Lo): 6 (Empty)\n",
      "  LightPath: L100\n",
      "  Condenser: 1 (-----)\n",
      "  PFS, mirror: Inserted\n",
      "  Zoom: 1.00x\n",
      "Time Loop: 3\n",
      "- Equidistant (Duration 0 s)\n",
      "Z Stack Loop: 9\n",
      "- Step: 1 µm\n",
      "- Device: Ti2 ZDrive\n",
      "TextInfoItem_6 => AX\n",
      "Configuration:\n",
      "\tDetector mode: Multi-Channel\n",
      "\tScanner: Resonant Bidirectional\n",
      "\tScan Mode: Band\n",
      "\tLine Averaging: 4x\n",
      "\tResolution: 1024 x 1024\n",
      "\tChannel Series: Minimal Crosstalk\n",
      "\tSeries Mode: Line Series\n",
      "\t\tChannel Series Pass 1:\n",
      "\t\t\t[AF647]\n",
      "\t\tChannel Series Pass 2:\n",
      "\t\t\t[GFP]\n",
      "\n",
      "Components:\n",
      "Component GFP:\n",
      "\tDetector: 2\n",
      "\tEmission Range: 499 nm - 551 nm\n",
      "\tGain: 30.0\n",
      "\tOffset: 0\n",
      "\tLaser 488 nm:\n",
      "\t\tEnabled\n",
      "\t\tPower: 6.0\n",
      "\n",
      "Component AF647:\n",
      "\tDetector: 4\n",
      "\tEmission Range: 653 nm - 726 nm\n",
      "\tGain: 25.0\n",
      "\tOffset: 0\n",
      "\tLaser 640 nm:\n",
      "\t\tEnabled\n",
      "\t\tPower: 1.8\n",
      "\n",
      "Scan Area:\n",
      "\tZoom: 2.00\n",
      "\tOffset Y: 0.00\n",
      "\n",
      "Misc:\n",
      "\tPinhole Size: 17.2 μm\n",
      "\tDetector Port: Standard\n",
      "\tLaser Port: Standard\n",
      "\tImage Mode: Normal\n",
      "\tFirst DM: 405/488/561/640 (Position 1)\n",
      "\tIR Filter Position: Out\n",
      "\n",
      "TextInfoItem_7 => \n",
      "TextInfoItem_8 => \n",
      "TextInfoItem_9 => 10/10/2022  2:56:12 PM\n",
      "TextInfoItem_10 => \n",
      "TextInfoItem_11 => \n",
      "TextInfoItem_12 => \n",
      "TextInfoItem_13 => Plan Apo VC 20x DIC N2\n"
     ]
    }
   ],
   "source": [
    "in_file_path = '/srv/scratch/berrylab/z3532965/Nikon_AX_QPI/20221010_BleachChase_POLR2A/20221010_144534_824/WellE05_ChannelGFP,AF647_Seq0000.nd2'\n",
    "images = ND2Reader(in_file_path)\n",
    "for x,y in images.parser._raw_metadata.image_text_info.items():\n",
    "        for i,j in y.items():\n",
    "            print(f\"{i.decode()} => {j.decode()}\")"
   ]
  },
  {
   "cell_type": "code",
   "execution_count": null,
   "metadata": {},
   "outputs": [],
   "source": [
    "_nd2_to_ome_tiff('/srv/scratch/berrylab/z3532965/Nikon_AX_QPI/20221010_BleachChase_POLR2A/20221010_144534_824/WellE05_ChannelGFP,AF647_Seq0000.nd2',\n",
    "                '/srv/scratch/berrylab/z3532965/Nikon_AX_QPI/20221010_BleachChase_POLR2A/20221010_144534_824/OME-TIFF',\n",
    "                '/srv/scratch/berrylab/z3532965/Nikon_AX_QPI/20221010_BleachChase_POLR2A/20221010_144534_824/OME-TIFF-MIP')"
   ]
  },
  {
   "cell_type": "code",
   "execution_count": null,
   "metadata": {},
   "outputs": [],
   "source": [
    "_nd2_to_ome_tiff('/srv/scratch/berrylab/z3532965/Nikon_AX_QPI/20221010_BleachChase_POLR2A/20221010_160654_024/WellE06_ChannelGFP,AF647_Seq0000.nd2',\n",
    "                '/srv/scratch/berrylab/z3532965/Nikon_AX_QPI/20221010_BleachChase_POLR2A/20221010_160654_024/OME-TIFF',\n",
    "                '/srv/scratch/berrylab/z3532965/Nikon_AX_QPI/20221010_BleachChase_POLR2A/20221010_160654_024/OME-TIFF-MIP')"
   ]
  },
  {
   "cell_type": "code",
   "execution_count": null,
   "metadata": {},
   "outputs": [],
   "source": [
    "_nd2_to_ome_tiff('/srv/scratch/berrylab/z3532965/Nikon_AX_QPI/20221010_BleachChase_POLR2A/20221010_160654_024/WellE06_ChannelGFP,AF647_Seq0001.nd2',\n",
    "                '/srv/scratch/berrylab/z3532965/Nikon_AX_QPI/20221010_BleachChase_POLR2A/20221010_160654_024/OME-TIFF',\n",
    "                '/srv/scratch/berrylab/z3532965/Nikon_AX_QPI/20221010_BleachChase_POLR2A/20221010_160654_024/OME-TIFF-MIP')"
   ]
  },
  {
   "cell_type": "code",
   "execution_count": 2,
   "metadata": {},
   "outputs": [
    {
     "ename": "ValueError",
     "evalue": "axes ['c'] do not exist",
     "output_type": "error",
     "traceback": [
      "\u001b[0;31m---------------------------------------------------------------------------\u001b[0m",
      "\u001b[0;31mValueError\u001b[0m                                Traceback (most recent call last)",
      "Input \u001b[0;32mIn [2]\u001b[0m, in \u001b[0;36m<cell line: 1>\u001b[0;34m()\u001b[0m\n\u001b[0;32m----> 1\u001b[0m \u001b[43m_nd2_to_ome_tiff\u001b[49m\u001b[43m(\u001b[49m\u001b[38;5;124;43m'\u001b[39;49m\u001b[38;5;124;43m/srv/scratch/berrylab/z3532965/Nikon_AX_QPI/20221010_BleachChase_POLR2A/20221010_160654_024/WellE06_ChannelGFP_Seq0002.nd2\u001b[39;49m\u001b[38;5;124;43m'\u001b[39;49m\u001b[43m,\u001b[49m\n\u001b[1;32m      2\u001b[0m \u001b[43m                \u001b[49m\u001b[38;5;124;43m'\u001b[39;49m\u001b[38;5;124;43m/srv/scratch/berrylab/z3532965/Nikon_AX_QPI/20221010_BleachChase_POLR2A/20221010_160654_024/OME-TIFF\u001b[39;49m\u001b[38;5;124;43m'\u001b[39;49m\u001b[43m,\u001b[49m\n\u001b[1;32m      3\u001b[0m \u001b[43m                \u001b[49m\u001b[38;5;124;43m'\u001b[39;49m\u001b[38;5;124;43m/srv/scratch/berrylab/z3532965/Nikon_AX_QPI/20221010_BleachChase_POLR2A/20221010_160654_024/OME-TIFF-MIP\u001b[39;49m\u001b[38;5;124;43m'\u001b[39;49m\u001b[43m)\u001b[49m\n",
      "File \u001b[0;32m/srv/scratch/z3532965/src/blimp/blimp/preprocessing/nd2_to_ome_tiff.py:43\u001b[0m, in \u001b[0;36m_nd2_to_ome_tiff\u001b[0;34m(in_file_path, out_path, out_path_mip)\u001b[0m\n\u001b[1;32m     40\u001b[0m images \u001b[38;5;241m=\u001b[39m ND2Reader(in_file_path)\n\u001b[1;32m     41\u001b[0m n_sites \u001b[38;5;241m=\u001b[39m images\u001b[38;5;241m.\u001b[39msizes[\u001b[38;5;124m'\u001b[39m\u001b[38;5;124mv\u001b[39m\u001b[38;5;124m'\u001b[39m]\n\u001b[0;32m---> 43\u001b[0m images\u001b[38;5;241m.\u001b[39mbundle_axes \u001b[38;5;241m=\u001b[39m \u001b[38;5;124m'\u001b[39m\u001b[38;5;124mtczyx\u001b[39m\u001b[38;5;124m'\u001b[39m\n\u001b[1;32m     44\u001b[0m images\u001b[38;5;241m.\u001b[39miter_axes \u001b[38;5;241m=\u001b[39m \u001b[38;5;124m'\u001b[39m\u001b[38;5;124mv\u001b[39m\u001b[38;5;124m'\u001b[39m\n\u001b[1;32m     46\u001b[0m \u001b[38;5;28;01mfor\u001b[39;00m i, img \u001b[38;5;129;01min\u001b[39;00m \u001b[38;5;28menumerate\u001b[39m(images):\n",
      "File \u001b[0;32m/srv/scratch/z3532965/anaconda3/envs/berrylab-default/lib/python3.8/site-packages/pims/base_frames.py:524\u001b[0m, in \u001b[0;36mFramesSequenceND.bundle_axes\u001b[0;34m(self, value)\u001b[0m\n\u001b[1;32m    522\u001b[0m invalid \u001b[38;5;241m=\u001b[39m [k \u001b[38;5;28;01mfor\u001b[39;00m k \u001b[38;5;129;01min\u001b[39;00m value \u001b[38;5;28;01mif\u001b[39;00m k \u001b[38;5;129;01mnot\u001b[39;00m \u001b[38;5;129;01min\u001b[39;00m \u001b[38;5;28mself\u001b[39m\u001b[38;5;241m.\u001b[39m_sizes]\n\u001b[1;32m    523\u001b[0m \u001b[38;5;28;01mif\u001b[39;00m invalid:\n\u001b[0;32m--> 524\u001b[0m     \u001b[38;5;28;01mraise\u001b[39;00m \u001b[38;5;167;01mValueError\u001b[39;00m(\u001b[38;5;124m\"\u001b[39m\u001b[38;5;124maxes \u001b[39m\u001b[38;5;132;01m%r\u001b[39;00m\u001b[38;5;124m do not exist\u001b[39m\u001b[38;5;124m\"\u001b[39m \u001b[38;5;241m%\u001b[39m invalid)\n\u001b[1;32m    526\u001b[0m \u001b[38;5;28;01mfor\u001b[39;00m k \u001b[38;5;129;01min\u001b[39;00m value:\n\u001b[1;32m    527\u001b[0m     \u001b[38;5;28;01mif\u001b[39;00m k \u001b[38;5;129;01min\u001b[39;00m \u001b[38;5;28mself\u001b[39m\u001b[38;5;241m.\u001b[39m_iter_axes:\n",
      "\u001b[0;31mValueError\u001b[0m: axes ['c'] do not exist"
     ]
    }
   ],
   "source": [
    "_nd2_to_ome_tiff('/srv/scratch/berrylab/z3532965/Nikon_AX_QPI/20221010_BleachChase_POLR2A/20221010_160654_024/WellE06_ChannelGFP_Seq0002.nd2',\n",
    "                '/srv/scratch/berrylab/z3532965/Nikon_AX_QPI/20221010_BleachChase_POLR2A/20221010_160654_024/OME-TIFF',\n",
    "                '/srv/scratch/berrylab/z3532965/Nikon_AX_QPI/20221010_BleachChase_POLR2A/20221010_160654_024/OME-TIFF-MIP')"
   ]
  },
  {
   "cell_type": "code",
   "execution_count": 3,
   "metadata": {},
   "outputs": [
    {
     "name": "stderr",
     "output_type": "stream",
     "text": [
      "/srv/scratch/z3532965/anaconda3/envs/berrylab-default/lib/python3.8/site-packages/ome_types/_convenience.py:105: FutureWarning: The default XML parser will be changing from 'xmlschema' to 'lxml' in version 0.4.0.  To silence this warning, please provide the `parser` argument, specifying either 'lxml' (to opt into the new behavior), or'xmlschema' (to retain the old behavior).\n",
      "  d = to_dict(os.fspath(xml), parser=parser, validate=validate)\n"
     ]
    },
    {
     "data": {
      "text/plain": [
       "PosixPath('/srv/scratch/berrylab/z3532965/Nikon_AX_QPI/20221010_BleachChase_POLR2A/20221010_160654_024/OME-TIFF/WellE06_ChannelGFP,AF647_Seq0003_0016.ome.tiff')"
      ]
     },
     "execution_count": 3,
     "metadata": {},
     "output_type": "execute_result"
    }
   ],
   "source": [
    "_nd2_to_ome_tiff('/srv/scratch/berrylab/z3532965/Nikon_AX_QPI/20221010_BleachChase_POLR2A/20221010_160654_024/WellE06_ChannelGFP,AF647_Seq0003.nd2',\n",
    "                '/srv/scratch/berrylab/z3532965/Nikon_AX_QPI/20221010_BleachChase_POLR2A/20221010_160654_024/OME-TIFF',\n",
    "                '/srv/scratch/berrylab/z3532965/Nikon_AX_QPI/20221010_BleachChase_POLR2A/20221010_160654_024/OME-TIFF-MIP')"
   ]
  },
  {
   "cell_type": "code",
   "execution_count": 4,
   "metadata": {},
   "outputs": [
    {
     "data": {
      "text/plain": [
       "PosixPath('/srv/scratch/berrylab/z3532965/Nikon_AX_QPI/20221010_BleachChase_POLR2A/20221010_160654_024/OME-TIFF/WellE06_ChannelGFP,AF647_Seq0004_0016.ome.tiff')"
      ]
     },
     "execution_count": 4,
     "metadata": {},
     "output_type": "execute_result"
    }
   ],
   "source": [
    "_nd2_to_ome_tiff('/srv/scratch/berrylab/z3532965/Nikon_AX_QPI/20221010_BleachChase_POLR2A/20221010_160654_024/WellE06_ChannelGFP,AF647_Seq0004.nd2',\n",
    "                '/srv/scratch/berrylab/z3532965/Nikon_AX_QPI/20221010_BleachChase_POLR2A/20221010_160654_024/OME-TIFF',\n",
    "                '/srv/scratch/berrylab/z3532965/Nikon_AX_QPI/20221010_BleachChase_POLR2A/20221010_160654_024/OME-TIFF-MIP')"
   ]
  },
  {
   "cell_type": "code",
   "execution_count": null,
   "metadata": {},
   "outputs": [],
   "source": []
  }
 ],
 "metadata": {
  "kernelspec": {
   "display_name": "berrylab-jupyter-kernel",
   "language": "python",
   "name": "berrylab-jupyter-kernel"
  },
  "language_info": {
   "codemirror_mode": {
    "name": "ipython",
    "version": 3
   },
   "file_extension": ".py",
   "mimetype": "text/x-python",
   "name": "python",
   "nbconvert_exporter": "python",
   "pygments_lexer": "ipython3",
   "version": "3.8.13"
  }
 },
 "nbformat": 4,
 "nbformat_minor": 4
}
