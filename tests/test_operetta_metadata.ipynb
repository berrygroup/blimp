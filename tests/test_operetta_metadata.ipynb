{
 "cells": [
  {
   "cell_type": "code",
   "execution_count": 1,
   "metadata": {},
   "outputs": [
    {
     "name": "stderr",
     "output_type": "stream",
     "text": [
      "12-Jul-22 23:08:17 - bfio.backends - WARNING  - Java backend is not available. This could be due to a missing dependency (jpype).\n"
     ]
    }
   ],
   "source": [
    "from blimp.preprocessing.operetta_parse_metadata import get_image_metadata, get_plate_metadata\n",
    "from blimp.preprocessing.operetta_to_ome_tiff import _read_images_single_site, _get_zyx_resolution, _aggregate_TCZ_metadata"
   ]
  },
  {
   "cell_type": "code",
   "execution_count": 2,
   "metadata": {},
   "outputs": [],
   "source": [
    "from pathlib import Path\n",
    "in_path = Path(\"/srv/scratch/berrylab/z3532965/operetta_cls/20220617_CellDensityOptim/384well_48h_plate01__2022-06-21T09_40_27/Images/\")"
   ]
  },
  {
   "cell_type": "code",
   "execution_count": 5,
   "metadata": {},
   "outputs": [
    {
     "name": "stdout",
     "output_type": "stream",
     "text": [
      "/srv/scratch/z3532965/tmp.csv\n"
     ]
    },
    {
     "data": {
      "text/html": [
       "<div>\n",
       "<style scoped>\n",
       "    .dataframe tbody tr th:only-of-type {\n",
       "        vertical-align: middle;\n",
       "    }\n",
       "\n",
       "    .dataframe tbody tr th {\n",
       "        vertical-align: top;\n",
       "    }\n",
       "\n",
       "    .dataframe thead th {\n",
       "        text-align: right;\n",
       "    }\n",
       "</style>\n",
       "<table border=\"1\" class=\"dataframe\">\n",
       "  <thead>\n",
       "    <tr style=\"text-align: right;\">\n",
       "      <th></th>\n",
       "      <th>PlateID</th>\n",
       "      <th>MeasurementID</th>\n",
       "      <th>MeasurementStartTime</th>\n",
       "      <th>Name</th>\n",
       "      <th>PlateTypeName</th>\n",
       "      <th>PlateRows</th>\n",
       "      <th>PlateColumns</th>\n",
       "      <th>Well</th>\n",
       "    </tr>\n",
       "  </thead>\n",
       "  <tbody>\n",
       "    <tr>\n",
       "      <th>0</th>\n",
       "      <td>384well_48h_plate01</td>\n",
       "      <td>b7978bbe-ddc1-4eb2-b116-9e9e326a2199</td>\n",
       "      <td>2022-06-21T09:40:27.2172126+10:00</td>\n",
       "      <td>384well_48h_plate01</td>\n",
       "      <td>384 Greiner PS 781091</td>\n",
       "      <td>16</td>\n",
       "      <td>24</td>\n",
       "      <td>None</td>\n",
       "    </tr>\n",
       "  </tbody>\n",
       "</table>\n",
       "</div>"
      ],
      "text/plain": [
       "               PlateID                         MeasurementID  \\\n",
       "0  384well_48h_plate01  b7978bbe-ddc1-4eb2-b116-9e9e326a2199   \n",
       "\n",
       "                MeasurementStartTime                 Name  \\\n",
       "0  2022-06-21T09:40:27.2172126+10:00  384well_48h_plate01   \n",
       "\n",
       "           PlateTypeName PlateRows PlateColumns  Well  \n",
       "0  384 Greiner PS 781091        16           24  None  "
      ]
     },
     "execution_count": 5,
     "metadata": {},
     "output_type": "execute_result"
    }
   ],
   "source": [
    "get_plate_metadata(in_path / \"Index.idx.xml\", out_file = \"/srv/scratch/z3532965/tmp.csv\")\n",
    "#get_image_metadata(in_path / \"Index.idx.xml\", out_file = \"/srv/scratch/z3532965/tmp.csv\")"
   ]
  },
  {
   "cell_type": "code",
   "execution_count": null,
   "metadata": {},
   "outputs": [],
   "source": [
    "image_metadata = get_image_metadata(in_path / \"Index.idx.xml\")\n",
    "image_metadata.query(\"PlaneID==1 & ChannelID==1\")"
   ]
  },
  {
   "cell_type": "code",
   "execution_count": null,
   "metadata": {},
   "outputs": [],
   "source": [
    "image_metadata[[\"Row\",\"Col\",\"StandardFieldID\"]].drop_duplicates()"
   ]
  },
  {
   "cell_type": "code",
   "execution_count": null,
   "metadata": {},
   "outputs": [],
   "source": [
    "from blimp.preprocessing.operetta_to_ome_tiff import _get_metadata_batch\n",
    "_get_metadata_batch(image_metadata,0,120)"
   ]
  },
  {
   "cell_type": "code",
   "execution_count": null,
   "metadata": {},
   "outputs": [],
   "source": [
    "from blimp.preprocessing.operetta_to_ome_tiff import operetta_to_ome_tiff\n",
    "from pathlib import Path\n",
    "\n",
    "in_path = Path(\"/srv/scratch/berrylab/z3532965/operetta_cls/20220515_LiveCellOptim/40x_eGFP_400ms_100pc_Cy5_100ms_50pc_multiwell__2022-06-15T12_39_14/Images\")\n",
    "out_path = Path(\"/srv/scratch/berrylab/z3532965/operetta_cls/20220515_LiveCellOptim/40x_eGFP_400ms_100pc_Cy5_100ms_50pc_multiwell__2022-06-15T12_39_14/OME-TIFF\")\n",
    "\n",
    "#operetta_to_ome_tiff(in_path,\n",
    "#                     out_path,\n",
    "#                     metadata_file=\"Index.idx.xml\",\n",
    "#                     n_batches=10,\n",
    "#                     batch_id=0,\n",
    "#                     mip=True)"
   ]
  },
  {
   "cell_type": "code",
   "execution_count": null,
   "metadata": {},
   "outputs": [],
   "source": [
    "_aggregate_TCZ_metadata(image_metadata,mip=True).query(\n",
    "            \"Row==\" + str(4) + \" & Col==\" + str(3) + \"& StandardFieldID==\" + str(1)).URL\n"
   ]
  },
  {
   "cell_type": "code",
   "execution_count": null,
   "metadata": {},
   "outputs": [],
   "source": [
    "# get average absolute time for each unique imaging site\n",
    "average_AbsTime = image_metadata.groupby([\"Row\",\"Col\",\"FieldID\",\"TimepointID\"])[\"AbsTime\"].mean()\n",
    "image_metadata_no_z = image_metadata.query(\"PlaneID==1 & ChannelID==1\").drop(\n",
    "    labels=[\"ChannelID\",\"ChannelName\",\"ChannelType\",\"MainExcitationWavelength\",\"MainEmissionWavelength\",\n",
    "            \"AbsTime\",\"AbsPositionZ\",\"PositionZ\",\"PlaneID\"],axis=1)"
   ]
  },
  {
   "cell_type": "code",
   "execution_count": null,
   "metadata": {},
   "outputs": [],
   "source": [
    "n_z_planes = image_metadata.groupby([\"Row\",\"Col\",\"FieldID\",\"TimepointID\"])[\"id\"].count()\n",
    "n_z_planes.name = 'nZ'\n",
    "n_channels = image_metadata.groupby([\"Row\",\"Col\",\"FieldID\",\"TimepointID\"])[\"ChannelID\"].max()\n",
    "n_channels.name = 'nC'"
   ]
  },
  {
   "cell_type": "code",
   "execution_count": null,
   "metadata": {},
   "outputs": [],
   "source": [
    "n_z_planes.shape"
   ]
  },
  {
   "cell_type": "code",
   "execution_count": null,
   "metadata": {},
   "outputs": [],
   "source": [
    "image_metadata_no_z.merge(average_AbsTime,on=[\"Row\",\"Col\",\"FieldID\",\"TimepointID\"])"
   ]
  },
  {
   "cell_type": "code",
   "execution_count": null,
   "metadata": {},
   "outputs": [],
   "source": [
    "import pandas as pd\n",
    "pd.merge(image_metadata_no_z,average_AbsTime,on=[\"Row\",\"Col\",\"FieldID\",\"TimepointID\"],how='left')"
   ]
  },
  {
   "cell_type": "code",
   "execution_count": null,
   "metadata": {},
   "outputs": [],
   "source": [
    "OPERETTA_REGEX = 'r(?P<Row>\\d+)c(?P<Col>\\d+)f(?P<FieldID>\\d+)p(?P<PlaneID>\\d+)-ch(?P<ChannelID>\\d+)sk(?P<TimepointID>\\d+)(?P<End>fk\\d+fl\\d+)'"
   ]
  },
  {
   "cell_type": "code",
   "execution_count": null,
   "metadata": {},
   "outputs": [],
   "source": [
    "import re\n",
    "p = re.compile(OPERETTA_REGEX)\n",
    "\n",
    "def _remove_TCZ_filename(pattern,filename,mip=False):\n",
    "    m = pattern.match(filename)\n",
    "    new_filename = 'r' + m.group('Row') + \\\n",
    "                   'c' + m.group('Col') + \\\n",
    "                   'f' + m.group('FieldID') + \\\n",
    "                   '-' + m.group('End') \n",
    "    if mip: \n",
    "        new_filename += '-mip.ome.tiff'\n",
    "    else:\n",
    "        new_filename += '.ome.tiff'\n",
    "    return(new_filename)\n",
    "\n",
    "filename = 'r07c06f03p01-ch1sk1fk1fl1.tiff'\n",
    "_remove_TCZ_filename(p,filename,mip=True)\n"
   ]
  },
  {
   "cell_type": "code",
   "execution_count": null,
   "metadata": {},
   "outputs": [],
   "source": [
    "p = re.compile('(a)b')\n",
    "m = p.match('ab')\n",
    "m.group()\n"
   ]
  },
  {
   "cell_type": "code",
   "execution_count": null,
   "metadata": {},
   "outputs": [],
   "source": [
    "images = _read_images_single_site(\n",
    "    in_path,image_metadata,\n",
    "    3,2,1,1,0)"
   ]
  },
  {
   "cell_type": "code",
   "execution_count": null,
   "metadata": {},
   "outputs": [],
   "source": [
    "import numpy as np\n",
    "np.concatenate([img.data for img in images],axis=2).max(axis=2,keepdims=True).shape"
   ]
  },
  {
   "cell_type": "code",
   "execution_count": null,
   "metadata": {},
   "outputs": [],
   "source": [
    "import numpy as np\n",
    "\n",
    "# get unique sites\n",
    "timepoints = image_metadata[[\"TimepointID\"]].drop_duplicates()\n",
    "sites = image_metadata[[\"Row\",\"Col\",\"StandardFieldID\"]].drop_duplicates()[:1]\n",
    "channels = image_metadata[[\"ChannelID\"]].drop_duplicates()\n",
    "\n",
    "for site_index, site in sites.iterrows():\n",
    "    multi_timepoint_img=[]\n",
    "    for timepoint_index, timepoint in timepoints.iterrows():\n",
    "        multi_channel_img=[]\n",
    "        for channel_index, channel in channels.iterrows():\n",
    "            imgs = read_images_single_site(\n",
    "                in_path,image_metadata,\n",
    "                site.Row,site.Col,site.StandardFieldID,channel.ChannelID,timepoint.TimepointID\n",
    "            )\n",
    "            # combine z-planes (axis 2)\n",
    "            multi_channel_img.append(np.concatenate([img.data for img in imgs],axis=2))\n",
    "        # combine channels (axis 1)\n",
    "        multi_timepoint_img.append(np.concatenate(multi_channel_img,axis=1))\n",
    "    # combine timepoints (axis 0)\n",
    "    multi_timepoint_img = np.concatenate(multi_timepoint_img,axis=0)\n"
   ]
  },
  {
   "cell_type": "code",
   "execution_count": null,
   "metadata": {},
   "outputs": [],
   "source": [
    "image_metadata[[\"ChannelID\"]].drop_duplicates()"
   ]
  },
  {
   "cell_type": "code",
   "execution_count": null,
   "metadata": {},
   "outputs": [],
   "source": [
    "sites = image_metadata[[\"Row\",\"Col\",\"StandardFieldID\"]].drop_duplicates()"
   ]
  },
  {
   "cell_type": "code",
   "execution_count": null,
   "metadata": {},
   "outputs": [],
   "source": [
    "sites"
   ]
  },
  {
   "cell_type": "code",
   "execution_count": null,
   "metadata": {},
   "outputs": [],
   "source": [
    "multi_timepoint_img.shape"
   ]
  },
  {
   "cell_type": "code",
   "execution_count": null,
   "metadata": {},
   "outputs": [],
   "source": [
    "query = \"Row==\" + str(3) + \\\n",
    "        \" & Col==\" + str(3) + \\\n",
    "        \" & StandardFieldID==\" + str(1) + \\\n",
    "        \" & ChannelID==\" + str(1) + \\\n",
    "        \" & TimepointID==\" + str(0)\n",
    "    \n",
    "xyz = image_metadata.query(query)[[\"ImageResolutionX\",\"ImageResolutionY\",\"AbsPositionZ\"]].drop_duplicates()\n",
    "\n",
    "#image_resolution_x = xyz.ImageResolutionX[0]\n",
    "#image_resolution_y = xyz.ImageResolutionY[0]\n",
    "#image_resolution_z = (xyz.AbsPositionZ.max() - xyz.AbsPositionZ.min()) / (xyz.shape[0]-1)"
   ]
  },
  {
   "cell_type": "code",
   "execution_count": null,
   "metadata": {},
   "outputs": [],
   "source": [
    "xyz.ImageResolutionX.iloc[1]"
   ]
  },
  {
   "cell_type": "code",
   "execution_count": null,
   "metadata": {},
   "outputs": [],
   "source": [
    "z_resolution = get_zyx_resolution(image_metadata,3,3,1,1,0)"
   ]
  },
  {
   "cell_type": "code",
   "execution_count": null,
   "metadata": {},
   "outputs": [],
   "source": [
    "z_resolution"
   ]
  },
  {
   "cell_type": "code",
   "execution_count": null,
   "metadata": {},
   "outputs": [],
   "source": [
    "from aicsimageio.writers import OmeTiffWriter\n",
    "from aicsimageio.types import PhysicalPixelSizes\n",
    "\n",
    "# List of strings representing the names of the data channels\n",
    "channel_names = image_metadata[[\"ChannelID\",\"ChannelName\"]].drop_duplicates().sort_values(\n",
    "        by=[\"ChannelID\"]\n",
    "    ).ChannelName.tolist()"
   ]
  },
  {
   "cell_type": "code",
   "execution_count": null,
   "metadata": {},
   "outputs": [],
   "source": [
    "zyx = get_zyx_resolution(image_metadata,3,3,1,1,0)\n",
    "OmeTiffWriter.save(\n",
    "    data = multi_timepoint_img,\n",
    "    uri = \"file.ome.tif\",\n",
    "    dim_order=\"TCZYX\",\n",
    "    channel_names=channel_names,\n",
    "    physical_pixel_sizes=z_resolution,\n",
    "    parser='lxml'\n",
    ")"
   ]
  },
  {
   "cell_type": "code",
   "execution_count": null,
   "metadata": {},
   "outputs": [],
   "source": [
    "[np.uint16,np.uint8,np.uint16,np.uint16,np.uint16]"
   ]
  },
  {
   "cell_type": "code",
   "execution_count": null,
   "metadata": {},
   "outputs": [],
   "source": [
    "zyx = get_zyx_resolution(image_metadata,3,3,1,1,0)"
   ]
  },
  {
   "cell_type": "code",
   "execution_count": null,
   "metadata": {},
   "outputs": [],
   "source": [
    "filename_list = image_metadata.sort_values(\n",
    "        by=[\"TimepointID\",\"ChannelID\",\"Row\",\"Col\",\"StandardFieldID\",\"AbsPositionZ\"]\n",
    "    ).query(query).URL.tolist()"
   ]
  },
  {
   "cell_type": "code",
   "execution_count": null,
   "metadata": {},
   "outputs": [],
   "source": [
    "image_metadata.URL"
   ]
  },
  {
   "cell_type": "code",
   "execution_count": null,
   "metadata": {},
   "outputs": [],
   "source": []
  }
 ],
 "metadata": {
  "kernelspec": {
   "display_name": "berrylab-jupyter-kernel",
   "language": "python",
   "name": "berrylab-jupyter-kernel"
  },
  "language_info": {
   "codemirror_mode": {
    "name": "ipython",
    "version": 3
   },
   "file_extension": ".py",
   "mimetype": "text/x-python",
   "name": "python",
   "nbconvert_exporter": "python",
   "pygments_lexer": "ipython3",
   "version": "3.8.13"
  }
 },
 "nbformat": 4,
 "nbformat_minor": 4
}
